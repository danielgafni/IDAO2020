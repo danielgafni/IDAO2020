{
 "cells": [
  {
   "cell_type": "markdown",
   "metadata": {},
   "source": [
    "# Imports"
   ]
  },
  {
   "cell_type": "code",
   "execution_count": 1,
   "metadata": {
    "ExecuteTime": {
     "end_time": "2020-02-06T12:08:30.020356Z",
     "start_time": "2020-02-06T12:08:26.371049Z"
    }
   },
   "outputs": [],
   "source": [
    "import pandas as pd\n",
    "import numpy as np\n",
    "from matplotlib import pyplot as plt\n",
    "import torch\n",
    "from torch.utils.data import Dataset, DataLoader\n",
    "import plotly.graph_objs as go\n",
    "from sklearn.model_selection import train_test_split\n",
    "from sklearn.preprocessing import LabelEncoder, StandardScaler\n",
    "from utils import CustomDataset, smape, process, features, targets, spherical_from_cartesian\n",
    "from models import BaselineNN, LSTM, ResNet18\n",
    "from tqdm.notebook import tqdm\n",
    "from IPython.display import clear_output, display\n",
    "import ipywidgets as widgets\n",
    "import os\n",
    "import spaceopt"
   ]
  },
  {
   "cell_type": "markdown",
   "metadata": {},
   "source": [
    "# Loading data"
   ]
  },
  {
   "cell_type": "code",
   "execution_count": 2,
   "metadata": {
    "ExecuteTime": {
     "end_time": "2020-02-06T12:08:34.314045Z",
     "start_time": "2020-02-06T12:08:30.028330Z"
    }
   },
   "outputs": [],
   "source": [
    "data = pd.read_csv('train.csv', parse_dates=['epoch'])"
   ]
  },
  {
   "cell_type": "markdown",
   "metadata": {},
   "source": [
    "# Data processing"
   ]
  },
  {
   "cell_type": "code",
   "execution_count": 3,
   "metadata": {
    "ExecuteTime": {
     "end_time": "2020-02-06T12:08:44.610322Z",
     "start_time": "2020-02-06T12:08:34.320706Z"
    }
   },
   "outputs": [],
   "source": [
    "sat_datas_train, sat_datas_test = process(data)"
   ]
  },
  {
   "cell_type": "code",
   "execution_count": 4,
   "metadata": {
    "ExecuteTime": {
     "end_time": "2020-02-06T12:08:44.653896Z",
     "start_time": "2020-02-06T12:08:44.612375Z"
    }
   },
   "outputs": [
    {
     "data": {
      "text/html": [
       "<div>\n",
       "<style scoped>\n",
       "    .dataframe tbody tr th:only-of-type {\n",
       "        vertical-align: middle;\n",
       "    }\n",
       "\n",
       "    .dataframe tbody tr th {\n",
       "        vertical-align: top;\n",
       "    }\n",
       "\n",
       "    .dataframe thead th {\n",
       "        text-align: right;\n",
       "    }\n",
       "</style>\n",
       "<table border=\"1\" class=\"dataframe\">\n",
       "  <thead>\n",
       "    <tr style=\"text-align: right;\">\n",
       "      <th></th>\n",
       "      <th>epoch</th>\n",
       "      <th>x</th>\n",
       "      <th>y</th>\n",
       "      <th>z</th>\n",
       "      <th>Vx</th>\n",
       "      <th>Vy</th>\n",
       "      <th>Vz</th>\n",
       "      <th>x_sim</th>\n",
       "      <th>y_sim</th>\n",
       "      <th>z_sim</th>\n",
       "      <th>Vx_sim</th>\n",
       "      <th>Vy_sim</th>\n",
       "      <th>Vz_sim</th>\n",
       "      <th>ro_sim</th>\n",
       "      <th>theta_sim</th>\n",
       "      <th>fi_sim</th>\n",
       "      <th>dro/dt_sim</th>\n",
       "      <th>dtheta/dt_sim</th>\n",
       "      <th>dfi/dt_sim</th>\n",
       "    </tr>\n",
       "  </thead>\n",
       "  <tbody>\n",
       "    <tr>\n",
       "      <th>0</th>\n",
       "      <td>-1.730756</td>\n",
       "      <td>-8855.823863</td>\n",
       "      <td>13117.780146</td>\n",
       "      <td>-20728.353233</td>\n",
       "      <td>-0.908303</td>\n",
       "      <td>-3.808436</td>\n",
       "      <td>-2.022083</td>\n",
       "      <td>-0.311082</td>\n",
       "      <td>0.500388</td>\n",
       "      <td>-0.999704</td>\n",
       "      <td>-0.343891</td>\n",
       "      <td>-1.463405</td>\n",
       "      <td>-0.957448</td>\n",
       "      <td>-0.259073</td>\n",
       "      <td>0.430197</td>\n",
       "      <td>-1.291078</td>\n",
       "      <td>-0.004444</td>\n",
       "      <td>-0.937090</td>\n",
       "      <td>0.747771</td>\n",
       "    </tr>\n",
       "    <tr>\n",
       "      <th>1</th>\n",
       "      <td>-1.727132</td>\n",
       "      <td>-10567.672384</td>\n",
       "      <td>1619.746066</td>\n",
       "      <td>-24451.813271</td>\n",
       "      <td>-0.302590</td>\n",
       "      <td>-4.272617</td>\n",
       "      <td>-0.612796</td>\n",
       "      <td>-0.378567</td>\n",
       "      <td>0.051732</td>\n",
       "      <td>-1.180247</td>\n",
       "      <td>-0.114952</td>\n",
       "      <td>-1.642185</td>\n",
       "      <td>-0.291497</td>\n",
       "      <td>-0.235384</td>\n",
       "      <td>0.511332</td>\n",
       "      <td>-1.908559</td>\n",
       "      <td>0.434614</td>\n",
       "      <td>-1.353263</td>\n",
       "      <td>0.125439</td>\n",
       "    </tr>\n",
       "    <tr>\n",
       "      <th>2</th>\n",
       "      <td>-1.723508</td>\n",
       "      <td>-10578.684043</td>\n",
       "      <td>-10180.467460</td>\n",
       "      <td>-24238.280949</td>\n",
       "      <td>0.277435</td>\n",
       "      <td>-4.047522</td>\n",
       "      <td>0.723155</td>\n",
       "      <td>-0.379212</td>\n",
       "      <td>-0.408885</td>\n",
       "      <td>-1.170478</td>\n",
       "      <td>0.104417</td>\n",
       "      <td>-1.556416</td>\n",
       "      <td>0.340189</td>\n",
       "      <td>-0.171059</td>\n",
       "      <td>0.478890</td>\n",
       "      <td>1.416777</td>\n",
       "      <td>0.757259</td>\n",
       "      <td>-1.006825</td>\n",
       "      <td>-0.538343</td>\n",
       "    </tr>\n",
       "    <tr>\n",
       "      <th>3</th>\n",
       "      <td>-1.719884</td>\n",
       "      <td>-9148.251857</td>\n",
       "      <td>-20651.437460</td>\n",
       "      <td>-20720.381279</td>\n",
       "      <td>0.715600</td>\n",
       "      <td>-3.373762</td>\n",
       "      <td>1.722115</td>\n",
       "      <td>-0.323161</td>\n",
       "      <td>-0.817838</td>\n",
       "      <td>-1.000836</td>\n",
       "      <td>0.270316</td>\n",
       "      <td>-1.298146</td>\n",
       "      <td>0.813059</td>\n",
       "      <td>-0.080953</td>\n",
       "      <td>0.373143</td>\n",
       "      <td>0.937656</td>\n",
       "      <td>0.927449</td>\n",
       "      <td>-0.680071</td>\n",
       "      <td>-0.604404</td>\n",
       "    </tr>\n",
       "    <tr>\n",
       "      <th>4</th>\n",
       "      <td>-1.716260</td>\n",
       "      <td>-6719.092336</td>\n",
       "      <td>-28929.061629</td>\n",
       "      <td>-14938.907967</td>\n",
       "      <td>0.992507</td>\n",
       "      <td>-2.519732</td>\n",
       "      <td>2.344703</td>\n",
       "      <td>-0.227778</td>\n",
       "      <td>-1.141341</td>\n",
       "      <td>-0.721533</td>\n",
       "      <td>0.375320</td>\n",
       "      <td>-0.970269</td>\n",
       "      <td>1.108234</td>\n",
       "      <td>0.020066</td>\n",
       "      <td>0.240443</td>\n",
       "      <td>0.552240</td>\n",
       "      <td>0.972421</td>\n",
       "      <td>-0.534778</td>\n",
       "      <td>-0.546743</td>\n",
       "    </tr>\n",
       "  </tbody>\n",
       "</table>\n",
       "</div>"
      ],
      "text/plain": [
       "      epoch             x             y             z        Vx        Vy  \\\n",
       "0 -1.730756  -8855.823863  13117.780146 -20728.353233 -0.908303 -3.808436   \n",
       "1 -1.727132 -10567.672384   1619.746066 -24451.813271 -0.302590 -4.272617   \n",
       "2 -1.723508 -10578.684043 -10180.467460 -24238.280949  0.277435 -4.047522   \n",
       "3 -1.719884  -9148.251857 -20651.437460 -20720.381279  0.715600 -3.373762   \n",
       "4 -1.716260  -6719.092336 -28929.061629 -14938.907967  0.992507 -2.519732   \n",
       "\n",
       "         Vz     x_sim     y_sim     z_sim    Vx_sim    Vy_sim    Vz_sim  \\\n",
       "0 -2.022083 -0.311082  0.500388 -0.999704 -0.343891 -1.463405 -0.957448   \n",
       "1 -0.612796 -0.378567  0.051732 -1.180247 -0.114952 -1.642185 -0.291497   \n",
       "2  0.723155 -0.379212 -0.408885 -1.170478  0.104417 -1.556416  0.340189   \n",
       "3  1.722115 -0.323161 -0.817838 -1.000836  0.270316 -1.298146  0.813059   \n",
       "4  2.344703 -0.227778 -1.141341 -0.721533  0.375320 -0.970269  1.108234   \n",
       "\n",
       "     ro_sim  theta_sim    fi_sim  dro/dt_sim  dtheta/dt_sim  dfi/dt_sim  \n",
       "0 -0.259073   0.430197 -1.291078   -0.004444      -0.937090    0.747771  \n",
       "1 -0.235384   0.511332 -1.908559    0.434614      -1.353263    0.125439  \n",
       "2 -0.171059   0.478890  1.416777    0.757259      -1.006825   -0.538343  \n",
       "3 -0.080953   0.373143  0.937656    0.927449      -0.680071   -0.604404  \n",
       "4  0.020066   0.240443  0.552240    0.972421      -0.534778   -0.546743  "
      ]
     },
     "execution_count": 4,
     "metadata": {},
     "output_type": "execute_result"
    }
   ],
   "source": [
    "sat_datas_train[0].head()"
   ]
  },
  {
   "cell_type": "markdown",
   "metadata": {},
   "source": [
    "# Model"
   ]
  },
  {
   "cell_type": "code",
   "execution_count": 34,
   "metadata": {
    "ExecuteTime": {
     "end_time": "2020-02-06T12:15:09.470832Z",
     "start_time": "2020-02-06T12:15:09.466110Z"
    }
   },
   "outputs": [],
   "source": [
    "seq_len = 20\n",
    "hidden_dim = 200\n",
    "model = LSTM(hidden_dim=hidden_dim, seq_len=seq_len)\n",
    "optimizer = torch.optim.Adam(params=model.parameters(), lr=0.001, eps=1e-8)\n",
    "criterion = smape"
   ]
  },
  {
   "cell_type": "markdown",
   "metadata": {},
   "source": [
    "# Train"
   ]
  },
  {
   "cell_type": "code",
   "execution_count": 35,
   "metadata": {
    "ExecuteTime": {
     "end_time": "2020-02-06T12:15:09.899153Z",
     "start_time": "2020-02-06T12:15:09.895773Z"
    }
   },
   "outputs": [],
   "source": [
    "# train_data = sat_datas_train[0]\n",
    "# x_train = train_data[features]\n",
    "# y_train = train_data[targets]\n",
    "# train_dataset = CustomDataset(x_train, y_train, seq_len=seq_len)\n",
    "# batch_size=10\n",
    "# train_dataloader = DataLoader(train_dataset, batch_size=batch_size, shuffle=True)\n",
    "# seq_train_x, train_y = next(iter(train_dataloader))\n",
    "# model.zero_grad()  # refresh gradients\n",
    "# model.init_hidden_cell(input_dim=13, hidden_dim=100)\n",
    "# predictions = model(seq_train_x)\n",
    "# loss = criterion(predictions, train_y)"
   ]
  },
  {
   "cell_type": "code",
   "execution_count": null,
   "metadata": {
    "ExecuteTime": {
     "start_time": "2020-02-06T12:15:10.314Z"
    }
   },
   "outputs": [
    {
     "data": {
      "application/vnd.jupyter.widget-view+json": {
       "model_id": "1439acce4afe42baa44e04dee5c80b95",
       "version_major": 2,
       "version_minor": 0
      },
      "text/plain": [
       "FloatProgress(value=0.0, description='Loss', max=1.0)"
      ]
     },
     "metadata": {},
     "output_type": "display_data"
    },
    {
     "data": {
      "application/vnd.jupyter.widget-view+json": {
       "model_id": "b644ce4f068a404f9b35beb9657540d5",
       "version_major": 2,
       "version_minor": 0
      },
      "text/plain": [
       "HBox(children=(FloatProgress(value=0.0, description='sattelite number', max=600.0, style=ProgressStyle(descrip…"
      ]
     },
     "metadata": {},
     "output_type": "display_data"
    }
   ],
   "source": [
    "loss_widget = widgets.FloatProgress(min=0, max=1, step=0.01, description='Loss', value=0)  # jupyter widget\n",
    "display(loss_widget)\n",
    "desc = 'satellite number'\n",
    "EPOCH = 10\n",
    "if not os.path.exists('models'):\n",
    "    os.makedirs('models')\n",
    "for epoch in range(EPOCH):\n",
    "    for i, train_data in tqdm(enumerate(sat_datas_train), desc='sattelite number',\n",
    "                              total=len(sat_datas_train)):\n",
    "        x_train = train_data[features]\n",
    "        y_train = train_data[targets]\n",
    "        train_dataset = CustomDataset(x_train, y_train, seq_len=seq_len)\n",
    "        train_dataloader = DataLoader(train_dataset, batch_size=10, shuffle=True)\n",
    "        for seq_train_x, seq_train_y in train_dataloader:\n",
    "            model.zero_grad()  # refresh gradients\n",
    "            model.init_hidden_cell()\n",
    "            predictions = model(seq_train_x)\n",
    "            loss = criterion(predictions, seq_train_y[:, -1, :])\n",
    "            loss_widget.value = loss\n",
    "            loss.backward()  # compute gradients\n",
    "            optimizer.step()  # update network parameters\n",
    "#     torch.save(model.state_dict(), f'models//lstm-3_{i}.pt')"
   ]
  },
  {
   "cell_type": "code",
   "execution_count": 32,
   "metadata": {
    "ExecuteTime": {
     "end_time": "2020-02-06T12:14:52.728104Z",
     "start_time": "2020-02-06T12:14:52.724509Z"
    }
   },
   "outputs": [
    {
     "data": {
      "text/plain": [
       "torch.Size([10, 6])"
      ]
     },
     "execution_count": 32,
     "metadata": {},
     "output_type": "execute_result"
    }
   ],
   "source": [
    "seq_train_y[:, -1, :].shape"
   ]
  },
  {
   "cell_type": "code",
   "execution_count": null,
   "metadata": {
    "ExecuteTime": {
     "end_time": "2020-02-06T12:08:45.564618Z",
     "start_time": "2020-02-06T12:08:26.385Z"
    }
   },
   "outputs": [],
   "source": [
    "search_space = {\n",
    "    'lr': [0.001, 0.01, 0.1, 1.],\n",
    "    'eps': [1e-8, 1e-6, 1e-4, 1e-2, 1.],\n",
    "    'seq_len': [2, 3, 5, 10, 20, 30],\n",
    "    'hidden_dim': [13, 26, 50, 100]\n",
    "}"
   ]
  },
  {
   "cell_type": "code",
   "execution_count": null,
   "metadata": {
    "ExecuteTime": {
     "end_time": "2020-02-06T12:08:45.568510Z",
     "start_time": "2020-02-06T12:08:26.389Z"
    }
   },
   "outputs": [],
   "source": [
    "def evaluate(point):\n",
    "    seq_len = point['seq_len']  # TODO: search\n",
    "    criterion = smape\n",
    "    loss_widget = widgets.FloatProgress(min=0, max=1, step=0.01, description='Loss', value=0)  # jupyter widget\n",
    "    display(loss_widget)\n",
    "    desc = 'satellite number'\n",
    "    EPOCH = 50\n",
    "    model = LSTM(point['hidden_dim'], seq_len=seq_len)  # TODO: search\n",
    "    model.train()\n",
    "    optimizer = torch.optim.Adam(model.parameters(), lr=point['lr'], eps=point['eps'])  # TODO: search\n",
    "    train_data = next(iter(sat_datas_train))\n",
    "    x_train = train_data[features]\n",
    "    y_train = train_data[targets]\n",
    "    train_dataset = CustomDataset(x_train, y_train, seq_len=seq_len)\n",
    "    train_dataloader = DataLoader(train_dataset, batch_size=10, shuffle=True)\n",
    "    for epoch in range(EPOCH):\n",
    "        for seq_train_x, train_y in train_dataloader:\n",
    "            model.zero_grad()  # refresh gradients\n",
    "            predictions = model(seq_train_x)\n",
    "            loss = criterion(predictions, train_y)\n",
    "            loss_widget.value = loss\n",
    "            loss.backward()  # compute gradients\n",
    "            optimizer.step()  # update network parameters\n",
    "    model.eval()\n",
    "    score_widget = widgets.FloatProgress(min=0, max=1, step=0.01, description='Score', value=0)\n",
    "    display(score_widget)\n",
    "    loss_sum = 0\n",
    "    i = 0\n",
    "    test_data = next(iter(sat_datas_test))\n",
    "    with torch.no_grad():\n",
    "        x_test = test_data[features]\n",
    "        y_test = test_data[targets]\n",
    "        test_dataset = CustomDataset(x_test, y_test, seq_len=seq_len)\n",
    "        test_dataloader = DataLoader(test_dataset, batch_size=10, shuffle=True)\n",
    "\n",
    "        for seq_test_x, test_y in train_dataloader:\n",
    "            predictions = model(seq_test_x)\n",
    "            loss = criterion(predictions, test_y)\n",
    "            loss_sum += loss\n",
    "            i += 1\n",
    "            score = 1 - loss_sum / i\n",
    "            score_widget.value = score\n",
    "            score_widget.description = f'Score: {round(score.item(), 2)}'\n",
    "            \n",
    "    return score.item()"
   ]
  },
  {
   "cell_type": "code",
   "execution_count": null,
   "metadata": {
    "ExecuteTime": {
     "end_time": "2020-02-06T12:08:45.576246Z",
     "start_time": "2020-02-06T12:08:26.392Z"
    }
   },
   "outputs": [],
   "source": [
    "from spaceopt import SpaceOpt\n",
    "\n",
    "spaceopt = SpaceOpt(search_space=search_space,\n",
    "                    target_name='score',\n",
    "                    objective='max')"
   ]
  },
  {
   "cell_type": "code",
   "execution_count": null,
   "metadata": {
    "ExecuteTime": {
     "end_time": "2020-02-06T12:08:45.583048Z",
     "start_time": "2020-02-06T12:08:26.394Z"
    }
   },
   "outputs": [],
   "source": [
    "for iteration in range(200):\n",
    "    clear_output()\n",
    "    print(f'Iteration: {iteration}')\n",
    "    if iteration < 20:\n",
    "        spoint = spaceopt.get_random()   # exploration\n",
    "    else:\n",
    "        spoint = spaceopt.fit_predict()  # exploitation\n",
    "    print(spoint)\n",
    "    spoint['score'] = evaluate(spoint)\n",
    "    spaceopt.append_evaluated_spoint(spoint)"
   ]
  },
  {
   "cell_type": "code",
   "execution_count": null,
   "metadata": {
    "ExecuteTime": {
     "end_time": "2020-02-06T12:08:45.587525Z",
     "start_time": "2020-02-06T12:08:26.397Z"
    }
   },
   "outputs": [],
   "source": [
    "train_data = next(iter(sat_datas_train))\n",
    "x_train = train_data[features]\n",
    "y_train = train_data[targets]\n",
    "train_dataset = CustomDataset(x_train, y_train, seq_len=13)\n",
    "train_dataloader = DataLoader(train_dataset, batch_size=10, shuffle=True)\n",
    "for epoch in range(10):\n",
    "    for seq_train_x, train_y in train_dataloader:\n",
    "        print(seq_train_x.shape)\n",
    "        break"
   ]
  },
  {
   "cell_type": "markdown",
   "metadata": {
    "ExecuteTime": {
     "end_time": "2020-02-03T23:06:38.341928Z",
     "start_time": "2020-02-03T23:06:38.336155Z"
    }
   },
   "source": [
    "# Test"
   ]
  },
  {
   "cell_type": "code",
   "execution_count": null,
   "metadata": {
    "ExecuteTime": {
     "end_time": "2020-02-06T12:08:45.596831Z",
     "start_time": "2020-02-06T12:08:26.400Z"
    }
   },
   "outputs": [],
   "source": [
    "model.eval()\n",
    "score_widget = widgets.FloatProgress(min=0, max=1, step=0.01, description='Score', value=0)\n",
    "display(score_widget)\n",
    "loss_sum = 0\n",
    "i = 0\n",
    "with torch.no_grad():\n",
    "    for test_data in tqdm(sat_datas_test, desc='sattelite number'):\n",
    "        x_test = test_data[features]\n",
    "        y_test = test_data[targets]\n",
    "        test_dataset = CustomDataset(x_test, y_test, seq_len=seq_len)\n",
    "        test_dataloader = DataLoader(test_dataset, batch_size=10, shuffle=True)\n",
    "\n",
    "        for seq_test_x, test_y in train_dataloader:\n",
    "            predictions = model(seq_test_x)\n",
    "            loss = criterion(predictions, test_y)\n",
    "            loss_sum += loss\n",
    "            i += 1\n",
    "            score = 1 - loss_sum / i\n",
    "            score_widget.value = score\n",
    "            score_widget.description = f'Score: {round(score.item(), 2)}'"
   ]
  },
  {
   "cell_type": "code",
   "execution_count": null,
   "metadata": {
    "ExecuteTime": {
     "end_time": "2020-02-06T12:08:45.602164Z",
     "start_time": "2020-02-06T12:08:26.402Z"
    }
   },
   "outputs": [],
   "source": [
    "torch.save(model.state_dict(), 'LSTM-5.pt')"
   ]
  },
  {
   "cell_type": "code",
   "execution_count": null,
   "metadata": {
    "ExecuteTime": {
     "end_time": "2020-02-05T23:01:33.569014Z",
     "start_time": "2020-02-05T23:01:33.556503Z"
    }
   },
   "outputs": [],
   "source": []
  },
  {
   "cell_type": "code",
   "execution_count": null,
   "metadata": {
    "ExecuteTime": {
     "end_time": "2020-02-03T22:50:18.193531Z",
     "start_time": "2020-02-03T22:50:18.081176Z"
    }
   },
   "outputs": [],
   "source": []
  },
  {
   "cell_type": "code",
   "execution_count": null,
   "metadata": {
    "ExecuteTime": {
     "end_time": "2020-02-03T22:52:39.840801Z",
     "start_time": "2020-02-03T22:50:18.198970Z"
    }
   },
   "outputs": [],
   "source": []
  },
  {
   "cell_type": "code",
   "execution_count": null,
   "metadata": {
    "ExecuteTime": {
     "end_time": "2020-02-05T19:03:51.767288Z",
     "start_time": "2020-02-05T19:03:51.536479Z"
    }
   },
   "outputs": [],
   "source": []
  },
  {
   "cell_type": "code",
   "execution_count": null,
   "metadata": {
    "ExecuteTime": {
     "end_time": "2020-02-06T12:08:45.608242Z",
     "start_time": "2020-02-06T12:08:26.409Z"
    }
   },
   "outputs": [],
   "source": [
    "model.eval()\n",
    "y_pred = model(x_test)\n",
    "after_train = criterion(y_pred.squeeze(), y_test) \n",
    "print('Test loss after Training' , after_train.item())"
   ]
  },
  {
   "cell_type": "code",
   "execution_count": null,
   "metadata": {
    "ExecuteTime": {
     "start_time": "2020-02-03T01:54:02.426Z"
    }
   },
   "outputs": [],
   "source": []
  },
  {
   "cell_type": "code",
   "execution_count": null,
   "metadata": {
    "ExecuteTime": {
     "end_time": "2020-02-06T12:08:45.616392Z",
     "start_time": "2020-02-06T12:08:26.412Z"
    }
   },
   "outputs": [],
   "source": [
    "y_pred.shape"
   ]
  },
  {
   "cell_type": "code",
   "execution_count": null,
   "metadata": {
    "ExecuteTime": {
     "end_time": "2020-02-02T19:59:30.941239Z",
     "start_time": "2020-02-02T19:59:30.925435Z"
    }
   },
   "outputs": [],
   "source": []
  },
  {
   "cell_type": "code",
   "execution_count": null,
   "metadata": {},
   "outputs": [],
   "source": []
  }
 ],
 "metadata": {
  "kernelspec": {
   "display_name": "Python 3",
   "language": "python",
   "name": "python3"
  },
  "language_info": {
   "codemirror_mode": {
    "name": "ipython",
    "version": 3
   },
   "file_extension": ".py",
   "mimetype": "text/x-python",
   "name": "python",
   "nbconvert_exporter": "python",
   "pygments_lexer": "ipython3",
   "version": "3.6.10"
  }
 },
 "nbformat": 4,
 "nbformat_minor": 4
}
