{
 "cells": [
  {
   "cell_type": "markdown",
   "metadata": {},
   "source": [
    "# Imports"
   ]
  },
  {
   "cell_type": "code",
   "execution_count": 1,
   "metadata": {
    "ExecuteTime": {
     "end_time": "2020-02-04T11:14:28.494267Z",
     "start_time": "2020-02-04T11:14:06.914938Z"
    }
   },
   "outputs": [],
   "source": [
    "import pandas as pd\n",
    "import numpy as np\n",
    "from matplotlib import pyplot as plt\n",
    "import torch\n",
    "from torch.utils.data import Dataset, DataLoader\n",
    "import plotly.graph_objs as go\n",
    "from sklearn.model_selection import train_test_split\n",
    "from sklearn.preprocessing import LabelEncoder, StandardScaler\n",
    "from utils import CustomDataset, smape, spherical_from_cartesian\n",
    "from models import BaselineNN, LSTM\n",
    "from tqdm.notebook import tqdm\n",
    "from IPython.display import clear_output, display\n",
    "import ipywidgets as widgets"
   ]
  },
  {
   "cell_type": "markdown",
   "metadata": {},
   "source": [
    "# Loading data"
   ]
  },
  {
   "cell_type": "code",
   "execution_count": 2,
   "metadata": {
    "ExecuteTime": {
     "end_time": "2020-02-04T11:14:33.333539Z",
     "start_time": "2020-02-04T11:14:28.499592Z"
    }
   },
   "outputs": [],
   "source": [
    "data = pd.read_csv('train.csv', parse_dates=['epoch'])"
   ]
  },
  {
   "cell_type": "markdown",
   "metadata": {},
   "source": [
    "# Data processing"
   ]
  },
  {
   "cell_type": "code",
   "execution_count": 3,
   "metadata": {
    "ExecuteTime": {
     "end_time": "2020-02-04T11:14:39.922091Z",
     "start_time": "2020-02-04T11:14:33.336082Z"
    }
   },
   "outputs": [],
   "source": [
    "features = ['epoch', 'ro_sim', 'theta_sim', 'fi_sim', 'dro/dt_sim', 'dtheta/dt_sim', 'dfi/dt_sim']\n",
    "targets = ['ro', 'theta', 'fi', 'dro/dt', 'dtheta/dt', 'dfi/dt']\n",
    "data['epoch'] = data['epoch'].apply(lambda x: x.to_pydatetime().timestamp())  # convert datetime to seconds\n",
    "data['epoch'] = data['epoch'] - data['epoch'].min()  # shift seconds to start from 0\n",
    "data = spherical_from_cartesian(data)  # convert coordinates to spherical\n",
    "data[features] = data[features] / np.abs(data[features]).max(axis=0)  # scale features\n",
    "data[targets] = data[targets] / np.abs(data[targets]).max(axis=0)  # scale tartets"
   ]
  },
  {
   "cell_type": "markdown",
   "metadata": {},
   "source": [
    "## Separating satellites"
   ]
  },
  {
   "cell_type": "code",
   "execution_count": 4,
   "metadata": {
    "ExecuteTime": {
     "end_time": "2020-02-04T11:14:41.871940Z",
     "start_time": "2020-02-04T11:14:39.935924Z"
    }
   },
   "outputs": [],
   "source": [
    "sat_datas = []\n",
    "data_grouped = data.groupby('sat_id')\n",
    "for sat_data in data_grouped:\n",
    "    sat_datas.append(sat_data[1].drop(['id', 'sat_id'], axis=1))\n",
    "sat_datas_train = []  # list with train data\n",
    "sat_datas_test = []  # list with test data\n",
    "for sat_data in sat_datas:\n",
    "    # Split data to train and test datasets\n",
    "    sat_data_train, sat_data_test = train_test_split(sat_data, shuffle=False, test_size=0.25)\n",
    "    sat_datas_train.append(sat_data_train)\n",
    "    sat_datas_test.append(sat_data_test)"
   ]
  },
  {
   "cell_type": "markdown",
   "metadata": {},
   "source": [
    "# Model"
   ]
  },
  {
   "cell_type": "code",
   "execution_count": 5,
   "metadata": {
    "ExecuteTime": {
     "end_time": "2020-02-04T11:14:42.148976Z",
     "start_time": "2020-02-04T11:14:41.874727Z"
    }
   },
   "outputs": [],
   "source": [
    "seq_len = 5  # TODO: search\n",
    "model = LSTM(14, seq_len=seq_len)  # TODO: search\n",
    "criterion = smape\n",
    "optimizer = torch.optim.SGD(model.parameters(), lr=0.001, momentum=0.5)  # TODO: search\n",
    "loss_widget = widgets.FloatProgress(min=0, max=1, step=0.01, description='Loss', value=0)  # jupyter widget"
   ]
  },
  {
   "cell_type": "markdown",
   "metadata": {},
   "source": [
    "# Train"
   ]
  },
  {
   "cell_type": "code",
   "execution_count": 6,
   "metadata": {
    "ExecuteTime": {
     "end_time": "2020-02-04T11:49:31.489771Z",
     "start_time": "2020-02-04T11:15:31.828278Z"
    }
   },
   "outputs": [
    {
     "data": {
      "application/vnd.jupyter.widget-view+json": {
       "model_id": "73432d8eba37444cb63b3001fb696d58",
       "version_major": 2,
       "version_minor": 0
      },
      "text/plain": [
       "FloatProgress(value=0.0, description='Loss', max=1.0)"
      ]
     },
     "metadata": {},
     "output_type": "display_data"
    },
    {
     "data": {
      "application/vnd.jupyter.widget-view+json": {
       "model_id": "021dff8e3cc24b15951f01ad5795e377",
       "version_major": 2,
       "version_minor": 0
      },
      "text/plain": [
       "HBox(children=(FloatProgress(value=0.0, description='sattelite number', max=600.0, style=ProgressStyle(descrip…"
      ]
     },
     "metadata": {},
     "output_type": "display_data"
    },
    {
     "name": "stdout",
     "output_type": "stream",
     "text": [
      "\n"
     ]
    }
   ],
   "source": [
    "display(loss_widget)\n",
    "desc = 'satellite number'\n",
    "for train_data in tqdm(sat_datas_train, desc='sattelite number', total=len(sat_datas_train)):\n",
    "    x_train = train_data[features]\n",
    "    y_train = train_data[targets]\n",
    "    train_dataset = CustomDataset(x_train, y_train, seq_len=seq_len)\n",
    "    train_dataloader = DataLoader(train_dataset, batch_size=10, shuffle=True)\n",
    "\n",
    "    for epoch in range(10):  # TODO: adjust number of epoches\n",
    "        for seq_train_x, train_y in train_dataloader:\n",
    "            model.zero_grad()  # refresh gradients\n",
    "            predictions = model(seq_train_x)\n",
    "            loss = criterion(predictions, train_y) \n",
    "            loss_widget.value = loss\n",
    "            loss.backward()  # compute gradients\n",
    "            optimizer.step()  # update network parameters"
   ]
  },
  {
   "cell_type": "code",
   "execution_count": 8,
   "metadata": {
    "ExecuteTime": {
     "end_time": "2020-02-04T11:50:15.376205Z",
     "start_time": "2020-02-04T11:50:15.370634Z"
    }
   },
   "outputs": [
    {
     "data": {
      "text/plain": [
       "1343"
      ]
     },
     "execution_count": 8,
     "metadata": {},
     "output_type": "execute_result"
    }
   ],
   "source": [
    "len(train_dataset)"
   ]
  },
  {
   "cell_type": "markdown",
   "metadata": {
    "ExecuteTime": {
     "end_time": "2020-02-03T23:06:38.341928Z",
     "start_time": "2020-02-03T23:06:38.336155Z"
    }
   },
   "source": [
    "# Test"
   ]
  },
  {
   "cell_type": "code",
   "execution_count": 23,
   "metadata": {
    "ExecuteTime": {
     "end_time": "2020-02-04T13:07:27.805846Z",
     "start_time": "2020-02-04T13:01:34.534707Z"
    }
   },
   "outputs": [
    {
     "data": {
      "application/vnd.jupyter.widget-view+json": {
       "model_id": "a7d8f14e1f3741a581387d84797436e0",
       "version_major": 2,
       "version_minor": 0
      },
      "text/plain": [
       "FloatProgress(value=0.0, description='Score', max=1.0)"
      ]
     },
     "metadata": {},
     "output_type": "display_data"
    },
    {
     "data": {
      "application/vnd.jupyter.widget-view+json": {
       "model_id": "622cf600f3a541048a3f5744698c8dd6",
       "version_major": 2,
       "version_minor": 0
      },
      "text/plain": [
       "HBox(children=(FloatProgress(value=0.0, description='sattelite number', max=600.0, style=ProgressStyle(descrip…"
      ]
     },
     "metadata": {},
     "output_type": "display_data"
    },
    {
     "name": "stdout",
     "output_type": "stream",
     "text": [
      "\n"
     ]
    }
   ],
   "source": [
    "model.eval()\n",
    "score_widget = widgets.FloatProgress(min=0, max=1, step=0.01, description='Score', value=0)\n",
    "display(score_widget)\n",
    "loss_sum = 0\n",
    "i = 0\n",
    "with torch.no_grad():\n",
    "    for test_data in tqdm(sat_datas_test, desc='sattelite number'):\n",
    "        x_test = test_data[features]\n",
    "        y_test = test_data[targets]\n",
    "        test_dataset = CustomDataset(x_test, y_test, seq_len=seq_len)\n",
    "        test_dataloader = DataLoader(test_dataset, batch_size=10, shuffle=True)\n",
    "\n",
    "        for seq_test_x, test_y in train_dataloader:\n",
    "            predictions = model(seq_test_x)\n",
    "            loss = criterion(predictions, test_y)\n",
    "            loss_sum += loss\n",
    "            i += 1\n",
    "            score = 1 - loss_sum / i\n",
    "            score_widget.value = score\n",
    "            score_widget.description = f'Score: {round(score.item(), 2)}'"
   ]
  },
  {
   "cell_type": "code",
   "execution_count": 25,
   "metadata": {
    "ExecuteTime": {
     "end_time": "2020-02-04T15:47:14.891768Z",
     "start_time": "2020-02-04T15:47:14.883041Z"
    }
   },
   "outputs": [],
   "source": [
    "torch.save(model.state_dict(), 'LSTM-5.pt')"
   ]
  },
  {
   "cell_type": "code",
   "execution_count": null,
   "metadata": {
    "ExecuteTime": {
     "end_time": "2020-02-03T22:50:18.076028Z",
     "start_time": "2020-02-03T22:50:18.032113Z"
    }
   },
   "outputs": [],
   "source": []
  },
  {
   "cell_type": "code",
   "execution_count": null,
   "metadata": {
    "ExecuteTime": {
     "end_time": "2020-02-03T22:50:18.193531Z",
     "start_time": "2020-02-03T22:50:18.081176Z"
    }
   },
   "outputs": [],
   "source": []
  },
  {
   "cell_type": "code",
   "execution_count": null,
   "metadata": {
    "ExecuteTime": {
     "end_time": "2020-02-03T22:52:39.840801Z",
     "start_time": "2020-02-03T22:50:18.198970Z"
    }
   },
   "outputs": [],
   "source": []
  },
  {
   "cell_type": "code",
   "execution_count": null,
   "metadata": {
    "ExecuteTime": {
     "end_time": "2020-02-03T22:41:23.560934Z",
     "start_time": "2020-02-03T22:41:23.550574Z"
    }
   },
   "outputs": [],
   "source": [
    "model.hidden_cell[1].shape"
   ]
  },
  {
   "cell_type": "code",
   "execution_count": null,
   "metadata": {
    "ExecuteTime": {
     "end_time": "2020-02-03T02:06:28.472885Z",
     "start_time": "2020-02-03T01:54:02.424Z"
    }
   },
   "outputs": [],
   "source": [
    "model.eval()\n",
    "y_pred = model(x_test)\n",
    "after_train = criterion(y_pred.squeeze(), y_test) \n",
    "print('Test loss after Training' , after_train.item())"
   ]
  },
  {
   "cell_type": "code",
   "execution_count": null,
   "metadata": {
    "ExecuteTime": {
     "start_time": "2020-02-03T01:54:02.426Z"
    }
   },
   "outputs": [],
   "source": []
  },
  {
   "cell_type": "code",
   "execution_count": null,
   "metadata": {
    "ExecuteTime": {
     "end_time": "2020-02-03T02:06:28.475343Z",
     "start_time": "2020-02-03T01:54:02.429Z"
    }
   },
   "outputs": [],
   "source": [
    "y_pred.shape"
   ]
  },
  {
   "cell_type": "code",
   "execution_count": null,
   "metadata": {
    "ExecuteTime": {
     "end_time": "2020-02-02T19:59:30.941239Z",
     "start_time": "2020-02-02T19:59:30.925435Z"
    }
   },
   "outputs": [],
   "source": []
  },
  {
   "cell_type": "code",
   "execution_count": null,
   "metadata": {},
   "outputs": [],
   "source": []
  }
 ],
 "metadata": {
  "kernelspec": {
   "display_name": "Python 3",
   "language": "python",
   "name": "python3"
  },
  "language_info": {
   "codemirror_mode": {
    "name": "ipython",
    "version": 3
   },
   "file_extension": ".py",
   "mimetype": "text/x-python",
   "name": "python",
   "nbconvert_exporter": "python",
   "pygments_lexer": "ipython3",
   "version": "3.6.10"
  }
 },
 "nbformat": 4,
 "nbformat_minor": 4
}
