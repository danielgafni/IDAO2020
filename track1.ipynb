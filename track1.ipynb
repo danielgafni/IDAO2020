{
 "cells": [
  {
   "cell_type": "markdown",
   "metadata": {},
   "source": [
    "# Imports"
   ]
  },
  {
   "cell_type": "code",
   "execution_count": 43,
   "metadata": {
    "ExecuteTime": {
     "end_time": "2020-02-06T19:55:36.780127Z",
     "start_time": "2020-02-06T19:55:36.775967Z"
    }
   },
   "outputs": [],
   "source": [
    "import pandas as pd\n",
    "import numpy as np\n",
    "from matplotlib import pyplot as plt\n",
    "import torch\n",
    "from torch.utils.data import Dataset, DataLoader\n",
    "import plotly.graph_objs as go\n",
    "from sklearn.model_selection import train_test_split\n",
    "from sklearn.preprocessing import LabelEncoder, StandardScaler\n",
    "from utils import CustomDataset, smape, process, features, targets, spherical_from_cartesian\n",
    "from models import BaselineNN, LSTM, ResNet18\n",
    "from tqdm.notebook import tqdm\n",
    "from IPython.display import clear_output, display\n",
    "import ipywidgets as widgets\n",
    "import os\n",
    "from spaceopt import SpaceOpt"
   ]
  },
  {
   "cell_type": "markdown",
   "metadata": {},
   "source": [
    "# Loading data"
   ]
  },
  {
   "cell_type": "code",
   "execution_count": 2,
   "metadata": {
    "ExecuteTime": {
     "end_time": "2020-02-06T18:54:01.381447Z",
     "start_time": "2020-02-06T18:53:57.938426Z"
    }
   },
   "outputs": [],
   "source": [
    "data = pd.read_csv('train.csv', parse_dates=['epoch'])"
   ]
  },
  {
   "cell_type": "markdown",
   "metadata": {},
   "source": [
    "# Data processing"
   ]
  },
  {
   "cell_type": "code",
   "execution_count": 3,
   "metadata": {
    "ExecuteTime": {
     "end_time": "2020-02-06T18:54:08.012495Z",
     "start_time": "2020-02-06T18:54:01.383613Z"
    }
   },
   "outputs": [],
   "source": [
    "sat_datas_train, sat_datas_test = process(data)"
   ]
  },
  {
   "cell_type": "code",
   "execution_count": 4,
   "metadata": {
    "ExecuteTime": {
     "end_time": "2020-02-06T18:54:08.132981Z",
     "start_time": "2020-02-06T18:54:08.013795Z"
    }
   },
   "outputs": [
    {
     "data": {
      "text/html": [
       "<div>\n",
       "<style scoped>\n",
       "    .dataframe tbody tr th:only-of-type {\n",
       "        vertical-align: middle;\n",
       "    }\n",
       "\n",
       "    .dataframe tbody tr th {\n",
       "        vertical-align: top;\n",
       "    }\n",
       "\n",
       "    .dataframe thead th {\n",
       "        text-align: right;\n",
       "    }\n",
       "</style>\n",
       "<table border=\"1\" class=\"dataframe\">\n",
       "  <thead>\n",
       "    <tr style=\"text-align: right;\">\n",
       "      <th></th>\n",
       "      <th>epoch</th>\n",
       "      <th>x</th>\n",
       "      <th>y</th>\n",
       "      <th>z</th>\n",
       "      <th>Vx</th>\n",
       "      <th>Vy</th>\n",
       "      <th>Vz</th>\n",
       "      <th>x_sim</th>\n",
       "      <th>y_sim</th>\n",
       "      <th>z_sim</th>\n",
       "      <th>Vx_sim</th>\n",
       "      <th>Vy_sim</th>\n",
       "      <th>Vz_sim</th>\n",
       "      <th>ro_sim</th>\n",
       "      <th>theta_sim</th>\n",
       "      <th>fi_sim</th>\n",
       "      <th>dro/dt_sim</th>\n",
       "      <th>dtheta/dt_sim</th>\n",
       "      <th>dfi/dt_sim</th>\n",
       "    </tr>\n",
       "  </thead>\n",
       "  <tbody>\n",
       "    <tr>\n",
       "      <th>0</th>\n",
       "      <td>-1.730756</td>\n",
       "      <td>-8855.823863</td>\n",
       "      <td>13117.780146</td>\n",
       "      <td>-20728.353233</td>\n",
       "      <td>-0.908303</td>\n",
       "      <td>-3.808436</td>\n",
       "      <td>-2.022083</td>\n",
       "      <td>-0.311082</td>\n",
       "      <td>0.500388</td>\n",
       "      <td>-0.999704</td>\n",
       "      <td>-0.343891</td>\n",
       "      <td>-1.463405</td>\n",
       "      <td>-0.957448</td>\n",
       "      <td>-0.259073</td>\n",
       "      <td>0.430197</td>\n",
       "      <td>-1.291078</td>\n",
       "      <td>-0.004444</td>\n",
       "      <td>-0.937090</td>\n",
       "      <td>0.747771</td>\n",
       "    </tr>\n",
       "    <tr>\n",
       "      <th>1</th>\n",
       "      <td>-1.727132</td>\n",
       "      <td>-10567.672384</td>\n",
       "      <td>1619.746066</td>\n",
       "      <td>-24451.813271</td>\n",
       "      <td>-0.302590</td>\n",
       "      <td>-4.272617</td>\n",
       "      <td>-0.612796</td>\n",
       "      <td>-0.378567</td>\n",
       "      <td>0.051732</td>\n",
       "      <td>-1.180247</td>\n",
       "      <td>-0.114952</td>\n",
       "      <td>-1.642185</td>\n",
       "      <td>-0.291497</td>\n",
       "      <td>-0.235384</td>\n",
       "      <td>0.511332</td>\n",
       "      <td>-1.908559</td>\n",
       "      <td>0.434614</td>\n",
       "      <td>-1.353263</td>\n",
       "      <td>0.125439</td>\n",
       "    </tr>\n",
       "    <tr>\n",
       "      <th>2</th>\n",
       "      <td>-1.723508</td>\n",
       "      <td>-10578.684043</td>\n",
       "      <td>-10180.467460</td>\n",
       "      <td>-24238.280949</td>\n",
       "      <td>0.277435</td>\n",
       "      <td>-4.047522</td>\n",
       "      <td>0.723155</td>\n",
       "      <td>-0.379212</td>\n",
       "      <td>-0.408885</td>\n",
       "      <td>-1.170478</td>\n",
       "      <td>0.104417</td>\n",
       "      <td>-1.556416</td>\n",
       "      <td>0.340189</td>\n",
       "      <td>-0.171059</td>\n",
       "      <td>0.478890</td>\n",
       "      <td>1.416777</td>\n",
       "      <td>0.757259</td>\n",
       "      <td>-1.006825</td>\n",
       "      <td>-0.538343</td>\n",
       "    </tr>\n",
       "    <tr>\n",
       "      <th>3</th>\n",
       "      <td>-1.719884</td>\n",
       "      <td>-9148.251857</td>\n",
       "      <td>-20651.437460</td>\n",
       "      <td>-20720.381279</td>\n",
       "      <td>0.715600</td>\n",
       "      <td>-3.373762</td>\n",
       "      <td>1.722115</td>\n",
       "      <td>-0.323161</td>\n",
       "      <td>-0.817838</td>\n",
       "      <td>-1.000836</td>\n",
       "      <td>0.270316</td>\n",
       "      <td>-1.298146</td>\n",
       "      <td>0.813059</td>\n",
       "      <td>-0.080953</td>\n",
       "      <td>0.373143</td>\n",
       "      <td>0.937656</td>\n",
       "      <td>0.927449</td>\n",
       "      <td>-0.680071</td>\n",
       "      <td>-0.604404</td>\n",
       "    </tr>\n",
       "    <tr>\n",
       "      <th>4</th>\n",
       "      <td>-1.716260</td>\n",
       "      <td>-6719.092336</td>\n",
       "      <td>-28929.061629</td>\n",
       "      <td>-14938.907967</td>\n",
       "      <td>0.992507</td>\n",
       "      <td>-2.519732</td>\n",
       "      <td>2.344703</td>\n",
       "      <td>-0.227778</td>\n",
       "      <td>-1.141341</td>\n",
       "      <td>-0.721533</td>\n",
       "      <td>0.375320</td>\n",
       "      <td>-0.970269</td>\n",
       "      <td>1.108234</td>\n",
       "      <td>0.020066</td>\n",
       "      <td>0.240443</td>\n",
       "      <td>0.552240</td>\n",
       "      <td>0.972421</td>\n",
       "      <td>-0.534778</td>\n",
       "      <td>-0.546743</td>\n",
       "    </tr>\n",
       "  </tbody>\n",
       "</table>\n",
       "</div>"
      ],
      "text/plain": [
       "      epoch             x             y             z        Vx        Vy  \\\n",
       "0 -1.730756  -8855.823863  13117.780146 -20728.353233 -0.908303 -3.808436   \n",
       "1 -1.727132 -10567.672384   1619.746066 -24451.813271 -0.302590 -4.272617   \n",
       "2 -1.723508 -10578.684043 -10180.467460 -24238.280949  0.277435 -4.047522   \n",
       "3 -1.719884  -9148.251857 -20651.437460 -20720.381279  0.715600 -3.373762   \n",
       "4 -1.716260  -6719.092336 -28929.061629 -14938.907967  0.992507 -2.519732   \n",
       "\n",
       "         Vz     x_sim     y_sim     z_sim    Vx_sim    Vy_sim    Vz_sim  \\\n",
       "0 -2.022083 -0.311082  0.500388 -0.999704 -0.343891 -1.463405 -0.957448   \n",
       "1 -0.612796 -0.378567  0.051732 -1.180247 -0.114952 -1.642185 -0.291497   \n",
       "2  0.723155 -0.379212 -0.408885 -1.170478  0.104417 -1.556416  0.340189   \n",
       "3  1.722115 -0.323161 -0.817838 -1.000836  0.270316 -1.298146  0.813059   \n",
       "4  2.344703 -0.227778 -1.141341 -0.721533  0.375320 -0.970269  1.108234   \n",
       "\n",
       "     ro_sim  theta_sim    fi_sim  dro/dt_sim  dtheta/dt_sim  dfi/dt_sim  \n",
       "0 -0.259073   0.430197 -1.291078   -0.004444      -0.937090    0.747771  \n",
       "1 -0.235384   0.511332 -1.908559    0.434614      -1.353263    0.125439  \n",
       "2 -0.171059   0.478890  1.416777    0.757259      -1.006825   -0.538343  \n",
       "3 -0.080953   0.373143  0.937656    0.927449      -0.680071   -0.604404  \n",
       "4  0.020066   0.240443  0.552240    0.972421      -0.534778   -0.546743  "
      ]
     },
     "execution_count": 4,
     "metadata": {},
     "output_type": "execute_result"
    }
   ],
   "source": [
    "sat_datas_train[0].head()"
   ]
  },
  {
   "cell_type": "markdown",
   "metadata": {},
   "source": [
    "# Model"
   ]
  },
  {
   "cell_type": "code",
   "execution_count": 10,
   "metadata": {
    "ExecuteTime": {
     "end_time": "2020-02-06T18:56:03.378479Z",
     "start_time": "2020-02-06T18:56:03.371267Z"
    }
   },
   "outputs": [],
   "source": [
    "seq_len = 5\n",
    "hidden_dim = 20\n",
    "model = LSTM(hidden_dim=hidden_dim, seq_len=seq_len)\n",
    "model.train()\n",
    "optimizer = torch.optim.Adam(params=model.parameters(), lr=0.001, eps=1e-8)\n",
    "criterion = smape"
   ]
  },
  {
   "cell_type": "markdown",
   "metadata": {},
   "source": [
    "# Train"
   ]
  },
  {
   "cell_type": "code",
   "execution_count": 40,
   "metadata": {
    "ExecuteTime": {
     "end_time": "2020-02-06T19:40:21.690686Z",
     "start_time": "2020-02-06T19:40:21.685092Z"
    }
   },
   "outputs": [],
   "source": [
    "best_params = {'lr': 0.01,\n",
    "               'eps': 0.0001,\n",
    "               'seq_len': 30,\n",
    "               'hidden_dim': 50,\n",
    "               'epoch': 60,\n",
    "               'score': 0.9954036474227905}"
   ]
  },
  {
   "cell_type": "code",
   "execution_count": 41,
   "metadata": {
    "ExecuteTime": {
     "end_time": "2020-02-06T19:46:29.096598Z",
     "start_time": "2020-02-06T19:45:23.853604Z"
    }
   },
   "outputs": [
    {
     "name": "stdout",
     "output_type": "stream",
     "text": [
      "Satellite 1/600\n"
     ]
    },
    {
     "data": {
      "application/vnd.jupyter.widget-view+json": {
       "model_id": "115240679457474d8eee4dc9fa4477df",
       "version_major": 2,
       "version_minor": 0
      },
      "text/plain": [
       "FloatProgress(value=0.0, description='Loss', max=1.0)"
      ]
     },
     "metadata": {},
     "output_type": "display_data"
    },
    {
     "data": {
      "application/vnd.jupyter.widget-view+json": {
       "model_id": "03ec1aa04f2c4a0e977f6b85b2660ba1",
       "version_major": 2,
       "version_minor": 0
      },
      "text/plain": [
       "HBox(children=(FloatProgress(value=0.0, max=60.0), HTML(value='')))"
      ]
     },
     "metadata": {},
     "output_type": "display_data"
    },
    {
     "ename": "KeyboardInterrupt",
     "evalue": "",
     "output_type": "error",
     "traceback": [
      "\u001b[0;31m---------------------------------------------------------------------------\u001b[0m",
      "\u001b[0;31mKeyboardInterrupt\u001b[0m                         Traceback (most recent call last)",
      "\u001b[0;32m<ipython-input-41-025fe6edb481>\u001b[0m in \u001b[0;36m<module>\u001b[0;34m\u001b[0m\n\u001b[1;32m     26\u001b[0m             \u001b[0mloss_widget\u001b[0m\u001b[0;34m.\u001b[0m\u001b[0mvalue\u001b[0m \u001b[0;34m=\u001b[0m \u001b[0mloss\u001b[0m\u001b[0;34m\u001b[0m\u001b[0;34m\u001b[0m\u001b[0m\n\u001b[1;32m     27\u001b[0m             \u001b[0mloss\u001b[0m\u001b[0;34m.\u001b[0m\u001b[0mbackward\u001b[0m\u001b[0;34m(\u001b[0m\u001b[0;34m)\u001b[0m  \u001b[0;31m# compute gradients\u001b[0m\u001b[0;34m\u001b[0m\u001b[0;34m\u001b[0m\u001b[0m\n\u001b[0;32m---> 28\u001b[0;31m             \u001b[0moptimizer\u001b[0m\u001b[0;34m.\u001b[0m\u001b[0mstep\u001b[0m\u001b[0;34m(\u001b[0m\u001b[0;34m)\u001b[0m  \u001b[0;31m# update network parameters\u001b[0m\u001b[0;34m\u001b[0m\u001b[0;34m\u001b[0m\u001b[0m\n\u001b[0m\u001b[1;32m     29\u001b[0m     \u001b[0mtorch\u001b[0m\u001b[0;34m.\u001b[0m\u001b[0msave\u001b[0m\u001b[0;34m(\u001b[0m\u001b[0mmodel\u001b[0m\u001b[0;34m.\u001b[0m\u001b[0mstate_dict\u001b[0m\u001b[0;34m(\u001b[0m\u001b[0;34m)\u001b[0m\u001b[0;34m,\u001b[0m \u001b[0;34mf'models//LSTM-5-20//{i}.pt'\u001b[0m\u001b[0;34m)\u001b[0m\u001b[0;34m\u001b[0m\u001b[0;34m\u001b[0m\u001b[0m\n\u001b[1;32m     30\u001b[0m     \u001b[0mloss_train\u001b[0m\u001b[0;34m.\u001b[0m\u001b[0mappend\u001b[0m\u001b[0;34m(\u001b[0m\u001b[0mloss\u001b[0m\u001b[0;34m)\u001b[0m\u001b[0;34m\u001b[0m\u001b[0;34m\u001b[0m\u001b[0m\n",
      "\u001b[0;32m~/anaconda3/envs/IDAO2020/lib/python3.6/site-packages/torch/optim/adam.py\u001b[0m in \u001b[0;36mstep\u001b[0;34m(self, closure)\u001b[0m\n\u001b[1;32m     94\u001b[0m                 \u001b[0;31m# Decay the first and second moment running average coefficient\u001b[0m\u001b[0;34m\u001b[0m\u001b[0;34m\u001b[0m\u001b[0;34m\u001b[0m\u001b[0m\n\u001b[1;32m     95\u001b[0m                 \u001b[0mexp_avg\u001b[0m\u001b[0;34m.\u001b[0m\u001b[0mmul_\u001b[0m\u001b[0;34m(\u001b[0m\u001b[0mbeta1\u001b[0m\u001b[0;34m)\u001b[0m\u001b[0;34m.\u001b[0m\u001b[0madd_\u001b[0m\u001b[0;34m(\u001b[0m\u001b[0;36m1\u001b[0m \u001b[0;34m-\u001b[0m \u001b[0mbeta1\u001b[0m\u001b[0;34m,\u001b[0m \u001b[0mgrad\u001b[0m\u001b[0;34m)\u001b[0m\u001b[0;34m\u001b[0m\u001b[0;34m\u001b[0m\u001b[0m\n\u001b[0;32m---> 96\u001b[0;31m                 \u001b[0mexp_avg_sq\u001b[0m\u001b[0;34m.\u001b[0m\u001b[0mmul_\u001b[0m\u001b[0;34m(\u001b[0m\u001b[0mbeta2\u001b[0m\u001b[0;34m)\u001b[0m\u001b[0;34m.\u001b[0m\u001b[0maddcmul_\u001b[0m\u001b[0;34m(\u001b[0m\u001b[0;36m1\u001b[0m \u001b[0;34m-\u001b[0m \u001b[0mbeta2\u001b[0m\u001b[0;34m,\u001b[0m \u001b[0mgrad\u001b[0m\u001b[0;34m,\u001b[0m \u001b[0mgrad\u001b[0m\u001b[0;34m)\u001b[0m\u001b[0;34m\u001b[0m\u001b[0;34m\u001b[0m\u001b[0m\n\u001b[0m\u001b[1;32m     97\u001b[0m                 \u001b[0;32mif\u001b[0m \u001b[0mamsgrad\u001b[0m\u001b[0;34m:\u001b[0m\u001b[0;34m\u001b[0m\u001b[0;34m\u001b[0m\u001b[0m\n\u001b[1;32m     98\u001b[0m                     \u001b[0;31m# Maintains the maximum of all 2nd moment running avg. till now\u001b[0m\u001b[0;34m\u001b[0m\u001b[0;34m\u001b[0m\u001b[0;34m\u001b[0m\u001b[0m\n",
      "\u001b[0;31mKeyboardInterrupt\u001b[0m: "
     ]
    }
   ],
   "source": [
    "if not os.path.exists('models//LSTM-5-20'):\n",
    "    os.makedirs('models//LSTM-5-20')\n",
    "loss_train = []\n",
    "loss_widget = widgets.FloatProgress(min=0, max=1, step=0.01, description='Loss', value=0)  # jupyter widget\n",
    "test_sat_id = torch.load('test_sat_id')\n",
    "for i, train_data in enumerate(sat_datas_train):\n",
    "    if i not in test_sat_id:\n",
    "        continue\n",
    "    clear_output()\n",
    "    print(f'Satellite {i}/600')\n",
    "    display(loss_widget)\n",
    "    seq_len = 30\n",
    "    hidden_dim = 60\n",
    "    model = LSTM(hidden_dim=hidden_dim, seq_len=seq_len)\n",
    "    optimizer = torch.optim.Adam(params=model.parameters(), lr=0.01, eps=0.0001)\n",
    "    x_train = train_data[features]\n",
    "    y_train = train_data[targets]\n",
    "    train_dataset = CustomDataset(x_train, y_train, seq_len=seq_len)\n",
    "    train_dataloader = DataLoader(train_dataset, batch_size=1, shuffle=True)\n",
    "    for epoch in tqdm(range(60)):\n",
    "        for seq_train_x, seq_train_y in train_dataloader:\n",
    "            model.zero_grad()  # refresh gradients\n",
    "            model.init_hidden_cell()\n",
    "            predictions = model(seq_train_x)\n",
    "            loss = criterion(predictions, seq_train_y[:, -1, :])\n",
    "            loss_widget.value = loss\n",
    "            loss.backward()  # compute gradients\n",
    "            optimizer.step()  # update network parameters\n",
    "    torch.save(model.state_dict(), f'models//LSTM-5-20//{i}.pt')\n",
    "    loss_train.append(loss)"
   ]
  },
  {
   "cell_type": "code",
   "execution_count": null,
   "metadata": {
    "ExecuteTime": {
     "end_time": "2020-02-06T16:31:52.440037Z",
     "start_time": "2020-02-06T16:31:51.296771Z"
    }
   },
   "outputs": [],
   "source": [
    "score_widget = widgets.FloatProgress(min=0, max=1, step=0.01, description='Score', value=0)  # jupyter widget\n",
    "display(score_widget)\n",
    "test_data = sat_datas_train[0]\n",
    "x_test = test_data[features]\n",
    "y_test = test_data[targets]\n",
    "test_dataset = CustomDataset(x_test, y_test, seq_len=seq_len)\n",
    "test_dataloader = DataLoader(test_dataset, batch_size=1, shuffle=True)\n",
    "loss_sum = 0\n",
    "i = 0\n",
    "\n",
    "for seq_test_x, seq_test_y in tqdm(test_dataloader):\n",
    "    with torch.no_grad():\n",
    "        model.init_hidden_cell()\n",
    "        predictions = model(seq_train_x)\n",
    "        loss = criterion(predictions, seq_train_y[:, -1, :])\n",
    "        loss_sum += loss\n",
    "        i += 1\n",
    "        score_widget.value = 1 - loss_sum / i"
   ]
  },
  {
   "cell_type": "code",
   "execution_count": null,
   "metadata": {
    "ExecuteTime": {
     "end_time": "2020-02-06T16:32:12.382571Z",
     "start_time": "2020-02-06T16:32:12.371351Z"
    }
   },
   "outputs": [],
   "source": [
    "score_widget.value"
   ]
  },
  {
   "cell_type": "code",
   "execution_count": null,
   "metadata": {
    "ExecuteTime": {
     "start_time": "2020-02-06T16:36:44.997Z"
    }
   },
   "outputs": [],
   "source": [
    "loss_widget = widgets.FloatProgress(min=0, max=1, step=0.01, description='Loss', value=0)  # jupyter widget\n",
    "display(loss_widget)\n",
    "desc = 'satellite number'\n",
    "EPOCH = 10\n",
    "if not os.path.exists('models'):\n",
    "    os.makedirs('models')\n",
    "for epoch in range(EPOCH):\n",
    "    for i, train_data in tqdm(enumerate(sat_datas_train), desc='sattelite number',\n",
    "                              total=len(sat_datas_train)):\n",
    "        x_train = train_data[features]\n",
    "        y_train = train_data[targets]\n",
    "        train_dataset = CustomDataset(x_train, y_train, seq_len=seq_len)\n",
    "        train_dataloader = DataLoader(train_dataset, batch_size=10, shuffle=True)\n",
    "        for seq_train_x, seq_train_y in train_dataloader:\n",
    "            model.zero_grad()  # refresh gradients\n",
    "            model.init_hidden_cell()\n",
    "            predictions = model(seq_train_x)\n",
    "            loss = criterion(predictions, seq_train_y[:, -1, :])\n",
    "            loss_widget.value = loss\n",
    "            loss.backward()  # compute gradients\n",
    "            optimizer.step()  # update network parameters"
   ]
  },
  {
   "cell_type": "code",
   "execution_count": null,
   "metadata": {
    "ExecuteTime": {
     "end_time": "2020-02-06T14:29:37.921928Z",
     "start_time": "2020-02-06T14:29:37.908496Z"
    }
   },
   "outputs": [],
   "source": []
  },
  {
   "cell_type": "code",
   "execution_count": null,
   "metadata": {
    "ExecuteTime": {
     "end_time": "2020-02-06T14:29:38.492092Z",
     "start_time": "2020-02-06T14:29:38.444390Z"
    }
   },
   "outputs": [],
   "source": []
  },
  {
   "cell_type": "code",
   "execution_count": 14,
   "metadata": {
    "ExecuteTime": {
     "end_time": "2020-02-06T19:19:53.447222Z",
     "start_time": "2020-02-06T19:19:53.429757Z"
    }
   },
   "outputs": [],
   "source": []
  },
  {
   "cell_type": "code",
   "execution_count": 44,
   "metadata": {
    "ExecuteTime": {
     "end_time": "2020-02-06T19:55:41.959542Z",
     "start_time": "2020-02-06T19:55:41.949083Z"
    }
   },
   "outputs": [],
   "source": [
    "def evaluate(point, sat_id):\n",
    "    seq_len = point['seq_len']  # TODO: search\n",
    "    criterion = smape\n",
    "    loss_widget = widgets.FloatProgress(min=0, max=1, step=0.01, description='Loss', value=0)  # jupyter widget\n",
    "    display(loss_widget)\n",
    "    desc = 'satellite number'\n",
    "    EPOCH = point['epoch']\n",
    "    hidden_dim = point['hidden_dim']\n",
    "    model = LSTM(hidden_dim=hidden_dim, seq_len=seq_len)\n",
    "    model.train()\n",
    "    optimizer = torch.optim.Adam(params=model.parameters(), lr=point['lr'], eps=point['eps'])\n",
    "    criterion = smape\n",
    "    train_data = sat_datas_train[sat_id]\n",
    "    x_train = train_data[features]\n",
    "    y_train = train_data[targets]\n",
    "    train_dataset = CustomDataset(x_train, y_train, seq_len=seq_len)\n",
    "    train_dataloader = DataLoader(train_dataset, batch_size=10, shuffle=True)\n",
    "    for epoch in range(EPOCH):\n",
    "        for seq_train_x, train_y in train_dataloader:\n",
    "            model.zero_grad()  # refresh gradients\n",
    "            model.init_hidden_cell()\n",
    "            predictions = model(seq_train_x)\n",
    "            loss = criterion(predictions, seq_train_y[:, -1, :])\n",
    "            loss_widget.value = loss\n",
    "            loss.backward()  # compute gradients\n",
    "            optimizer.step()  # update network parameters\n",
    "    model.eval()\n",
    "    score_widget = widgets.FloatProgress(min=0, max=1, step=0.01, description='Score', value=0)\n",
    "    display(score_widget)\n",
    "    loss_sum = 0\n",
    "    i = 0\n",
    "    test_data = next(iter(sat_datas_test))\n",
    "    with torch.no_grad():\n",
    "        x_test = test_data[features]\n",
    "        y_test = test_data[targets]\n",
    "        test_dataset = CustomDataset(x_test, y_test, seq_len=seq_len)\n",
    "        test_dataloader = DataLoader(test_dataset, batch_size=10, shuffle=True)\n",
    "\n",
    "        for seq_test_x, test_y in train_dataloader:\n",
    "            predictions = model(seq_test_x)\n",
    "            loss = criterion(predictions, seq_train_y[:, -1, :])\n",
    "            loss_sum += loss\n",
    "            i += 1\n",
    "            score = 1 - loss_sum / i\n",
    "            score_widget.value = score\n",
    "            score_widget.description = f'Score: {round(score.item(), 2)}'\n",
    "            \n",
    "    return score.item()"
   ]
  },
  {
   "cell_type": "code",
   "execution_count": 48,
   "metadata": {
    "ExecuteTime": {
     "end_time": "2020-02-06T19:57:20.192912Z",
     "start_time": "2020-02-06T19:57:20.188936Z"
    }
   },
   "outputs": [],
   "source": [
    "search_space = {\n",
    "    'lr': [0.01, 0.1],\n",
    "    'eps': [1e-4, 1e-2, 1.],\n",
    "    'seq_len': [20, 30],\n",
    "    'hidden_dim': [10, 20, 30, 50],\n",
    "    'epoch': [30]\n",
    "}"
   ]
  },
  {
   "cell_type": "code",
   "execution_count": null,
   "metadata": {
    "ExecuteTime": {
     "start_time": "2020-02-06T19:58:30.790Z"
    },
    "scrolled": true
   },
   "outputs": [
    {
     "name": "stdout",
     "output_type": "stream",
     "text": [
      "Satellite id : 1\n",
      "Iteration: 1\n",
      "Score:\n",
      "0\n",
      "{'lr': 0.01, 'eps': 0.0001, 'seq_len': 20, 'hidden_dim': 30, 'epoch': 30}\n"
     ]
    },
    {
     "data": {
      "application/vnd.jupyter.widget-view+json": {
       "model_id": "645e356a22e44562bd472acf233989fd",
       "version_major": 2,
       "version_minor": 0
      },
      "text/plain": [
       "FloatProgress(value=0.0, description='Loss', max=1.0)"
      ]
     },
     "metadata": {},
     "output_type": "display_data"
    }
   ],
   "source": [
    "results = {}\n",
    "for sat_id in test_sat_id:\n",
    "    spaceopt = SpaceOpt(search_space=search_space,\n",
    "                    target_name='score',\n",
    "                    objective='max')\n",
    "    score = 0\n",
    "    iteration = 0\n",
    "    while score < 0.98:\n",
    "        for iteration in range(10):\n",
    "            iteration += 1\n",
    "            clear_output()\n",
    "            print(f'Satellite id : {sat_id}')\n",
    "            print(f'Iteration: {iteration}')\n",
    "            print(f'Score:\\n{score}')\n",
    "            if iteration < 8:\n",
    "                spoint = spaceopt.get_random()   # exploration\n",
    "            else:\n",
    "                spoint = spaceopt.fit_predict()  # exploitation\n",
    "            print(spoint)\n",
    "            score = evaluate(spoint, sat_id=sat_id)\n",
    "            spoint['score'] = score\n",
    "            spaceopt.append_evaluated_spoint(spoint)\n",
    "    else:\n",
    "        results[sat_id] = spoint"
   ]
  },
  {
   "cell_type": "markdown",
   "metadata": {},
   "source": [
    "# Good parameters"
   ]
  },
  {
   "cell_type": "code",
   "execution_count": null,
   "metadata": {
    "ExecuteTime": {
     "end_time": "2020-02-06T12:08:45.587525Z",
     "start_time": "2020-02-06T12:08:26.397Z"
    }
   },
   "outputs": [],
   "source": [
    "point1 = {'lr': 0.1, 'eps': 0.01, 'seq_len': 5, 'hidden_dim': 30, 'epoch': 60}\n",
    "point2 = {'lr': 1.0, 'eps': 1.0, 'seq_len': 20, 'hidden_dim': 30, 'epoch': 60}\n",
    "point3 = {'lr': 0.01, 'eps': 0.0001, 'seq_len': 30, 'hidden_dim': 50, 'epoch': 60}  # super good"
   ]
  },
  {
   "cell_type": "code",
   "execution_count": 37,
   "metadata": {
    "ExecuteTime": {
     "end_time": "2020-02-06T19:39:28.657735Z",
     "start_time": "2020-02-06T19:39:28.649199Z"
    }
   },
   "outputs": [],
   "source": [
    "score = 0\n",
    "best_spoint = None\n",
    "for spoint in spaceopt.evaluated_spoints:\n",
    "    if spoint['score'] > score:\n",
    "        score = spoint['score']\n",
    "        best_spoint = spoint"
   ]
  },
  {
   "cell_type": "code",
   "execution_count": 39,
   "metadata": {
    "ExecuteTime": {
     "end_time": "2020-02-06T19:39:35.862124Z",
     "start_time": "2020-02-06T19:39:35.855990Z"
    }
   },
   "outputs": [
    {
     "data": {
      "text/plain": [
       "{'lr': 0.01,\n",
       " 'eps': 0.0001,\n",
       " 'seq_len': 30,\n",
       " 'hidden_dim': 50,\n",
       " 'epoch': 60,\n",
       " 'score': 0.9954036474227905}"
      ]
     },
     "execution_count": 39,
     "metadata": {},
     "output_type": "execute_result"
    }
   ],
   "source": [
    "best_spoint"
   ]
  },
  {
   "cell_type": "code",
   "execution_count": null,
   "metadata": {
    "ExecuteTime": {
     "end_time": "2020-02-05T23:01:33.569014Z",
     "start_time": "2020-02-05T23:01:33.556503Z"
    }
   },
   "outputs": [],
   "source": []
  },
  {
   "cell_type": "code",
   "execution_count": null,
   "metadata": {
    "ExecuteTime": {
     "end_time": "2020-02-03T22:50:18.193531Z",
     "start_time": "2020-02-03T22:50:18.081176Z"
    }
   },
   "outputs": [],
   "source": []
  },
  {
   "cell_type": "code",
   "execution_count": null,
   "metadata": {
    "ExecuteTime": {
     "end_time": "2020-02-03T22:52:39.840801Z",
     "start_time": "2020-02-03T22:50:18.198970Z"
    }
   },
   "outputs": [],
   "source": []
  },
  {
   "cell_type": "code",
   "execution_count": null,
   "metadata": {
    "ExecuteTime": {
     "end_time": "2020-02-05T19:03:51.767288Z",
     "start_time": "2020-02-05T19:03:51.536479Z"
    }
   },
   "outputs": [],
   "source": []
  },
  {
   "cell_type": "code",
   "execution_count": null,
   "metadata": {
    "ExecuteTime": {
     "end_time": "2020-02-06T12:08:45.608242Z",
     "start_time": "2020-02-06T12:08:26.409Z"
    }
   },
   "outputs": [],
   "source": [
    "model.eval()\n",
    "y_pred = model(x_test)\n",
    "after_train = criterion(y_pred.squeeze(), y_test) \n",
    "print('Test loss after Training' , after_train.item())"
   ]
  },
  {
   "cell_type": "code",
   "execution_count": null,
   "metadata": {
    "ExecuteTime": {
     "start_time": "2020-02-03T01:54:02.426Z"
    }
   },
   "outputs": [],
   "source": []
  },
  {
   "cell_type": "code",
   "execution_count": null,
   "metadata": {
    "ExecuteTime": {
     "end_time": "2020-02-06T12:08:45.616392Z",
     "start_time": "2020-02-06T12:08:26.412Z"
    }
   },
   "outputs": [],
   "source": [
    "y_pred.shape"
   ]
  },
  {
   "cell_type": "code",
   "execution_count": null,
   "metadata": {
    "ExecuteTime": {
     "end_time": "2020-02-02T19:59:30.941239Z",
     "start_time": "2020-02-02T19:59:30.925435Z"
    }
   },
   "outputs": [],
   "source": []
  },
  {
   "cell_type": "code",
   "execution_count": null,
   "metadata": {},
   "outputs": [],
   "source": []
  }
 ],
 "metadata": {
  "kernelspec": {
   "display_name": "Python 3",
   "language": "python",
   "name": "python3"
  },
  "language_info": {
   "codemirror_mode": {
    "name": "ipython",
    "version": 3
   },
   "file_extension": ".py",
   "mimetype": "text/x-python",
   "name": "python",
   "nbconvert_exporter": "python",
   "pygments_lexer": "ipython3",
   "version": "3.6.10"
  }
 },
 "nbformat": 4,
 "nbformat_minor": 4
}
