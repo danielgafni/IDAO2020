{
 "cells": [
  {
   "cell_type": "markdown",
   "metadata": {},
   "source": [
    "# Imports"
   ]
  },
  {
   "cell_type": "code",
   "execution_count": null,
   "metadata": {
    "ExecuteTime": {
     "end_time": "2020-02-07T15:05:06.739601Z",
     "start_time": "2020-02-07T15:05:04.142114Z"
    }
   },
   "outputs": [],
   "source": [
    "import pandas as pd\n",
    "import numpy as np\n",
    "from matplotlib import pyplot as plt\n",
    "import torch\n",
    "from torch.utils.data import Dataset, DataLoader\n",
    "import plotly.graph_objs as go\n",
    "from sklearn.model_selection import train_test_split\n",
    "from sklearn.preprocessing import LabelEncoder, StandardScaler\n",
    "from utils import TrainTestSequenceDataset, smape, process_for_train, features, targets, spherical_from_cartesian\n",
    "from models import LSTM, ResNet18\n",
    "from tqdm.notebook import tqdm\n",
    "from IPython.display import clear_output, display\n",
    "import ipywidgets as widgets\n",
    "import os\n",
    "from spaceopt import SpaceOpt"
   ]
  },
  {
   "cell_type": "markdown",
   "metadata": {},
   "source": [
    "# Loading data"
   ]
  },
  {
   "cell_type": "code",
   "execution_count": null,
   "metadata": {
    "ExecuteTime": {
     "end_time": "2020-02-07T15:05:08.597486Z",
     "start_time": "2020-02-07T15:05:06.747298Z"
    }
   },
   "outputs": [],
   "source": [
    "data = pd.read_csv('train.csv', parse_dates=['epoch'])\n",
    "test_sat_id = torch.load('test_sat_id')"
   ]
  },
  {
   "cell_type": "markdown",
   "metadata": {},
   "source": [
    "# Data processing"
   ]
  },
  {
   "cell_type": "code",
   "execution_count": null,
   "metadata": {
    "ExecuteTime": {
     "end_time": "2020-02-07T15:05:17.210199Z",
     "start_time": "2020-02-07T15:05:08.599033Z"
    }
   },
   "outputs": [],
   "source": [
    "sat_datas_train, sat_datas_test = process_for_train(data)"
   ]
  },
  {
   "cell_type": "code",
   "execution_count": null,
   "metadata": {
    "ExecuteTime": {
     "end_time": "2020-02-07T15:05:17.237762Z",
     "start_time": "2020-02-07T15:05:17.211515Z"
    }
   },
   "outputs": [],
   "source": [
    "sat_datas_train[0].head()"
   ]
  },
  {
   "cell_type": "markdown",
   "metadata": {},
   "source": [
    "# Model"
   ]
  },
  {
   "cell_type": "code",
   "execution_count": null,
   "metadata": {
    "ExecuteTime": {
     "end_time": "2020-02-07T16:21:42.221785Z",
     "start_time": "2020-02-07T16:21:42.214885Z"
    }
   },
   "outputs": [],
   "source": [
    "seq_len = 20\n",
    "hidden_dim = 100\n",
    "num_layers = 2\n",
    "model = LSTM(hidden_dim=hidden_dim, seq_len=seq_len, num_layers=num_layers)\n",
    "model.train()\n",
    "optimizer = torch.optim.Adam(params=model.parameters(), lr=0.02, eps=1e-2)\n",
    "criterion = smape\n",
    "n = 10"
   ]
  },
  {
   "cell_type": "markdown",
   "metadata": {},
   "source": [
    "# Train on n satellite"
   ]
  },
  {
   "cell_type": "code",
   "execution_count": null,
   "metadata": {
    "ExecuteTime": {
     "end_time": "2020-02-07T16:25:33.675792Z",
     "start_time": "2020-02-07T16:21:47.881474Z"
    }
   },
   "outputs": [],
   "source": [
    "model.train()\n",
    "loss_widget = widgets.FloatProgress(min=0, max=1, step=0.01, description='Loss', value=0)  # jupyter widget\n",
    "display(loss_widget)\n",
    "train_data = sat_datas_train[n]\n",
    "x_train = train_data[features]\n",
    "y_train = train_data[targets]\n",
    "train_dataset = TrainTestSequenceDataset(x_train, y_train, seq_len=model.seq_len)\n",
    "train_dataloader = DataLoader(train_dataset, batch_size=1, shuffle=True)\n",
    "for epoch in tqdm(range(15)):\n",
    "    for seq_train_x, seq_train_y in train_dataloader:\n",
    "        model.zero_grad()  # refresh gradients\n",
    "        model.init_hidden_cell()\n",
    "        predictions = model(seq_train_x)\n",
    "        loss = criterion(predictions, seq_train_y)\n",
    "        loss_widget.value = loss.mean()\n",
    "        loss.mean().backward()  # compute gradients\n",
    "        optimizer.step()  # update network parameters"
   ]
  },
  {
   "cell_type": "code",
   "execution_count": null,
   "metadata": {
    "ExecuteTime": {
     "end_time": "2020-02-07T16:27:14.472010Z",
     "start_time": "2020-02-07T16:27:12.168295Z"
    }
   },
   "outputs": [],
   "source": [
    "model.eval()\n",
    "score_widget = widgets.FloatProgress(min=0, max=1, step=0.01, description='Score', value=0)  # jupyter widget\n",
    "display(score_widget)\n",
    "test_data = sat_datas_test[n]\n",
    "x_test = test_data[features]\n",
    "y_test = test_data[targets]\n",
    "test_dataset = TrainTestSequenceDataset(x_test, y_test, seq_len=model.seq_len)\n",
    "test_dataloader = DataLoader(test_dataset, batch_size=1, shuffle=False)\n",
    "loss_sum = 0\n",
    "i = 0\n",
    "\n",
    "for seq_test_x, seq_test_y in tqdm(test_dataloader):\n",
    "    with torch.no_grad():\n",
    "        model.init_hidden_cell()\n",
    "        predictions = model(seq_test_x)\n",
    "        loss = criterion(predictions, seq_test_y).mean()\n",
    "        loss_sum += loss\n",
    "        i += 1\n",
    "        score_widget.value = 1 - loss_sum / i\n",
    "score =  (1 - loss_sum / i).item()\n",
    "print(score)"
   ]
  },
  {
   "cell_type": "code",
   "execution_count": null,
   "metadata": {
    "ExecuteTime": {
     "end_time": "2020-02-07T15:06:08.137273Z",
     "start_time": "2020-02-07T15:05:04.187Z"
    }
   },
   "outputs": [],
   "source": [
    "search_space = {\n",
    "    'lr': [0.001, 0.01, 0.1, 1.],\n",
    "    'eps': [1e-8, 1e-4, 1e-2, 1e0],\n",
    "    'seq_len': [10, 20, 30, 40],\n",
    "    'hidden_dim': [20, 30, 50],\n",
    "    'epoch': [10],\n",
    "    'num_layers': [1, 2, 3, 4]\n",
    "}"
   ]
  },
  {
   "cell_type": "code",
   "execution_count": null,
   "metadata": {
    "ExecuteTime": {
     "end_time": "2020-02-07T16:32:07.379247Z",
     "start_time": "2020-02-07T16:32:07.356687Z"
    }
   },
   "outputs": [],
   "source": [
    "def evaluate_new(spoint, sat_id):\n",
    "    seq_len = spoint['seq_len']\n",
    "    hidden_dim = spoint['hidden_dim']\n",
    "    num_layers = spoint['num_layers']\n",
    "    ep = spoint['epoch']\n",
    "    lr = spoint['lr']\n",
    "    eps = spoint['eps']\n",
    "    \n",
    "    train_data = sat_datas_train[sat_id]\n",
    "    if seq_len > int(len(train_data) / 2 - 1):\n",
    "        seq_len = int(len(train_data) / 2 - 1)\n",
    "    x_train = train_data[features]\n",
    "    y_train = train_data[targets]\n",
    "    \n",
    "    model = LSTM(hidden_dim=hidden_dim, seq_len=seq_len, num_layers=num_layers)\n",
    "    model.train()\n",
    "    optimizer = torch.optim.Adam(params=model.parameters(), lr=lr, eps=eps)\n",
    "    criterion = smape\n",
    "    model.train()\n",
    "    loss_widget = widgets.FloatProgress(min=0, max=1, step=0.01, description='Loss', value=0)  # jupyter widget\n",
    "    display(loss_widget)\n",
    "    train_data = sat_datas_train[n]\n",
    "    x_train = train_data[features]\n",
    "    y_train = train_data[targets]\n",
    "    train_dataset = TrainTestSequenceDataset(x_train, y_train, seq_len=model.seq_len)\n",
    "    train_dataloader = DataLoader(train_dataset, batch_size=1, shuffle=True)\n",
    "    for epoch in tqdm(range(ep)):\n",
    "        for seq_train_x, seq_train_y in train_dataloader:\n",
    "            model.zero_grad()  # refresh gradients\n",
    "            model.init_hidden_cell()\n",
    "            predictions = model(seq_train_x)\n",
    "            loss = criterion(predictions, seq_train_y)\n",
    "            loss_widget.value = loss.mean()\n",
    "            loss.mean().backward()  # compute gradients\n",
    "            optimizer.step()  # update network parameters\n",
    "\n",
    "    model.eval()\n",
    "    score_widget = widgets.FloatProgress(min=0, max=1, step=0.01, description='Score', value=0)  # jupyter widget\n",
    "    display(score_widget)\n",
    "    test_data = sat_datas_test[n]\n",
    "    x_test = test_data[features]\n",
    "    y_test = test_data[targets]\n",
    "    test_dataset = TrainTestSequenceDataset(x_test, y_test, seq_len=model.seq_len)\n",
    "    test_dataloader = DataLoader(test_dataset, batch_size=1, shuffle=False)\n",
    "    loss_sum = 0\n",
    "    i = 0\n",
    "\n",
    "    for seq_test_x, seq_test_y in tqdm(test_dataloader):\n",
    "        with torch.no_grad():\n",
    "            model.init_hidden_cell()\n",
    "            predictions = model(seq_test_x)\n",
    "            loss = criterion(predictions, seq_test_y).mean()\n",
    "            loss_sum += loss\n",
    "            i += 1\n",
    "            score_widget.value = 1 - loss_sum / i\n",
    "    score =  (1 - loss_sum / i).item()\n",
    "\n",
    "    return score, model"
   ]
  },
  {
   "cell_type": "code",
   "execution_count": null,
   "metadata": {
    "ExecuteTime": {
     "end_time": "2020-02-07T16:32:07.940926Z",
     "start_time": "2020-02-07T16:32:07.936472Z"
    }
   },
   "outputs": [],
   "source": [
    "best_params = {'lr': 0.02, 'eps': 1e-2, 'seq_len': 20,\n",
    "               'hidden_dim': 100, 'epoch': 30, 'num_layers': 2}"
   ]
  },
  {
   "cell_type": "code",
   "execution_count": null,
   "metadata": {
    "ExecuteTime": {
     "end_time": "2020-02-07T16:38:16.420234Z",
     "start_time": "2020-02-07T16:32:08.476569Z"
    }
   },
   "outputs": [],
   "source": [
    "results = {}\n",
    "for sat_id in test_sat_id:\n",
    "    clear_output()\n",
    "    print(f'Satellite id: {sat_id}')\n",
    "    print(results)\n",
    "    spoint = best_params\n",
    "    \n",
    "    score, model= evaluate_new(spoint=spoint, sat_id=sat_id)\n",
    "    spoint['score'] = score\n",
    "    if not os.path.exists(f'models//{sat_id}'):\n",
    "        os.makedirs(f'models//{sat_id}')\n",
    "    results[str(sat_id)] = score\n",
    "    torch.save(score, f'models//{sat_id}//score')\n",
    "    torch.save(model, f'models//{sat_id}//model.pt')"
   ]
  }
 ],
 "metadata": {
  "kernelspec": {
   "display_name": "Python 3",
   "language": "python",
   "name": "python3"
  },
  "language_info": {
   "codemirror_mode": {
    "name": "ipython",
    "version": 3
   },
   "file_extension": ".py",
   "mimetype": "text/x-python",
   "name": "python",
   "nbconvert_exporter": "python",
   "pygments_lexer": "ipython3",
   "version": "3.6.10"
  }
 },
 "nbformat": 4,
 "nbformat_minor": 4
}
