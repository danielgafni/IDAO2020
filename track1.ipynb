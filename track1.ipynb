{
 "cells": [
  {
   "cell_type": "markdown",
   "metadata": {},
   "source": [
    "# Imports"
   ]
  },
  {
   "cell_type": "code",
   "execution_count": 1,
   "metadata": {
    "ExecuteTime": {
     "end_time": "2020-02-06T19:55:36.780127Z",
     "start_time": "2020-02-06T19:55:36.775967Z"
    }
   },
   "outputs": [],
   "source": [
    "import pandas as pd\n",
    "import numpy as np\n",
    "from matplotlib import pyplot as plt\n",
    "import torch\n",
    "from torch.utils.data import Dataset, DataLoader\n",
    "import plotly.graph_objs as go\n",
    "from sklearn.model_selection import train_test_split\n",
    "from sklearn.preprocessing import LabelEncoder, StandardScaler\n",
    "from utils import TrainTestSequenceDataset, smape, process_for_train, features, targets, spherical_from_cartesian\n",
    "from models import LSTM, ResNet18\n",
    "from tqdm.notebook import tqdm\n",
    "from IPython.display import clear_output, display\n",
    "import ipywidgets as widgets\n",
    "import os\n",
    "from spaceopt import SpaceOpt"
   ]
  },
  {
   "cell_type": "markdown",
   "metadata": {},
   "source": [
    "# Loading data"
   ]
  },
  {
   "cell_type": "code",
   "execution_count": 2,
   "metadata": {
    "ExecuteTime": {
     "end_time": "2020-02-06T18:54:01.381447Z",
     "start_time": "2020-02-06T18:53:57.938426Z"
    }
   },
   "outputs": [],
   "source": [
    "data = pd.read_csv('train.csv', parse_dates=['epoch'])\n",
    "test_sat_id = torch.load('test_sat_id')"
   ]
  },
  {
   "cell_type": "markdown",
   "metadata": {},
   "source": [
    "# Data processing"
   ]
  },
  {
   "cell_type": "code",
   "execution_count": 3,
   "metadata": {
    "ExecuteTime": {
     "end_time": "2020-02-06T18:54:08.012495Z",
     "start_time": "2020-02-06T18:54:01.383613Z"
    }
   },
   "outputs": [],
   "source": [
    "sat_datas_train, sat_datas_test = process_for_train(data)"
   ]
  },
  {
   "cell_type": "code",
   "execution_count": 4,
   "metadata": {
    "ExecuteTime": {
     "end_time": "2020-02-06T18:54:08.132981Z",
     "start_time": "2020-02-06T18:54:08.013795Z"
    }
   },
   "outputs": [
    {
     "data": {
      "text/html": [
       "<div>\n",
       "<style scoped>\n",
       "    .dataframe tbody tr th:only-of-type {\n",
       "        vertical-align: middle;\n",
       "    }\n",
       "\n",
       "    .dataframe tbody tr th {\n",
       "        vertical-align: top;\n",
       "    }\n",
       "\n",
       "    .dataframe thead th {\n",
       "        text-align: right;\n",
       "    }\n",
       "</style>\n",
       "<table border=\"1\" class=\"dataframe\">\n",
       "  <thead>\n",
       "    <tr style=\"text-align: right;\">\n",
       "      <th></th>\n",
       "      <th>epoch</th>\n",
       "      <th>x</th>\n",
       "      <th>y</th>\n",
       "      <th>z</th>\n",
       "      <th>Vx</th>\n",
       "      <th>Vy</th>\n",
       "      <th>Vz</th>\n",
       "      <th>x_sim</th>\n",
       "      <th>y_sim</th>\n",
       "      <th>z_sim</th>\n",
       "      <th>...</th>\n",
       "      <th>fi_sim</th>\n",
       "      <th>dro/dt_sim</th>\n",
       "      <th>dtheta/dt_sim</th>\n",
       "      <th>dfi/dt_sim</th>\n",
       "      <th>dx_sim</th>\n",
       "      <th>dy_sim</th>\n",
       "      <th>dz_sim</th>\n",
       "      <th>dro_sim</th>\n",
       "      <th>dtheta_sim</th>\n",
       "      <th>dfi_sim</th>\n",
       "    </tr>\n",
       "  </thead>\n",
       "  <tbody>\n",
       "    <tr>\n",
       "      <th>0</th>\n",
       "      <td>-1.730756</td>\n",
       "      <td>-8855.823863</td>\n",
       "      <td>13117.780146</td>\n",
       "      <td>-20728.353233</td>\n",
       "      <td>-0.908303</td>\n",
       "      <td>-3.808436</td>\n",
       "      <td>-2.022083</td>\n",
       "      <td>-0.311082</td>\n",
       "      <td>0.500388</td>\n",
       "      <td>-0.999704</td>\n",
       "      <td>...</td>\n",
       "      <td>-1.291078</td>\n",
       "      <td>-0.004444</td>\n",
       "      <td>-0.937090</td>\n",
       "      <td>0.747771</td>\n",
       "      <td>-0.343891</td>\n",
       "      <td>-1.463405</td>\n",
       "      <td>-0.957448</td>\n",
       "      <td>-0.004444</td>\n",
       "      <td>-0.937090</td>\n",
       "      <td>0.747771</td>\n",
       "    </tr>\n",
       "    <tr>\n",
       "      <th>1</th>\n",
       "      <td>-1.727132</td>\n",
       "      <td>-10567.672384</td>\n",
       "      <td>1619.746066</td>\n",
       "      <td>-24451.813271</td>\n",
       "      <td>-0.302590</td>\n",
       "      <td>-4.272617</td>\n",
       "      <td>-0.612796</td>\n",
       "      <td>-0.378567</td>\n",
       "      <td>0.051732</td>\n",
       "      <td>-1.180247</td>\n",
       "      <td>...</td>\n",
       "      <td>-1.908559</td>\n",
       "      <td>0.434614</td>\n",
       "      <td>-1.353263</td>\n",
       "      <td>0.125439</td>\n",
       "      <td>-0.114952</td>\n",
       "      <td>-1.642185</td>\n",
       "      <td>-0.291497</td>\n",
       "      <td>0.434614</td>\n",
       "      <td>-1.353263</td>\n",
       "      <td>0.125439</td>\n",
       "    </tr>\n",
       "    <tr>\n",
       "      <th>2</th>\n",
       "      <td>-1.723508</td>\n",
       "      <td>-10578.684043</td>\n",
       "      <td>-10180.467460</td>\n",
       "      <td>-24238.280949</td>\n",
       "      <td>0.277435</td>\n",
       "      <td>-4.047522</td>\n",
       "      <td>0.723155</td>\n",
       "      <td>-0.379212</td>\n",
       "      <td>-0.408885</td>\n",
       "      <td>-1.170478</td>\n",
       "      <td>...</td>\n",
       "      <td>1.416777</td>\n",
       "      <td>0.757259</td>\n",
       "      <td>-1.006825</td>\n",
       "      <td>-0.538343</td>\n",
       "      <td>0.104417</td>\n",
       "      <td>-1.556416</td>\n",
       "      <td>0.340189</td>\n",
       "      <td>0.757259</td>\n",
       "      <td>-1.006825</td>\n",
       "      <td>-0.538343</td>\n",
       "    </tr>\n",
       "    <tr>\n",
       "      <th>3</th>\n",
       "      <td>-1.719884</td>\n",
       "      <td>-9148.251857</td>\n",
       "      <td>-20651.437460</td>\n",
       "      <td>-20720.381279</td>\n",
       "      <td>0.715600</td>\n",
       "      <td>-3.373762</td>\n",
       "      <td>1.722115</td>\n",
       "      <td>-0.323161</td>\n",
       "      <td>-0.817838</td>\n",
       "      <td>-1.000836</td>\n",
       "      <td>...</td>\n",
       "      <td>0.937656</td>\n",
       "      <td>0.927449</td>\n",
       "      <td>-0.680071</td>\n",
       "      <td>-0.604404</td>\n",
       "      <td>0.270316</td>\n",
       "      <td>-1.298146</td>\n",
       "      <td>0.813059</td>\n",
       "      <td>0.927449</td>\n",
       "      <td>-0.680071</td>\n",
       "      <td>-0.604404</td>\n",
       "    </tr>\n",
       "    <tr>\n",
       "      <th>4</th>\n",
       "      <td>-1.716260</td>\n",
       "      <td>-6719.092336</td>\n",
       "      <td>-28929.061629</td>\n",
       "      <td>-14938.907967</td>\n",
       "      <td>0.992507</td>\n",
       "      <td>-2.519732</td>\n",
       "      <td>2.344703</td>\n",
       "      <td>-0.227778</td>\n",
       "      <td>-1.141341</td>\n",
       "      <td>-0.721533</td>\n",
       "      <td>...</td>\n",
       "      <td>0.552240</td>\n",
       "      <td>0.972421</td>\n",
       "      <td>-0.534778</td>\n",
       "      <td>-0.546743</td>\n",
       "      <td>0.375320</td>\n",
       "      <td>-0.970269</td>\n",
       "      <td>1.108234</td>\n",
       "      <td>0.972421</td>\n",
       "      <td>-0.534778</td>\n",
       "      <td>-0.546743</td>\n",
       "    </tr>\n",
       "  </tbody>\n",
       "</table>\n",
       "<p>5 rows × 25 columns</p>\n",
       "</div>"
      ],
      "text/plain": [
       "      epoch             x             y             z        Vx        Vy  \\\n",
       "0 -1.730756  -8855.823863  13117.780146 -20728.353233 -0.908303 -3.808436   \n",
       "1 -1.727132 -10567.672384   1619.746066 -24451.813271 -0.302590 -4.272617   \n",
       "2 -1.723508 -10578.684043 -10180.467460 -24238.280949  0.277435 -4.047522   \n",
       "3 -1.719884  -9148.251857 -20651.437460 -20720.381279  0.715600 -3.373762   \n",
       "4 -1.716260  -6719.092336 -28929.061629 -14938.907967  0.992507 -2.519732   \n",
       "\n",
       "         Vz     x_sim     y_sim     z_sim  ...    fi_sim  dro/dt_sim  \\\n",
       "0 -2.022083 -0.311082  0.500388 -0.999704  ... -1.291078   -0.004444   \n",
       "1 -0.612796 -0.378567  0.051732 -1.180247  ... -1.908559    0.434614   \n",
       "2  0.723155 -0.379212 -0.408885 -1.170478  ...  1.416777    0.757259   \n",
       "3  1.722115 -0.323161 -0.817838 -1.000836  ...  0.937656    0.927449   \n",
       "4  2.344703 -0.227778 -1.141341 -0.721533  ...  0.552240    0.972421   \n",
       "\n",
       "   dtheta/dt_sim  dfi/dt_sim    dx_sim    dy_sim    dz_sim   dro_sim  \\\n",
       "0      -0.937090    0.747771 -0.343891 -1.463405 -0.957448 -0.004444   \n",
       "1      -1.353263    0.125439 -0.114952 -1.642185 -0.291497  0.434614   \n",
       "2      -1.006825   -0.538343  0.104417 -1.556416  0.340189  0.757259   \n",
       "3      -0.680071   -0.604404  0.270316 -1.298146  0.813059  0.927449   \n",
       "4      -0.534778   -0.546743  0.375320 -0.970269  1.108234  0.972421   \n",
       "\n",
       "   dtheta_sim   dfi_sim  \n",
       "0   -0.937090  0.747771  \n",
       "1   -1.353263  0.125439  \n",
       "2   -1.006825 -0.538343  \n",
       "3   -0.680071 -0.604404  \n",
       "4   -0.534778 -0.546743  \n",
       "\n",
       "[5 rows x 25 columns]"
      ]
     },
     "execution_count": 4,
     "metadata": {},
     "output_type": "execute_result"
    }
   ],
   "source": [
    "sat_datas_train[0].head()"
   ]
  },
  {
   "cell_type": "markdown",
   "metadata": {},
   "source": [
    "# Model"
   ]
  },
  {
   "cell_type": "code",
   "execution_count": 5,
   "metadata": {
    "ExecuteTime": {
     "end_time": "2020-02-06T18:56:03.378479Z",
     "start_time": "2020-02-06T18:56:03.371267Z"
    }
   },
   "outputs": [],
   "source": [
    "seq_len = 40\n",
    "hidden_dim = 300\n",
    "num_layers = 2\n",
    "model = LSTM(hidden_dim=hidden_dim, seq_len=seq_len, num_layers=num_layers)\n",
    "model.train()\n",
    "optimizer = torch.optim.Adam(params=model.parameters(), lr=0.001, eps=1e-2)\n",
    "criterion = smape\n",
    "n = 1"
   ]
  },
  {
   "cell_type": "markdown",
   "metadata": {},
   "source": [
    "# Train on n satellite"
   ]
  },
  {
   "cell_type": "code",
   "execution_count": 6,
   "metadata": {},
   "outputs": [
    {
     "data": {
      "application/vnd.jupyter.widget-view+json": {
       "model_id": "f687ea3da8db469c91ef80eba69e54df",
       "version_major": 2,
       "version_minor": 0
      },
      "text/plain": [
       "FloatProgress(value=0.0, description='Loss', max=1.0)"
      ]
     },
     "metadata": {},
     "output_type": "display_data"
    },
    {
     "data": {
      "application/vnd.jupyter.widget-view+json": {
       "model_id": "3bdf3680d9af476db93b4b3803cf757f",
       "version_major": 2,
       "version_minor": 0
      },
      "text/plain": [
       "HBox(children=(FloatProgress(value=0.0, max=10.0), HTML(value='')))"
      ]
     },
     "metadata": {},
     "output_type": "display_data"
    },
    {
     "name": "stdout",
     "output_type": "stream",
     "text": [
      "\n"
     ]
    }
   ],
   "source": [
    "model.train()\n",
    "loss_widget = widgets.FloatProgress(min=0, max=1, step=0.01, description='Loss', value=0)  # jupyter widget\n",
    "display(loss_widget)\n",
    "train_data = sat_datas_train[n]\n",
    "x_train = train_data[features]\n",
    "y_train = train_data[targets]\n",
    "train_dataset = TrainTestSequenceDataset(x_train, y_train, seq_len=model.seq_len)\n",
    "train_dataloader = DataLoader(train_dataset, batch_size=1, shuffle=True)\n",
    "for epoch in tqdm(range(10)):\n",
    "    for seq_train_x, seq_train_y in train_dataloader:\n",
    "        model.zero_grad()  # refresh gradients\n",
    "        model.init_hidden_cell()\n",
    "        predictions = model(seq_train_x)\n",
    "        loss = criterion(predictions, seq_train_y[:, -1, :])\n",
    "        loss_widget.value = loss\n",
    "        loss.backward()  # compute gradients\n",
    "        optimizer.step()  # update network parameters"
   ]
  },
  {
   "cell_type": "code",
   "execution_count": 7,
   "metadata": {},
   "outputs": [
    {
     "name": "stdout",
     "output_type": "stream",
     "text": [
      "tensor([[-2.9657e+04,  5.3568e+03, -7.0877e+03, -1.0155e+00, -2.0413e+00,\n",
      "          1.2403e+00]], grad_fn=<CopySlices>)\n",
      "tensor([[-3.0420e+04,  7.1447e+03, -7.6411e+03, -1.0368e+00, -1.9035e+00,\n",
      "          1.0968e+00]])\n"
     ]
    }
   ],
   "source": [
    "print(predictions)\n",
    "print(seq_train_y[:, -1, :])"
   ]
  },
  {
   "cell_type": "code",
   "execution_count": 8,
   "metadata": {},
   "outputs": [
    {
     "data": {
      "application/vnd.jupyter.widget-view+json": {
       "model_id": "887d65797aef48349120e593e67f8346",
       "version_major": 2,
       "version_minor": 0
      },
      "text/plain": [
       "FloatProgress(value=0.0, description='Score', max=1.0)"
      ]
     },
     "metadata": {},
     "output_type": "display_data"
    },
    {
     "data": {
      "application/vnd.jupyter.widget-view+json": {
       "model_id": "b88a35229b684831ac4ced80f4cbea47",
       "version_major": 2,
       "version_minor": 0
      },
      "text/plain": [
       "HBox(children=(FloatProgress(value=0.0, max=488.0), HTML(value='')))"
      ]
     },
     "metadata": {},
     "output_type": "display_data"
    },
    {
     "name": "stdout",
     "output_type": "stream",
     "text": [
      "\n",
      "0.8792967796325684\n"
     ]
    }
   ],
   "source": [
    "model.eval()\n",
    "score_widget = widgets.FloatProgress(min=0, max=1, step=0.01, description='Score', value=0)  # jupyter widget\n",
    "display(score_widget)\n",
    "test_data = sat_datas_test[n]\n",
    "x_test = test_data[features]\n",
    "y_test = test_data[targets]\n",
    "test_dataset = TrainTestSequenceDataset(x_test, y_test, seq_len=model.seq_len)\n",
    "test_dataloader = DataLoader(test_dataset, batch_size=1, shuffle=False)\n",
    "loss_sum = 0\n",
    "i = 0\n",
    "\n",
    "for seq_test_x, seq_test_y in tqdm(test_dataloader):\n",
    "    with torch.no_grad():\n",
    "        model.init_hidden_cell()\n",
    "        predictions = model(seq_test_x)\n",
    "        loss = criterion(predictions, seq_test_y[:, -1, :])\n",
    "        loss_sum += loss\n",
    "        i += 1\n",
    "        score_widget.value = 1 - loss_sum / i\n",
    "score =  (1 - loss_sum / i).item()\n",
    "print(score)"
   ]
  },
  {
   "cell_type": "code",
   "execution_count": null,
   "metadata": {
    "ExecuteTime": {
     "end_time": "2020-02-06T19:40:21.690686Z",
     "start_time": "2020-02-06T19:40:21.685092Z"
    }
   },
   "outputs": [],
   "source": [
    "def train_model(sat_id, model, optimizer, epoch, criterion=smape):\n",
    "    model.train()\n",
    "    loss_widget = widgets.FloatProgress(min=0, max=1, step=0.01, description='Loss', value=0)  # jupyter widget\n",
    "    display(loss_widget)\n",
    "    train_data = sat_datas_train[sat_id]\n",
    "    x_train = train_data[features]\n",
    "    y_train = train_data[targets]\n",
    "    train_dataset = TrainTestSequenceDataset(x_train, y_train, seq_len=model.seq_len)\n",
    "    train_dataloader = DataLoader(train_dataset, batch_size=1, shuffle=True)\n",
    "    mean_loss = 0\n",
    "    for epoch in tqdm(range(epoch)):\n",
    "        i = 0\n",
    "        sum_loss = 0\n",
    "        if epoch > 2 and mean_loss > 0.5:\n",
    "            return None\n",
    "        for seq_train_x, seq_train_y in train_dataloader:\n",
    "            model.zero_grad()  # refresh gradients\n",
    "            model.init_hidden_cell()\n",
    "            predictions = model(seq_train_x)\n",
    "            loss = criterion(predictions, seq_train_y[:, -1, :])\n",
    "            loss_widget.value = loss\n",
    "            loss.backward()  # compute gradients\n",
    "            optimizer.step()  # update network parameters\n",
    "            \n",
    "            i += 1 \n",
    "            sum_loss += loss\n",
    "            mean_loss = sum_loss / i"
   ]
  },
  {
   "cell_type": "code",
   "execution_count": null,
   "metadata": {
    "scrolled": true
   },
   "outputs": [],
   "source": [
    "train_model(sat_id=0, model=model, optimizer=optimizer, criterion=smape, epoch=30)"
   ]
  },
  {
   "cell_type": "code",
   "execution_count": null,
   "metadata": {},
   "outputs": [],
   "source": []
  },
  {
   "cell_type": "markdown",
   "metadata": {},
   "source": [
    "# Test on n satellite"
   ]
  },
  {
   "cell_type": "code",
   "execution_count": null,
   "metadata": {},
   "outputs": [],
   "source": [
    "def test_model(sat_id, model, optimizer, criterion=smape):\n",
    "    model.eval()\n",
    "    score_widget = widgets.FloatProgress(min=0, max=1, step=0.01, description='Score', value=0)  # jupyter widget\n",
    "    display(score_widget)\n",
    "    test_data = sat_datas_test[sat_id]\n",
    "    x_test = test_data[features]\n",
    "    y_test = test_data[targets]\n",
    "    test_dataset = TrainTestSequenceDataset(x_test, y_test, seq_len=model.seq_len)\n",
    "    test_dataloader = DataLoader(test_dataset, batch_size=1, shuffle=False)\n",
    "    loss_sum = 0\n",
    "    i = 0\n",
    "    \n",
    "    for seq_test_x, seq_test_y in tqdm(test_dataloader):\n",
    "        with torch.no_grad():\n",
    "            model.init_hidden_cell()\n",
    "            predictions = model(seq_test_x)\n",
    "            loss = criterion(predictions, seq_test_y[:, -1, :])\n",
    "            loss_sum += loss\n",
    "            i += 1\n",
    "            score_widget.value = 1 - loss_sum / i\n",
    "    return (1 - loss_sum / i).item()"
   ]
  },
  {
   "cell_type": "code",
   "execution_count": null,
   "metadata": {},
   "outputs": [],
   "source": [
    "test_model(sat_id=0, optimizer=optimizer, model=model)"
   ]
  },
  {
   "cell_type": "code",
   "execution_count": null,
   "metadata": {},
   "outputs": [],
   "source": [
    "def evaluate(model, optimizer, criterion, spoint, sat_id):\n",
    "    seq_len = spoint['seq_len']\n",
    "    desc = 'satellite number'\n",
    "    epoch = spoint['epoch']\n",
    "    hidden_dim = spoint['hidden_dim']\n",
    "    num_layers = spoint['num_layers']\n",
    "    if seq_len > len(sat_datas_test[sat_id]):\n",
    "        seq_len = sat_datas_test[sat_id]\n",
    "    \n",
    "    model = LSTM(hidden_dim=hidden_dim, seq_len=seq_len, num_layers=num_layers)\n",
    "    optimizer = torch.optim.Adam(params=model.parameters(), lr=spoint['lr'], eps=spoint['eps'])\n",
    "    criterion = smape\n",
    "    train_model(sat_id=sat_id, model=model, optimizer=optimizer, criterion=smape, epoch=epoch)\n",
    "    \n",
    "    score = test_model(sat_id=sat_id, model=model, optimizer=optimizer, criterion=smape)\n",
    "    \n",
    "    return score, model"
   ]
  },
  {
   "cell_type": "code",
   "execution_count": 11,
   "metadata": {
    "ExecuteTime": {
     "end_time": "2020-02-06T19:46:29.096598Z",
     "start_time": "2020-02-06T19:45:23.853604Z"
    }
   },
   "outputs": [],
   "source": [
    "best_params = {'lr': 0.001, 'eps': 0.0001, 'seq_len': 40, 'hidden_dim': 300, 'epoch': 10, 'num_layers': 2}"
   ]
  },
  {
   "cell_type": "code",
   "execution_count": null,
   "metadata": {
    "ExecuteTime": {
     "end_time": "2020-02-06T16:31:52.440037Z",
     "start_time": "2020-02-06T16:31:51.296771Z"
    }
   },
   "outputs": [],
   "source": [
    "search_space = {\n",
    "    'lr': [0.001, 0.01, 0.1, 1.],\n",
    "    'eps': [1e-8, 1e-4, 1e-2, 1e0],\n",
    "    'seq_len': [10, 20, 30, 40],\n",
    "    'hidden_dim': [20, 30, 50],\n",
    "    'epoch': [10],\n",
    "    'num_layers': [1, 2, 3, 4]\n",
    "}"
   ]
  },
  {
   "cell_type": "code",
   "execution_count": null,
   "metadata": {
    "ExecuteTime": {
     "end_time": "2020-02-06T16:32:12.382571Z",
     "start_time": "2020-02-06T16:32:12.371351Z"
    }
   },
   "outputs": [],
   "source": [
    "results = {}\n",
    "spoint = best_params\n",
    "for sat_id in test_sat_id:\n",
    "    spaceopt = SpaceOpt(search_space=search_space,\n",
    "                    target_name='score',\n",
    "                    objective='max')\n",
    "    max_score = 0\n",
    "    score = 0\n",
    "    iteration = 0\n",
    "    best_hyperparameters = None\n",
    "    while score < 0.96 and iteration < 15:\n",
    "        for iteration in range(4):\n",
    "            if score > 0.96:\n",
    "                break\n",
    "            clear_output()\n",
    "            print('Previous iteration:')\n",
    "            print(f'Satellite id: {sat_id}')\n",
    "            print(f'Iteration: {iteration}')\n",
    "            print(spoint)\n",
    "            \n",
    "            if iteration == 0:\n",
    "                spoint = spaceopt.get_random()\n",
    "            elif iteration == 1:\n",
    "                spoint = best_params\n",
    "            elif iteration < 3:\n",
    "                spoint = spaceopt.get_random()   # exploration\n",
    "            else:\n",
    "                spoint = spaceopt.fit_predict()  # exploitation\n",
    "            if sat_id == 252:\n",
    "                spoint['seq_len'] = 24\n",
    "            print('This iteration:')\n",
    "            print(spoint)\n",
    "            print(model.seq_len)\n",
    "            score, model= evaluate(spoint=spoint, sat_id=sat_id)\n",
    "            spoint['score'] = score\n",
    "            spaceopt.append_evaluated_spoint(spoint)\n",
    "            \n",
    "            if score > max_score:\n",
    "                max_score = score\n",
    "                best_model = model\n",
    "                best_hyperparameters = spoint\n",
    "    else:\n",
    "        if not os.path.exists(f'models//{sat_id}'):\n",
    "            os.makedirs(f'models//{sat_id}')\n",
    "        results[sat_id] = spoint\n",
    "        torch.save(f'models//{sat_id}//hyperparameters', best_hyperparameters)\n",
    "        torch.save(f'models//{sat_id}//model.pt', model)"
   ]
  },
  {
   "cell_type": "code",
   "execution_count": 12,
   "metadata": {},
   "outputs": [],
   "source": [
    "def evaluate_new(spoint, sat_id):\n",
    "    n = sat_id\n",
    "    seq_len = spoint['seq_len']\n",
    "    hidden_dim = spoint['hidden_dim']\n",
    "    num_layers = spoint['num_layers']\n",
    "    ep = spoint['epoch']\n",
    "    lr = spoint['lr']\n",
    "    eps = spoint['eps']\n",
    "    \n",
    "    train_data = sat_datas_train[n]\n",
    "    if seq_len > int(len(train_data) / 2 - 1):\n",
    "        seq_len = int(len(train_data) / 2 - 1)\n",
    "    x_train = train_data[features]\n",
    "    y_train = train_data[targets]\n",
    "    \n",
    "    model = LSTM(hidden_dim=hidden_dim, seq_len=seq_len, num_layers=num_layers)\n",
    "    model.train()\n",
    "    optimizer = torch.optim.Adam(params=model.parameters(), lr=lr, eps=eps)\n",
    "    criterion = smape\n",
    "    model.train()\n",
    "    loss_widget = widgets.FloatProgress(min=0, max=1, step=0.01, description='Loss', value=0)  # jupyter widget\n",
    "    display(loss_widget)\n",
    "    \n",
    "    train_dataset = TrainTestSequenceDataset(x_train, y_train, seq_len=model.seq_len)\n",
    "    train_dataloader = DataLoader(train_dataset, batch_size=1, shuffle=True)\n",
    "    for epoch in tqdm(range(ep)):\n",
    "        for seq_train_x, seq_train_y in train_dataloader:\n",
    "            model.zero_grad()  # refresh gradients\n",
    "            model.init_hidden_cell()\n",
    "            predictions = model(seq_train_x)\n",
    "            loss = criterion(predictions, seq_train_y[:, -1, :])\n",
    "            loss_widget.value = loss\n",
    "            loss.backward()  # compute gradients\n",
    "            optimizer.step()  # update network parameters\n",
    "\n",
    "    model.eval()\n",
    "    score_widget = widgets.FloatProgress(min=0, max=1, step=0.01, description='Score', value=0)  # jupyter widget\n",
    "    display(score_widget)\n",
    "    test_data = sat_datas_test[n]\n",
    "    x_test = test_data[features]\n",
    "    y_test = test_data[targets]\n",
    "    test_dataset = TrainTestSequenceDataset(x_test, y_test, seq_len=model.seq_len)\n",
    "    test_dataloader = DataLoader(test_dataset, batch_size=1, shuffle=False)\n",
    "    loss_sum = 0\n",
    "    i = 0\n",
    "\n",
    "    for seq_test_x, seq_test_y in tqdm(test_dataloader):\n",
    "        with torch.no_grad():\n",
    "            model.init_hidden_cell()\n",
    "            predictions = model(seq_test_x)\n",
    "            loss = criterion(predictions, seq_test_y[:, -1, :])\n",
    "            loss_sum += loss\n",
    "            i += 1\n",
    "            score_widget.value = 1 - loss_sum / i\n",
    "    score =  (1 - loss_sum / i).item()\n",
    "    return score, model"
   ]
  },
  {
   "cell_type": "code",
   "execution_count": 13,
   "metadata": {
    "ExecuteTime": {
     "start_time": "2020-02-06T16:36:44.997Z"
    }
   },
   "outputs": [
    {
     "name": "stdout",
     "output_type": "stream",
     "text": [
      "Satellite id: 26\n",
      "{'1': {'lr': 0.001, 'eps': 0.0001, 'seq_len': 40, 'hidden_dim': 300, 'epoch': 10, 'num_layers': 2, 'score': 0.7898368239402771}, '2': {'lr': 0.001, 'eps': 0.0001, 'seq_len': 40, 'hidden_dim': 300, 'epoch': 10, 'num_layers': 2, 'score': 0.7898368239402771}, '3': {'lr': 0.001, 'eps': 0.0001, 'seq_len': 40, 'hidden_dim': 300, 'epoch': 10, 'num_layers': 2, 'score': 0.7898368239402771}, '4': {'lr': 0.001, 'eps': 0.0001, 'seq_len': 40, 'hidden_dim': 300, 'epoch': 10, 'num_layers': 2, 'score': 0.7898368239402771}, '6': {'lr': 0.001, 'eps': 0.0001, 'seq_len': 40, 'hidden_dim': 300, 'epoch': 10, 'num_layers': 2, 'score': 0.7898368239402771}, '9': {'lr': 0.001, 'eps': 0.0001, 'seq_len': 40, 'hidden_dim': 300, 'epoch': 10, 'num_layers': 2, 'score': 0.7898368239402771}, '16': {'lr': 0.001, 'eps': 0.0001, 'seq_len': 40, 'hidden_dim': 300, 'epoch': 10, 'num_layers': 2, 'score': 0.7898368239402771}, '20': {'lr': 0.001, 'eps': 0.0001, 'seq_len': 40, 'hidden_dim': 300, 'epoch': 10, 'num_layers': 2, 'score': 0.7898368239402771}, '22': {'lr': 0.001, 'eps': 0.0001, 'seq_len': 40, 'hidden_dim': 300, 'epoch': 10, 'num_layers': 2, 'score': 0.7898368239402771}, '24': {'lr': 0.001, 'eps': 0.0001, 'seq_len': 40, 'hidden_dim': 300, 'epoch': 10, 'num_layers': 2, 'score': 0.7898368239402771}, '25': {'lr': 0.001, 'eps': 0.0001, 'seq_len': 40, 'hidden_dim': 300, 'epoch': 10, 'num_layers': 2, 'score': 0.7898368239402771}}\n"
     ]
    },
    {
     "data": {
      "application/vnd.jupyter.widget-view+json": {
       "model_id": "d67ce2b428d24646aa7aefd93a82c091",
       "version_major": 2,
       "version_minor": 0
      },
      "text/plain": [
       "FloatProgress(value=0.0, description='Loss', max=1.0)"
      ]
     },
     "metadata": {},
     "output_type": "display_data"
    },
    {
     "data": {
      "application/vnd.jupyter.widget-view+json": {
       "model_id": "e2709490588a403699ab2df9c949d560",
       "version_major": 2,
       "version_minor": 0
      },
      "text/plain": [
       "HBox(children=(FloatProgress(value=0.0, max=10.0), HTML(value='')))"
      ]
     },
     "metadata": {},
     "output_type": "display_data"
    },
    {
     "name": "stdout",
     "output_type": "stream",
     "text": [
      "\n"
     ]
    },
    {
     "data": {
      "application/vnd.jupyter.widget-view+json": {
       "model_id": "026e707643084547bba19c0a0d46460f",
       "version_major": 2,
       "version_minor": 0
      },
      "text/plain": [
       "FloatProgress(value=0.0, description='Score', max=1.0)"
      ]
     },
     "metadata": {},
     "output_type": "display_data"
    },
    {
     "ename": "ValueError",
     "evalue": "__len__() should return >= 0",
     "output_type": "error",
     "traceback": [
      "\u001b[1;31m---------------------------------------------------------------------------\u001b[0m",
      "\u001b[1;31mValueError\u001b[0m                                Traceback (most recent call last)",
      "\u001b[1;32m<ipython-input-13-e0c8745d4a28>\u001b[0m in \u001b[0;36m<module>\u001b[1;34m\u001b[0m\n\u001b[0;32m      6\u001b[0m     \u001b[0mspoint\u001b[0m \u001b[1;33m=\u001b[0m \u001b[0mbest_params\u001b[0m\u001b[1;33m\u001b[0m\u001b[1;33m\u001b[0m\u001b[0m\n\u001b[0;32m      7\u001b[0m \u001b[1;33m\u001b[0m\u001b[0m\n\u001b[1;32m----> 8\u001b[1;33m     \u001b[0mscore\u001b[0m\u001b[1;33m,\u001b[0m \u001b[0mmodel\u001b[0m\u001b[1;33m=\u001b[0m \u001b[0mevaluate_new\u001b[0m\u001b[1;33m(\u001b[0m\u001b[0mspoint\u001b[0m\u001b[1;33m=\u001b[0m\u001b[0mspoint\u001b[0m\u001b[1;33m,\u001b[0m \u001b[0msat_id\u001b[0m\u001b[1;33m=\u001b[0m\u001b[0msat_id\u001b[0m\u001b[1;33m)\u001b[0m\u001b[1;33m\u001b[0m\u001b[1;33m\u001b[0m\u001b[0m\n\u001b[0m\u001b[0;32m      9\u001b[0m     \u001b[0mspoint\u001b[0m\u001b[1;33m[\u001b[0m\u001b[1;34m'score'\u001b[0m\u001b[1;33m]\u001b[0m \u001b[1;33m=\u001b[0m \u001b[0mscore\u001b[0m\u001b[1;33m\u001b[0m\u001b[1;33m\u001b[0m\u001b[0m\n\u001b[0;32m     10\u001b[0m     \u001b[1;32mif\u001b[0m \u001b[1;32mnot\u001b[0m \u001b[0mos\u001b[0m\u001b[1;33m.\u001b[0m\u001b[0mpath\u001b[0m\u001b[1;33m.\u001b[0m\u001b[0mexists\u001b[0m\u001b[1;33m(\u001b[0m\u001b[1;34mf'models//{sat_id}'\u001b[0m\u001b[1;33m)\u001b[0m\u001b[1;33m:\u001b[0m\u001b[1;33m\u001b[0m\u001b[1;33m\u001b[0m\u001b[0m\n",
      "\u001b[1;32m<ipython-input-12-7918e86be6ce>\u001b[0m in \u001b[0;36mevaluate_new\u001b[1;34m(spoint, sat_id)\u001b[0m\n\u001b[0;32m     45\u001b[0m     \u001b[0mi\u001b[0m \u001b[1;33m=\u001b[0m \u001b[1;36m0\u001b[0m\u001b[1;33m\u001b[0m\u001b[1;33m\u001b[0m\u001b[0m\n\u001b[0;32m     46\u001b[0m \u001b[1;33m\u001b[0m\u001b[0m\n\u001b[1;32m---> 47\u001b[1;33m     \u001b[1;32mfor\u001b[0m \u001b[0mseq_test_x\u001b[0m\u001b[1;33m,\u001b[0m \u001b[0mseq_test_y\u001b[0m \u001b[1;32min\u001b[0m \u001b[0mtqdm\u001b[0m\u001b[1;33m(\u001b[0m\u001b[0mtest_dataloader\u001b[0m\u001b[1;33m)\u001b[0m\u001b[1;33m:\u001b[0m\u001b[1;33m\u001b[0m\u001b[1;33m\u001b[0m\u001b[0m\n\u001b[0m\u001b[0;32m     48\u001b[0m         \u001b[1;32mwith\u001b[0m \u001b[0mtorch\u001b[0m\u001b[1;33m.\u001b[0m\u001b[0mno_grad\u001b[0m\u001b[1;33m(\u001b[0m\u001b[1;33m)\u001b[0m\u001b[1;33m:\u001b[0m\u001b[1;33m\u001b[0m\u001b[1;33m\u001b[0m\u001b[0m\n\u001b[0;32m     49\u001b[0m             \u001b[0mmodel\u001b[0m\u001b[1;33m.\u001b[0m\u001b[0minit_hidden_cell\u001b[0m\u001b[1;33m(\u001b[0m\u001b[1;33m)\u001b[0m\u001b[1;33m\u001b[0m\u001b[1;33m\u001b[0m\u001b[0m\n",
      "\u001b[1;32mC:\\ProgramData\\Anaconda3\\envs\\IDAO2020\\lib\\site-packages\\tqdm\\notebook.py\u001b[0m in \u001b[0;36m__init__\u001b[1;34m(self, *args, **kwargs)\u001b[0m\n\u001b[0;32m    195\u001b[0m         \u001b[1;31m# convert disable = None to False\u001b[0m\u001b[1;33m\u001b[0m\u001b[1;33m\u001b[0m\u001b[1;33m\u001b[0m\u001b[0m\n\u001b[0;32m    196\u001b[0m         \u001b[0mkwargs\u001b[0m\u001b[1;33m[\u001b[0m\u001b[1;34m'disable'\u001b[0m\u001b[1;33m]\u001b[0m \u001b[1;33m=\u001b[0m \u001b[0mbool\u001b[0m\u001b[1;33m(\u001b[0m\u001b[0mkwargs\u001b[0m\u001b[1;33m.\u001b[0m\u001b[0mget\u001b[0m\u001b[1;33m(\u001b[0m\u001b[1;34m'disable'\u001b[0m\u001b[1;33m,\u001b[0m \u001b[1;32mFalse\u001b[0m\u001b[1;33m)\u001b[0m\u001b[1;33m)\u001b[0m\u001b[1;33m\u001b[0m\u001b[1;33m\u001b[0m\u001b[0m\n\u001b[1;32m--> 197\u001b[1;33m         \u001b[0msuper\u001b[0m\u001b[1;33m(\u001b[0m\u001b[0mtqdm_notebook\u001b[0m\u001b[1;33m,\u001b[0m \u001b[0mself\u001b[0m\u001b[1;33m)\u001b[0m\u001b[1;33m.\u001b[0m\u001b[0m__init__\u001b[0m\u001b[1;33m(\u001b[0m\u001b[1;33m*\u001b[0m\u001b[0margs\u001b[0m\u001b[1;33m,\u001b[0m \u001b[1;33m**\u001b[0m\u001b[0mkwargs\u001b[0m\u001b[1;33m)\u001b[0m\u001b[1;33m\u001b[0m\u001b[1;33m\u001b[0m\u001b[0m\n\u001b[0m\u001b[0;32m    198\u001b[0m         \u001b[1;32mif\u001b[0m \u001b[0mself\u001b[0m\u001b[1;33m.\u001b[0m\u001b[0mdisable\u001b[0m \u001b[1;32mor\u001b[0m \u001b[1;32mnot\u001b[0m \u001b[0mkwargs\u001b[0m\u001b[1;33m[\u001b[0m\u001b[1;34m'gui'\u001b[0m\u001b[1;33m]\u001b[0m\u001b[1;33m:\u001b[0m\u001b[1;33m\u001b[0m\u001b[1;33m\u001b[0m\u001b[0m\n\u001b[0;32m    199\u001b[0m             \u001b[1;32mreturn\u001b[0m\u001b[1;33m\u001b[0m\u001b[1;33m\u001b[0m\u001b[0m\n",
      "\u001b[1;32mC:\\ProgramData\\Anaconda3\\envs\\IDAO2020\\lib\\site-packages\\tqdm\\std.py\u001b[0m in \u001b[0;36m__init__\u001b[1;34m(self, iterable, desc, total, leave, file, ncols, mininterval, maxinterval, miniters, ascii, disable, unit, unit_scale, dynamic_ncols, smoothing, bar_format, initial, position, postfix, unit_divisor, write_bytes, lock_args, gui, **kwargs)\u001b[0m\n\u001b[0;32m    915\u001b[0m         \u001b[1;32mif\u001b[0m \u001b[0mtotal\u001b[0m \u001b[1;32mis\u001b[0m \u001b[1;32mNone\u001b[0m \u001b[1;32mand\u001b[0m \u001b[0miterable\u001b[0m \u001b[1;32mis\u001b[0m \u001b[1;32mnot\u001b[0m \u001b[1;32mNone\u001b[0m\u001b[1;33m:\u001b[0m\u001b[1;33m\u001b[0m\u001b[1;33m\u001b[0m\u001b[0m\n\u001b[0;32m    916\u001b[0m             \u001b[1;32mtry\u001b[0m\u001b[1;33m:\u001b[0m\u001b[1;33m\u001b[0m\u001b[1;33m\u001b[0m\u001b[0m\n\u001b[1;32m--> 917\u001b[1;33m                 \u001b[0mtotal\u001b[0m \u001b[1;33m=\u001b[0m \u001b[0mlen\u001b[0m\u001b[1;33m(\u001b[0m\u001b[0miterable\u001b[0m\u001b[1;33m)\u001b[0m\u001b[1;33m\u001b[0m\u001b[1;33m\u001b[0m\u001b[0m\n\u001b[0m\u001b[0;32m    918\u001b[0m             \u001b[1;32mexcept\u001b[0m \u001b[1;33m(\u001b[0m\u001b[0mTypeError\u001b[0m\u001b[1;33m,\u001b[0m \u001b[0mAttributeError\u001b[0m\u001b[1;33m)\u001b[0m\u001b[1;33m:\u001b[0m\u001b[1;33m\u001b[0m\u001b[1;33m\u001b[0m\u001b[0m\n\u001b[0;32m    919\u001b[0m                 \u001b[0mtotal\u001b[0m \u001b[1;33m=\u001b[0m \u001b[1;32mNone\u001b[0m\u001b[1;33m\u001b[0m\u001b[1;33m\u001b[0m\u001b[0m\n",
      "\u001b[1;32mC:\\ProgramData\\Anaconda3\\envs\\IDAO2020\\lib\\site-packages\\torch\\utils\\data\\dataloader.py\u001b[0m in \u001b[0;36m__len__\u001b[1;34m(self)\u001b[0m\n\u001b[0;32m    314\u001b[0m             \u001b[1;32mreturn\u001b[0m \u001b[0mlength\u001b[0m\u001b[1;33m\u001b[0m\u001b[1;33m\u001b[0m\u001b[0m\n\u001b[0;32m    315\u001b[0m         \u001b[1;32melse\u001b[0m\u001b[1;33m:\u001b[0m\u001b[1;33m\u001b[0m\u001b[1;33m\u001b[0m\u001b[0m\n\u001b[1;32m--> 316\u001b[1;33m             \u001b[1;32mreturn\u001b[0m \u001b[0mlen\u001b[0m\u001b[1;33m(\u001b[0m\u001b[0mself\u001b[0m\u001b[1;33m.\u001b[0m\u001b[0m_index_sampler\u001b[0m\u001b[1;33m)\u001b[0m\u001b[1;33m\u001b[0m\u001b[1;33m\u001b[0m\u001b[0m\n\u001b[0m\u001b[0;32m    317\u001b[0m \u001b[1;33m\u001b[0m\u001b[0m\n\u001b[0;32m    318\u001b[0m \u001b[1;33m\u001b[0m\u001b[0m\n",
      "\u001b[1;32mC:\\ProgramData\\Anaconda3\\envs\\IDAO2020\\lib\\site-packages\\torch\\utils\\data\\sampler.py\u001b[0m in \u001b[0;36m__len__\u001b[1;34m(self)\u001b[0m\n\u001b[0;32m    210\u001b[0m             \u001b[1;32mreturn\u001b[0m \u001b[0mlen\u001b[0m\u001b[1;33m(\u001b[0m\u001b[0mself\u001b[0m\u001b[1;33m.\u001b[0m\u001b[0msampler\u001b[0m\u001b[1;33m)\u001b[0m \u001b[1;33m//\u001b[0m \u001b[0mself\u001b[0m\u001b[1;33m.\u001b[0m\u001b[0mbatch_size\u001b[0m\u001b[1;33m\u001b[0m\u001b[1;33m\u001b[0m\u001b[0m\n\u001b[0;32m    211\u001b[0m         \u001b[1;32melse\u001b[0m\u001b[1;33m:\u001b[0m\u001b[1;33m\u001b[0m\u001b[1;33m\u001b[0m\u001b[0m\n\u001b[1;32m--> 212\u001b[1;33m             \u001b[1;32mreturn\u001b[0m \u001b[1;33m(\u001b[0m\u001b[0mlen\u001b[0m\u001b[1;33m(\u001b[0m\u001b[0mself\u001b[0m\u001b[1;33m.\u001b[0m\u001b[0msampler\u001b[0m\u001b[1;33m)\u001b[0m \u001b[1;33m+\u001b[0m \u001b[0mself\u001b[0m\u001b[1;33m.\u001b[0m\u001b[0mbatch_size\u001b[0m \u001b[1;33m-\u001b[0m \u001b[1;36m1\u001b[0m\u001b[1;33m)\u001b[0m \u001b[1;33m//\u001b[0m \u001b[0mself\u001b[0m\u001b[1;33m.\u001b[0m\u001b[0mbatch_size\u001b[0m\u001b[1;33m\u001b[0m\u001b[1;33m\u001b[0m\u001b[0m\n\u001b[0m",
      "\u001b[1;32mC:\\ProgramData\\Anaconda3\\envs\\IDAO2020\\lib\\site-packages\\torch\\utils\\data\\sampler.py\u001b[0m in \u001b[0;36m__len__\u001b[1;34m(self)\u001b[0m\n\u001b[0;32m     63\u001b[0m \u001b[1;33m\u001b[0m\u001b[0m\n\u001b[0;32m     64\u001b[0m     \u001b[1;32mdef\u001b[0m \u001b[0m__len__\u001b[0m\u001b[1;33m(\u001b[0m\u001b[0mself\u001b[0m\u001b[1;33m)\u001b[0m\u001b[1;33m:\u001b[0m\u001b[1;33m\u001b[0m\u001b[1;33m\u001b[0m\u001b[0m\n\u001b[1;32m---> 65\u001b[1;33m         \u001b[1;32mreturn\u001b[0m \u001b[0mlen\u001b[0m\u001b[1;33m(\u001b[0m\u001b[0mself\u001b[0m\u001b[1;33m.\u001b[0m\u001b[0mdata_source\u001b[0m\u001b[1;33m)\u001b[0m\u001b[1;33m\u001b[0m\u001b[1;33m\u001b[0m\u001b[0m\n\u001b[0m\u001b[0;32m     66\u001b[0m \u001b[1;33m\u001b[0m\u001b[0m\n\u001b[0;32m     67\u001b[0m \u001b[1;33m\u001b[0m\u001b[0m\n",
      "\u001b[1;31mValueError\u001b[0m: __len__() should return >= 0"
     ]
    }
   ],
   "source": [
    "results = {}\n",
    "for sat_id in test_sat_id:\n",
    "    clear_output()\n",
    "    print(f'Satellite id: {sat_id}')\n",
    "    print(results)\n",
    "    spoint = best_params\n",
    "    \n",
    "    score, model= evaluate_new(spoint=spoint, sat_id=sat_id)\n",
    "    spoint['score'] = score\n",
    "    if not os.path.exists(f'models//{sat_id}'):\n",
    "        os.makedirs(f'models//{sat_id}')\n",
    "    results[str(sat_id)] = spoint\n",
    "    torch.save(spoint, f'models//{sat_id}//hyperparameters')\n",
    "    torch.save(model, f'models//{sat_id}//model.pt')"
   ]
  },
  {
   "cell_type": "code",
   "execution_count": null,
   "metadata": {
    "ExecuteTime": {
     "end_time": "2020-02-06T14:29:37.921928Z",
     "start_time": "2020-02-06T14:29:37.908496Z"
    }
   },
   "outputs": [],
   "source": [
    "score, model = evaluate(sat_id=0, spoint=best_params)"
   ]
  },
  {
   "cell_type": "code",
   "execution_count": null,
   "metadata": {
    "ExecuteTime": {
     "end_time": "2020-02-06T14:29:38.492092Z",
     "start_time": "2020-02-06T14:29:38.444390Z"
    }
   },
   "outputs": [],
   "source": [
    "sched = AsyncHyperBandScheduler(\n",
    "        time_attr=\"training_iteration\", metric=\"mean_accuracy\")\n",
    "    analysis = tune.run(\n",
    "        train_mnist,\n",
    "        name=\"exp\",\n",
    "        scheduler=sched,\n",
    "        stop={\n",
    "            \"mean_accuracy\": 0.98,\n",
    "            \"training_iteration\": 5 if args.smoke_test else 100\n",
    "        },\n",
    "        resources_per_trial={\n",
    "            \"cpu\": 2,\n",
    "            \"gpu\": int(args.cuda)\n",
    "        },\n",
    "        num_samples=1 if args.smoke_test else 50,\n",
    "        config={\n",
    "            \"lr\": tune.sample_from(lambda spec: 10**(-10 * np.random.rand())),\n",
    "            \"momentum\": tune.uniform(0.1, 0.9),\n",
    "            \"use_gpu\": int(args.cuda)\n",
    "        })\n",
    "\n",
    "    print(\"Best config is:\", analysis.get_best_config(metric=\"mean_accuracy\"))"
   ]
  },
  {
   "cell_type": "code",
   "execution_count": null,
   "metadata": {
    "ExecuteTime": {
     "end_time": "2020-02-06T19:19:53.447222Z",
     "start_time": "2020-02-06T19:19:53.429757Z"
    }
   },
   "outputs": [],
   "source": []
  },
  {
   "cell_type": "code",
   "execution_count": null,
   "metadata": {
    "ExecuteTime": {
     "end_time": "2020-02-06T19:55:41.959542Z",
     "start_time": "2020-02-06T19:55:41.949083Z"
    }
   },
   "outputs": [],
   "source": []
  },
  {
   "cell_type": "code",
   "execution_count": null,
   "metadata": {
    "ExecuteTime": {
     "end_time": "2020-02-06T19:57:20.192912Z",
     "start_time": "2020-02-06T19:57:20.188936Z"
    }
   },
   "outputs": [],
   "source": []
  },
  {
   "cell_type": "code",
   "execution_count": null,
   "metadata": {
    "ExecuteTime": {
     "start_time": "2020-02-06T19:58:30.790Z"
    },
    "scrolled": false
   },
   "outputs": [],
   "source": []
  },
  {
   "cell_type": "code",
   "execution_count": null,
   "metadata": {},
   "outputs": [],
   "source": []
  },
  {
   "cell_type": "markdown",
   "metadata": {},
   "source": [
    "# Good parameters"
   ]
  },
  {
   "cell_type": "code",
   "execution_count": null,
   "metadata": {
    "ExecuteTime": {
     "end_time": "2020-02-06T12:08:45.587525Z",
     "start_time": "2020-02-06T12:08:26.397Z"
    }
   },
   "outputs": [],
   "source": [
    "point1 = {'lr': 0.1, 'eps': 0.01, 'seq_len': 5, 'hidden_dim': 30, 'epoch': 60}\n",
    "point2 = {'lr': 1.0, 'eps': 1.0, 'seq_len': 20, 'hidden_dim': 30, 'epoch': 60}\n",
    "point3 = {'lr': 0.01, 'eps': 0.0001, 'seq_len': 30, 'hidden_dim': 50, 'epoch': 60}  # super good"
   ]
  },
  {
   "cell_type": "code",
   "execution_count": null,
   "metadata": {
    "ExecuteTime": {
     "end_time": "2020-02-06T19:39:28.657735Z",
     "start_time": "2020-02-06T19:39:28.649199Z"
    }
   },
   "outputs": [],
   "source": [
    "score = 0\n",
    "best_spoint = None\n",
    "for spoint in spaceopt.evaluated_spoints:\n",
    "    if spoint['score'] > score:\n",
    "        score = spoint['score']\n",
    "        best_spoint = spoint"
   ]
  },
  {
   "cell_type": "code",
   "execution_count": null,
   "metadata": {
    "ExecuteTime": {
     "end_time": "2020-02-06T19:39:35.862124Z",
     "start_time": "2020-02-06T19:39:35.855990Z"
    }
   },
   "outputs": [],
   "source": [
    "best_spoint"
   ]
  },
  {
   "cell_type": "code",
   "execution_count": null,
   "metadata": {
    "ExecuteTime": {
     "end_time": "2020-02-05T23:01:33.569014Z",
     "start_time": "2020-02-05T23:01:33.556503Z"
    }
   },
   "outputs": [],
   "source": []
  },
  {
   "cell_type": "code",
   "execution_count": null,
   "metadata": {
    "ExecuteTime": {
     "end_time": "2020-02-03T22:50:18.193531Z",
     "start_time": "2020-02-03T22:50:18.081176Z"
    }
   },
   "outputs": [],
   "source": []
  },
  {
   "cell_type": "code",
   "execution_count": null,
   "metadata": {
    "ExecuteTime": {
     "end_time": "2020-02-03T22:52:39.840801Z",
     "start_time": "2020-02-03T22:50:18.198970Z"
    }
   },
   "outputs": [],
   "source": []
  },
  {
   "cell_type": "code",
   "execution_count": null,
   "metadata": {
    "ExecuteTime": {
     "end_time": "2020-02-05T19:03:51.767288Z",
     "start_time": "2020-02-05T19:03:51.536479Z"
    }
   },
   "outputs": [],
   "source": []
  },
  {
   "cell_type": "code",
   "execution_count": null,
   "metadata": {
    "ExecuteTime": {
     "end_time": "2020-02-06T12:08:45.608242Z",
     "start_time": "2020-02-06T12:08:26.409Z"
    }
   },
   "outputs": [],
   "source": [
    "model.eval()\n",
    "y_pred = model(x_test)\n",
    "after_train = criterion(y_pred.squeeze(), y_test) \n",
    "print('Test loss after Training' , after_train.item())"
   ]
  },
  {
   "cell_type": "code",
   "execution_count": null,
   "metadata": {
    "ExecuteTime": {
     "start_time": "2020-02-03T01:54:02.426Z"
    }
   },
   "outputs": [],
   "source": []
  },
  {
   "cell_type": "code",
   "execution_count": null,
   "metadata": {
    "ExecuteTime": {
     "end_time": "2020-02-06T12:08:45.616392Z",
     "start_time": "2020-02-06T12:08:26.412Z"
    }
   },
   "outputs": [],
   "source": [
    "y_pred.shape"
   ]
  },
  {
   "cell_type": "code",
   "execution_count": null,
   "metadata": {
    "ExecuteTime": {
     "end_time": "2020-02-02T19:59:30.941239Z",
     "start_time": "2020-02-02T19:59:30.925435Z"
    }
   },
   "outputs": [],
   "source": []
  },
  {
   "cell_type": "code",
   "execution_count": null,
   "metadata": {},
   "outputs": [],
   "source": []
  }
 ],
 "metadata": {
  "kernelspec": {
   "display_name": "Python 3",
   "language": "python",
   "name": "python3"
  },
  "language_info": {
   "codemirror_mode": {
    "name": "ipython",
    "version": 3
   },
   "file_extension": ".py",
   "mimetype": "text/x-python",
   "name": "python",
   "nbconvert_exporter": "python",
   "pygments_lexer": "ipython3",
   "version": "3.8.1"
  }
 },
 "nbformat": 4,
 "nbformat_minor": 4
}
