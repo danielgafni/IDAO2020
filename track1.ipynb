{
 "cells": [
  {
   "cell_type": "markdown",
   "metadata": {},
   "source": [
    "# Imports"
   ]
  },
  {
   "cell_type": "code",
   "execution_count": 1,
   "metadata": {
    "ExecuteTime": {
     "end_time": "2020-02-07T17:03:21.655215Z",
     "start_time": "2020-02-07T17:03:19.224677Z"
    }
   },
   "outputs": [],
   "source": [
    "import pandas as pd\n",
    "import numpy as np\n",
    "from matplotlib import pyplot as plt\n",
    "import torch\n",
    "from torch.utils.data import Dataset, DataLoader\n",
    "import plotly.graph_objs as go\n",
    "from sklearn.model_selection import train_test_split\n",
    "from sklearn.preprocessing import LabelEncoder, StandardScaler\n",
    "from utils import TrainTestSequenceDataset, PredictSequenceDataset, smape, process_for_train, features, targets, process_for_predict\n",
    "from models import LSTM, ResNet18\n",
    "from tqdm.notebook import tqdm\n",
    "from IPython.display import clear_output, display\n",
    "import ipywidgets as widgets\n",
    "import os\n",
    "from spaceopt import SpaceOpt"
   ]
  },
  {
   "cell_type": "markdown",
   "metadata": {},
   "source": [
    "# Loading data"
   ]
  },
  {
   "cell_type": "code",
   "execution_count": null,
   "metadata": {
    "ExecuteTime": {
     "end_time": "2020-02-07T16:56:43.439839Z",
     "start_time": "2020-02-07T16:56:40.447884Z"
    }
   },
   "outputs": [],
   "source": [
    "data = pd.read_csv('train.csv', parse_dates=['epoch'])\n",
    "test_sat_id = torch.load('test_sat_id')"
   ]
  },
  {
   "cell_type": "markdown",
   "metadata": {},
   "source": [
    "# Data processing"
   ]
  },
  {
   "cell_type": "code",
   "execution_count": null,
   "metadata": {
    "ExecuteTime": {
     "end_time": "2020-02-07T15:05:17.210199Z",
     "start_time": "2020-02-07T15:05:08.599033Z"
    }
   },
   "outputs": [],
   "source": [
    "sat_datas_train, sat_datas_test = process_for_train_test(data)"
   ]
  },
  {
   "cell_type": "code",
   "execution_count": null,
   "metadata": {
    "ExecuteTime": {
     "end_time": "2020-02-07T15:05:17.237762Z",
     "start_time": "2020-02-07T15:05:17.211515Z"
    }
   },
   "outputs": [],
   "source": [
    "sat_datas_train[0].head()"
   ]
  },
  {
   "cell_type": "markdown",
   "metadata": {},
   "source": [
    "# Model"
   ]
  },
  {
   "cell_type": "code",
   "execution_count": null,
   "metadata": {
    "ExecuteTime": {
     "end_time": "2020-02-07T16:21:42.221785Z",
     "start_time": "2020-02-07T16:21:42.214885Z"
    }
   },
   "outputs": [],
   "source": [
    "seq_len = 20\n",
    "hidden_dim = 100\n",
    "num_layers = 2\n",
    "model = LSTM(hidden_dim=hidden_dim, seq_len=seq_len, num_layers=num_layers)\n",
    "model.train()\n",
    "optimizer = torch.optim.Adam(params=model.parameters(), lr=0.02, eps=1e-2)\n",
    "criterion = smape\n",
    "n = 10"
   ]
  },
  {
   "cell_type": "markdown",
   "metadata": {},
   "source": [
    "# Train on n satellite"
   ]
  },
  {
   "cell_type": "code",
   "execution_count": null,
   "metadata": {
    "ExecuteTime": {
     "end_time": "2020-02-07T16:25:33.675792Z",
     "start_time": "2020-02-07T16:21:47.881474Z"
    }
   },
   "outputs": [],
   "source": [
    "model.train()\n",
    "loss_widget = widgets.FloatProgress(min=0, max=1, step=0.01, description='Loss', value=0)  # jupyter widget\n",
    "display(loss_widget)\n",
    "train_data = sat_datas_train[n]\n",
    "x_train = train_data[features]\n",
    "y_train = train_data[targets]\n",
    "train_dataset = TrainTestSequenceDataset(x_train, y_train, seq_len=model.seq_len)\n",
    "train_dataloader = DataLoader(train_dataset, batch_size=1, shuffle=True)\n",
    "for epoch in tqdm(range(15)):\n",
    "    for seq_train_x, seq_train_y in train_dataloader:\n",
    "        model.zero_grad()  # refresh gradients\n",
    "        model.init_hidden_cell()\n",
    "        predictions = model(seq_train_x)\n",
    "        loss = criterion(predictions, seq_train_y)\n",
    "        loss_widget.value = loss.mean()\n",
    "        loss.mean().backward()  # compute gradients\n",
    "        optimizer.step()  # update network parameters"
   ]
  },
  {
   "cell_type": "code",
   "execution_count": null,
   "metadata": {
    "ExecuteTime": {
     "end_time": "2020-02-07T16:27:14.472010Z",
     "start_time": "2020-02-07T16:27:12.168295Z"
    }
   },
   "outputs": [],
   "source": [
    "model.eval()\n",
    "score_widget = widgets.FloatProgress(min=0, max=1, step=0.01, description='Score', value=0)  # jupyter widget\n",
    "display(score_widget)\n",
    "test_data = sat_datas_test[n]\n",
    "x_test = test_data[features]\n",
    "y_test = test_data[targets]\n",
    "test_dataset = TrainTestSequenceDataset(x_test, y_test, seq_len=model.seq_len)\n",
    "test_dataloader = DataLoader(test_dataset, batch_size=1, shuffle=False)\n",
    "loss_sum = 0\n",
    "i = 0\n",
    "\n",
    "for seq_test_x, seq_test_y in tqdm(test_dataloader):\n",
    "    with torch.no_grad():\n",
    "        model.init_hidden_cell()\n",
    "        predictions = model(seq_test_x)\n",
    "        loss = criterion(predictions, seq_test_y).mean()\n",
    "        loss_sum += loss\n",
    "        i += 1\n",
    "        score_widget.value = 1 - loss_sum / i\n",
    "score =  (1 - loss_sum / i).item()\n",
    "print(score)"
   ]
  },
  {
   "cell_type": "code",
   "execution_count": null,
   "metadata": {
    "ExecuteTime": {
     "end_time": "2020-02-07T15:06:08.137273Z",
     "start_time": "2020-02-07T15:05:04.187Z"
    }
   },
   "outputs": [],
   "source": [
    "search_space = {\n",
    "    'lr': [0.001, 0.01, 0.1, 1.],\n",
    "    'eps': [1e-8, 1e-4, 1e-2, 1e0],\n",
    "    'seq_len': [10, 20, 30, 40],\n",
    "    'hidden_dim': [20, 30, 50],\n",
    "    'epoch': [10],\n",
    "    'num_layers': [1, 2, 3, 4]\n",
    "}"
   ]
  },
  {
   "cell_type": "markdown",
   "metadata": {},
   "source": [
    "# Models evaluation"
   ]
  },
  {
   "cell_type": "code",
   "execution_count": null,
   "metadata": {
    "ExecuteTime": {
     "end_time": "2020-02-07T16:32:07.379247Z",
     "start_time": "2020-02-07T16:32:07.356687Z"
    }
   },
   "outputs": [],
   "source": [
    "def evaluate_new(spoint, sat_id):\n",
    "    seq_len = spoint['seq_len']\n",
    "    hidden_dim = spoint['hidden_dim']\n",
    "    num_layers = spoint['num_layers']\n",
    "    ep = spoint['epoch']\n",
    "    lr = spoint['lr']\n",
    "    eps = spoint['eps']\n",
    "    \n",
    "    train_data = sat_datas_train[sat_id]\n",
    "    if seq_len > int(len(train_data) / 2 - 1):\n",
    "        seq_len = int(len(train_data) / 2 - 1)\n",
    "    x_train = train_data[features]\n",
    "    y_train = train_data[targets]\n",
    "    \n",
    "    model = LSTM(hidden_dim=hidden_dim, seq_len=seq_len, num_layers=num_layers)\n",
    "    model.train()\n",
    "    optimizer = torch.optim.Adam(params=model.parameters(), lr=lr, eps=eps)\n",
    "    criterion = smape\n",
    "    model.train()\n",
    "    loss_widget = widgets.FloatProgress(min=0, max=1, step=0.01, description='Loss', value=0)  # jupyter widget\n",
    "    display(loss_widget)\n",
    "    train_data = sat_datas_train[n]\n",
    "    x_train = train_data[features]\n",
    "    y_train = train_data[targets]\n",
    "    train_dataset = TrainTestSequenceDataset(x_train, y_train, seq_len=model.seq_len)\n",
    "    train_dataloader = DataLoader(train_dataset, batch_size=1, shuffle=True)\n",
    "    for epoch in tqdm(range(ep)):\n",
    "        for seq_train_x, seq_train_y in train_dataloader:\n",
    "            model.zero_grad()  # refresh gradients\n",
    "            model.init_hidden_cell()\n",
    "            predictions = model(seq_train_x)\n",
    "            loss = criterion(predictions, seq_train_y)\n",
    "            loss_widget.value = loss.mean()\n",
    "            loss.mean().backward()  # compute gradients\n",
    "            optimizer.step()  # update network parameters\n",
    "\n",
    "    model.eval()\n",
    "    score_widget = widgets.FloatProgress(min=0, max=1, step=0.01, description='Score', value=0)  # jupyter widget\n",
    "    display(score_widget)\n",
    "    test_data = sat_datas_test[n]\n",
    "    x_test = test_data[features]\n",
    "    y_test = test_data[targets]\n",
    "    test_dataset = TrainTestSequenceDataset(x_test, y_test, seq_len=model.seq_len)\n",
    "    test_dataloader = DataLoader(test_dataset, batch_size=1, shuffle=False)\n",
    "    loss_sum = 0\n",
    "    i = 0\n",
    "\n",
    "    for seq_test_x, seq_test_y in tqdm(test_dataloader):\n",
    "        with torch.no_grad():\n",
    "            model.init_hidden_cell()\n",
    "            predictions = model(seq_test_x)\n",
    "            loss = criterion(predictions, seq_test_y).mean()\n",
    "            loss_sum += loss\n",
    "            i += 1\n",
    "            score_widget.value = 1 - loss_sum / i\n",
    "    score =  (1 - loss_sum / i).item()\n",
    "\n",
    "    return score, model"
   ]
  },
  {
   "cell_type": "code",
   "execution_count": null,
   "metadata": {
    "ExecuteTime": {
     "end_time": "2020-02-07T16:55:43.643289Z",
     "start_time": "2020-02-07T16:55:43.640561Z"
    }
   },
   "outputs": [],
   "source": [
    "best_params = {'lr': 0.02, 'eps': 1e-2, 'seq_len': 20,\n",
    "               'hidden_dim': 100, 'epoch': 30, 'num_layers': 2}"
   ]
  },
  {
   "cell_type": "code",
   "execution_count": null,
   "metadata": {
    "ExecuteTime": {
     "end_time": "2020-02-07T16:38:16.420234Z",
     "start_time": "2020-02-07T16:32:08.476569Z"
    }
   },
   "outputs": [],
   "source": [
    "results = {}\n",
    "for sat_id in test_sat_id:\n",
    "    clear_output()\n",
    "    print(f'Satellite id: {sat_id}')\n",
    "    print(results)\n",
    "    spoint = best_params\n",
    "    \n",
    "    score, model= evaluate_new(spoint=spoint, sat_id=sat_id)\n",
    "    spoint['score'] = score\n",
    "    if not os.path.exists(f'models//{sat_id}'):\n",
    "        os.makedirs(f'models//{sat_id}')\n",
    "    results[str(sat_id)] = score\n",
    "    torch.save(score, f'models//{sat_id}//score')\n",
    "    torch.save(model, f'models//{sat_id}//model.pt')"
   ]
  },
  {
   "cell_type": "markdown",
   "metadata": {},
   "source": [
    "# Models factory"
   ]
  },
  {
   "cell_type": "code",
   "execution_count": 2,
   "metadata": {
    "ExecuteTime": {
     "end_time": "2020-02-07T17:03:26.413689Z",
     "start_time": "2020-02-07T17:03:26.405087Z"
    }
   },
   "outputs": [],
   "source": [
    "best_params = {'lr': 0.02, 'eps': 1e-2, 'seq_len': 20,\n",
    "               'hidden_dim': 100, 'epoch': 30, 'num_layers': 2}"
   ]
  },
  {
   "cell_type": "code",
   "execution_count": 3,
   "metadata": {
    "ExecuteTime": {
     "end_time": "2020-02-07T17:03:37.968966Z",
     "start_time": "2020-02-07T17:03:27.187495Z"
    }
   },
   "outputs": [],
   "source": [
    "data = pd.read_csv('train.csv', parse_dates=['epoch'])\n",
    "sat_datas_train = process_for_train(data)"
   ]
  },
  {
   "cell_type": "code",
   "execution_count": 4,
   "metadata": {
    "ExecuteTime": {
     "end_time": "2020-02-07T17:03:39.364304Z",
     "start_time": "2020-02-07T17:03:39.311858Z"
    }
   },
   "outputs": [
    {
     "data": {
      "text/html": [
       "<div>\n",
       "<style scoped>\n",
       "    .dataframe tbody tr th:only-of-type {\n",
       "        vertical-align: middle;\n",
       "    }\n",
       "\n",
       "    .dataframe tbody tr th {\n",
       "        vertical-align: top;\n",
       "    }\n",
       "\n",
       "    .dataframe thead th {\n",
       "        text-align: right;\n",
       "    }\n",
       "</style>\n",
       "<table border=\"1\" class=\"dataframe\">\n",
       "  <thead>\n",
       "    <tr style=\"text-align: right;\">\n",
       "      <th></th>\n",
       "      <th>epoch</th>\n",
       "      <th>x</th>\n",
       "      <th>y</th>\n",
       "      <th>z</th>\n",
       "      <th>Vx</th>\n",
       "      <th>Vy</th>\n",
       "      <th>Vz</th>\n",
       "      <th>x_sim</th>\n",
       "      <th>y_sim</th>\n",
       "      <th>z_sim</th>\n",
       "      <th>...</th>\n",
       "      <th>fi_sim</th>\n",
       "      <th>dro/dt_sim</th>\n",
       "      <th>dtheta/dt_sim</th>\n",
       "      <th>dfi/dt_sim</th>\n",
       "      <th>dx_sim</th>\n",
       "      <th>dy_sim</th>\n",
       "      <th>dz_sim</th>\n",
       "      <th>dro_sim</th>\n",
       "      <th>dtheta_sim</th>\n",
       "      <th>dfi_sim</th>\n",
       "    </tr>\n",
       "  </thead>\n",
       "  <tbody>\n",
       "    <tr>\n",
       "      <th>0</th>\n",
       "      <td>-1.730756</td>\n",
       "      <td>-8855.823863</td>\n",
       "      <td>13117.780146</td>\n",
       "      <td>-20728.353233</td>\n",
       "      <td>-0.908303</td>\n",
       "      <td>-3.808436</td>\n",
       "      <td>-2.022083</td>\n",
       "      <td>-0.311082</td>\n",
       "      <td>0.500388</td>\n",
       "      <td>-0.999704</td>\n",
       "      <td>...</td>\n",
       "      <td>-1.291078</td>\n",
       "      <td>-0.004444</td>\n",
       "      <td>-0.937090</td>\n",
       "      <td>0.747771</td>\n",
       "      <td>-0.343891</td>\n",
       "      <td>-1.463405</td>\n",
       "      <td>-0.957448</td>\n",
       "      <td>-0.004444</td>\n",
       "      <td>-0.937090</td>\n",
       "      <td>0.747771</td>\n",
       "    </tr>\n",
       "    <tr>\n",
       "      <th>1</th>\n",
       "      <td>-1.727132</td>\n",
       "      <td>-10567.672384</td>\n",
       "      <td>1619.746066</td>\n",
       "      <td>-24451.813271</td>\n",
       "      <td>-0.302590</td>\n",
       "      <td>-4.272617</td>\n",
       "      <td>-0.612796</td>\n",
       "      <td>-0.378567</td>\n",
       "      <td>0.051732</td>\n",
       "      <td>-1.180247</td>\n",
       "      <td>...</td>\n",
       "      <td>-1.908559</td>\n",
       "      <td>0.434614</td>\n",
       "      <td>-1.353263</td>\n",
       "      <td>0.125439</td>\n",
       "      <td>-0.114952</td>\n",
       "      <td>-1.642185</td>\n",
       "      <td>-0.291497</td>\n",
       "      <td>0.434614</td>\n",
       "      <td>-1.353263</td>\n",
       "      <td>0.125439</td>\n",
       "    </tr>\n",
       "    <tr>\n",
       "      <th>2</th>\n",
       "      <td>-1.723508</td>\n",
       "      <td>-10578.684043</td>\n",
       "      <td>-10180.467460</td>\n",
       "      <td>-24238.280949</td>\n",
       "      <td>0.277435</td>\n",
       "      <td>-4.047522</td>\n",
       "      <td>0.723155</td>\n",
       "      <td>-0.379212</td>\n",
       "      <td>-0.408885</td>\n",
       "      <td>-1.170478</td>\n",
       "      <td>...</td>\n",
       "      <td>1.416777</td>\n",
       "      <td>0.757259</td>\n",
       "      <td>-1.006825</td>\n",
       "      <td>-0.538343</td>\n",
       "      <td>0.104417</td>\n",
       "      <td>-1.556416</td>\n",
       "      <td>0.340189</td>\n",
       "      <td>0.757259</td>\n",
       "      <td>-1.006825</td>\n",
       "      <td>-0.538343</td>\n",
       "    </tr>\n",
       "    <tr>\n",
       "      <th>3</th>\n",
       "      <td>-1.719884</td>\n",
       "      <td>-9148.251857</td>\n",
       "      <td>-20651.437460</td>\n",
       "      <td>-20720.381279</td>\n",
       "      <td>0.715600</td>\n",
       "      <td>-3.373762</td>\n",
       "      <td>1.722115</td>\n",
       "      <td>-0.323161</td>\n",
       "      <td>-0.817838</td>\n",
       "      <td>-1.000836</td>\n",
       "      <td>...</td>\n",
       "      <td>0.937656</td>\n",
       "      <td>0.927449</td>\n",
       "      <td>-0.680071</td>\n",
       "      <td>-0.604404</td>\n",
       "      <td>0.270316</td>\n",
       "      <td>-1.298146</td>\n",
       "      <td>0.813059</td>\n",
       "      <td>0.927449</td>\n",
       "      <td>-0.680071</td>\n",
       "      <td>-0.604404</td>\n",
       "    </tr>\n",
       "    <tr>\n",
       "      <th>4</th>\n",
       "      <td>-1.716260</td>\n",
       "      <td>-6719.092336</td>\n",
       "      <td>-28929.061629</td>\n",
       "      <td>-14938.907967</td>\n",
       "      <td>0.992507</td>\n",
       "      <td>-2.519732</td>\n",
       "      <td>2.344703</td>\n",
       "      <td>-0.227778</td>\n",
       "      <td>-1.141341</td>\n",
       "      <td>-0.721533</td>\n",
       "      <td>...</td>\n",
       "      <td>0.552240</td>\n",
       "      <td>0.972421</td>\n",
       "      <td>-0.534778</td>\n",
       "      <td>-0.546743</td>\n",
       "      <td>0.375320</td>\n",
       "      <td>-0.970269</td>\n",
       "      <td>1.108234</td>\n",
       "      <td>0.972421</td>\n",
       "      <td>-0.534778</td>\n",
       "      <td>-0.546743</td>\n",
       "    </tr>\n",
       "    <tr>\n",
       "      <th>...</th>\n",
       "      <td>...</td>\n",
       "      <td>...</td>\n",
       "      <td>...</td>\n",
       "      <td>...</td>\n",
       "      <td>...</td>\n",
       "      <td>...</td>\n",
       "      <td>...</td>\n",
       "      <td>...</td>\n",
       "      <td>...</td>\n",
       "      <td>...</td>\n",
       "      <td>...</td>\n",
       "      <td>...</td>\n",
       "      <td>...</td>\n",
       "      <td>...</td>\n",
       "      <td>...</td>\n",
       "      <td>...</td>\n",
       "      <td>...</td>\n",
       "      <td>...</td>\n",
       "      <td>...</td>\n",
       "      <td>...</td>\n",
       "      <td>...</td>\n",
       "    </tr>\n",
       "    <tr>\n",
       "      <th>953</th>\n",
       "      <td>1.715598</td>\n",
       "      <td>17337.596150</td>\n",
       "      <td>-3224.996803</td>\n",
       "      <td>40025.071742</td>\n",
       "      <td>-0.055615</td>\n",
       "      <td>2.650511</td>\n",
       "      <td>-0.222561</td>\n",
       "      <td>0.645359</td>\n",
       "      <td>0.471055</td>\n",
       "      <td>1.704354</td>\n",
       "      <td>...</td>\n",
       "      <td>1.487661</td>\n",
       "      <td>-0.742742</td>\n",
       "      <td>-0.766832</td>\n",
       "      <td>0.241463</td>\n",
       "      <td>-0.220788</td>\n",
       "      <td>0.958989</td>\n",
       "      <td>-0.678237</td>\n",
       "      <td>-0.742742</td>\n",
       "      <td>-0.766832</td>\n",
       "      <td>0.241463</td>\n",
       "    </tr>\n",
       "    <tr>\n",
       "      <th>954</th>\n",
       "      <td>1.719222</td>\n",
       "      <td>16849.590836</td>\n",
       "      <td>4217.959953</td>\n",
       "      <td>38636.167298</td>\n",
       "      <td>-0.295282</td>\n",
       "      <td>2.642711</td>\n",
       "      <td>-0.774030</td>\n",
       "      <td>0.566305</td>\n",
       "      <td>0.729596</td>\n",
       "      <td>1.468951</td>\n",
       "      <td>...</td>\n",
       "      <td>1.212410</td>\n",
       "      <td>-0.860830</td>\n",
       "      <td>-0.663148</td>\n",
       "      <td>0.348921</td>\n",
       "      <td>-0.321936</td>\n",
       "      <td>0.846475</td>\n",
       "      <td>-0.964490</td>\n",
       "      <td>-0.860830</td>\n",
       "      <td>-0.663148</td>\n",
       "      <td>0.348921</td>\n",
       "    </tr>\n",
       "    <tr>\n",
       "      <th>955</th>\n",
       "      <td>1.722845</td>\n",
       "      <td>15667.981809</td>\n",
       "      <td>11481.446566</td>\n",
       "      <td>35656.909015</td>\n",
       "      <td>-0.550136</td>\n",
       "      <td>2.518368</td>\n",
       "      <td>-1.356292</td>\n",
       "      <td>0.457647</td>\n",
       "      <td>0.945960</td>\n",
       "      <td>1.151565</td>\n",
       "      <td>...</td>\n",
       "      <td>0.911970</td>\n",
       "      <td>-0.949216</td>\n",
       "      <td>-0.586234</td>\n",
       "      <td>0.445073</td>\n",
       "      <td>-0.423032</td>\n",
       "      <td>0.659548</td>\n",
       "      <td>-1.247310</td>\n",
       "      <td>-0.949216</td>\n",
       "      <td>-0.586234</td>\n",
       "      <td>0.445073</td>\n",
       "    </tr>\n",
       "    <tr>\n",
       "      <th>956</th>\n",
       "      <td>1.726469</td>\n",
       "      <td>13754.838284</td>\n",
       "      <td>18199.705814</td>\n",
       "      <td>31013.052037</td>\n",
       "      <td>-0.816256</td>\n",
       "      <td>2.247835</td>\n",
       "      <td>-1.959266</td>\n",
       "      <td>0.320503</td>\n",
       "      <td>1.096206</td>\n",
       "      <td>0.756424</td>\n",
       "      <td>...</td>\n",
       "      <td>0.580306</td>\n",
       "      <td>-0.986231</td>\n",
       "      <td>-0.542090</td>\n",
       "      <td>0.545735</td>\n",
       "      <td>-0.515481</td>\n",
       "      <td>0.378531</td>\n",
       "      <td>-1.501082</td>\n",
       "      <td>-0.986231</td>\n",
       "      <td>-0.542090</td>\n",
       "      <td>0.545735</td>\n",
       "    </tr>\n",
       "    <tr>\n",
       "      <th>957</th>\n",
       "      <td>1.730093</td>\n",
       "      <td>11090.021201</td>\n",
       "      <td>23908.338391</td>\n",
       "      <td>24674.831301</td>\n",
       "      <td>-1.084189</td>\n",
       "      <td>1.790199</td>\n",
       "      <td>-2.559726</td>\n",
       "      <td>0.159584</td>\n",
       "      <td>1.150975</td>\n",
       "      <td>0.298184</td>\n",
       "      <td>...</td>\n",
       "      <td>0.208154</td>\n",
       "      <td>-0.938354</td>\n",
       "      <td>-0.531650</td>\n",
       "      <td>0.657604</td>\n",
       "      <td>-0.582530</td>\n",
       "      <td>-0.013040</td>\n",
       "      <td>-1.676843</td>\n",
       "      <td>-0.938354</td>\n",
       "      <td>-0.531650</td>\n",
       "      <td>0.657604</td>\n",
       "    </tr>\n",
       "  </tbody>\n",
       "</table>\n",
       "<p>958 rows × 25 columns</p>\n",
       "</div>"
      ],
      "text/plain": [
       "        epoch             x             y             z        Vx        Vy  \\\n",
       "0   -1.730756  -8855.823863  13117.780146 -20728.353233 -0.908303 -3.808436   \n",
       "1   -1.727132 -10567.672384   1619.746066 -24451.813271 -0.302590 -4.272617   \n",
       "2   -1.723508 -10578.684043 -10180.467460 -24238.280949  0.277435 -4.047522   \n",
       "3   -1.719884  -9148.251857 -20651.437460 -20720.381279  0.715600 -3.373762   \n",
       "4   -1.716260  -6719.092336 -28929.061629 -14938.907967  0.992507 -2.519732   \n",
       "..        ...           ...           ...           ...       ...       ...   \n",
       "953  1.715598  17337.596150  -3224.996803  40025.071742 -0.055615  2.650511   \n",
       "954  1.719222  16849.590836   4217.959953  38636.167298 -0.295282  2.642711   \n",
       "955  1.722845  15667.981809  11481.446566  35656.909015 -0.550136  2.518368   \n",
       "956  1.726469  13754.838284  18199.705814  31013.052037 -0.816256  2.247835   \n",
       "957  1.730093  11090.021201  23908.338391  24674.831301 -1.084189  1.790199   \n",
       "\n",
       "           Vz     x_sim     y_sim     z_sim  ...    fi_sim  dro/dt_sim  \\\n",
       "0   -2.022083 -0.311082  0.500388 -0.999704  ... -1.291078   -0.004444   \n",
       "1   -0.612796 -0.378567  0.051732 -1.180247  ... -1.908559    0.434614   \n",
       "2    0.723155 -0.379212 -0.408885 -1.170478  ...  1.416777    0.757259   \n",
       "3    1.722115 -0.323161 -0.817838 -1.000836  ...  0.937656    0.927449   \n",
       "4    2.344703 -0.227778 -1.141341 -0.721533  ...  0.552240    0.972421   \n",
       "..        ...       ...       ...       ...  ...       ...         ...   \n",
       "953 -0.222561  0.645359  0.471055  1.704354  ...  1.487661   -0.742742   \n",
       "954 -0.774030  0.566305  0.729596  1.468951  ...  1.212410   -0.860830   \n",
       "955 -1.356292  0.457647  0.945960  1.151565  ...  0.911970   -0.949216   \n",
       "956 -1.959266  0.320503  1.096206  0.756424  ...  0.580306   -0.986231   \n",
       "957 -2.559726  0.159584  1.150975  0.298184  ...  0.208154   -0.938354   \n",
       "\n",
       "     dtheta/dt_sim  dfi/dt_sim    dx_sim    dy_sim    dz_sim   dro_sim  \\\n",
       "0        -0.937090    0.747771 -0.343891 -1.463405 -0.957448 -0.004444   \n",
       "1        -1.353263    0.125439 -0.114952 -1.642185 -0.291497  0.434614   \n",
       "2        -1.006825   -0.538343  0.104417 -1.556416  0.340189  0.757259   \n",
       "3        -0.680071   -0.604404  0.270316 -1.298146  0.813059  0.927449   \n",
       "4        -0.534778   -0.546743  0.375320 -0.970269  1.108234  0.972421   \n",
       "..             ...         ...       ...       ...       ...       ...   \n",
       "953      -0.766832    0.241463 -0.220788  0.958989 -0.678237 -0.742742   \n",
       "954      -0.663148    0.348921 -0.321936  0.846475 -0.964490 -0.860830   \n",
       "955      -0.586234    0.445073 -0.423032  0.659548 -1.247310 -0.949216   \n",
       "956      -0.542090    0.545735 -0.515481  0.378531 -1.501082 -0.986231   \n",
       "957      -0.531650    0.657604 -0.582530 -0.013040 -1.676843 -0.938354   \n",
       "\n",
       "     dtheta_sim   dfi_sim  \n",
       "0     -0.937090  0.747771  \n",
       "1     -1.353263  0.125439  \n",
       "2     -1.006825 -0.538343  \n",
       "3     -0.680071 -0.604404  \n",
       "4     -0.534778 -0.546743  \n",
       "..          ...       ...  \n",
       "953   -0.766832  0.241463  \n",
       "954   -0.663148  0.348921  \n",
       "955   -0.586234  0.445073  \n",
       "956   -0.542090  0.545735  \n",
       "957   -0.531650  0.657604  \n",
       "\n",
       "[958 rows x 25 columns]"
      ]
     },
     "execution_count": 4,
     "metadata": {},
     "output_type": "execute_result"
    }
   ],
   "source": [
    "sat_datas_train[0]"
   ]
  },
  {
   "cell_type": "code",
   "execution_count": 9,
   "metadata": {
    "ExecuteTime": {
     "end_time": "2020-02-07T17:05:23.872578Z",
     "start_time": "2020-02-07T17:05:23.861688Z"
    }
   },
   "outputs": [],
   "source": [
    "def train_new(spoint, sat_id):\n",
    "    seq_len = spoint['seq_len']\n",
    "    hidden_dim = spoint['hidden_dim']\n",
    "    num_layers = spoint['num_layers']\n",
    "    ep = spoint['epoch']\n",
    "    lr = spoint['lr']\n",
    "    eps = spoint['eps']\n",
    "    \n",
    "    train_data = sat_datas_train[sat_id]\n",
    "    if seq_len > int(len(train_data) / 2 - 1):\n",
    "        seq_len = int(len(train_data) / 2 - 1)\n",
    "    x_train = train_data[features]\n",
    "    y_train = train_data[targets]\n",
    "    \n",
    "    model = LSTM(hidden_dim=hidden_dim, seq_len=seq_len, num_layers=num_layers)\n",
    "    model.train()\n",
    "    optimizer = torch.optim.Adam(params=model.parameters(), lr=lr, eps=eps)\n",
    "    criterion = smape\n",
    "    model.train()\n",
    "    loss_widget = widgets.FloatProgress(min=0, max=1, step=0.01, description='Loss', value=0)  # jupyter widget\n",
    "    display(loss_widget)\n",
    "    train_data = sat_datas_train[sat_id]\n",
    "    x_train = train_data[features]\n",
    "    y_train = train_data[targets]\n",
    "    train_dataset = TrainTestSequenceDataset(x_train, y_train, seq_len=model.seq_len)\n",
    "    train_dataloader = DataLoader(train_dataset, batch_size=1, shuffle=True)\n",
    "    for epoch in tqdm(range(ep)):\n",
    "        for seq_train_x, seq_train_y in train_dataloader:\n",
    "            model.zero_grad()  # refresh gradients\n",
    "            model.init_hidden_cell()\n",
    "            predictions = model(seq_train_x)\n",
    "            loss = criterion(predictions, seq_train_y)\n",
    "            loss_widget.value = loss.mean()\n",
    "            loss.mean().backward()  # compute gradients\n",
    "            optimizer.step()  # update network parameters\n",
    "\n",
    "    model.eval()\n",
    "\n",
    "    return model"
   ]
  },
  {
   "cell_type": "code",
   "execution_count": 10,
   "metadata": {
    "ExecuteTime": {
     "end_time": "2020-02-07T17:06:14.671876Z",
     "start_time": "2020-02-07T17:05:24.393095Z"
    }
   },
   "outputs": [
    {
     "name": "stdout",
     "output_type": "stream",
     "text": [
      "Satellite id: 4\n"
     ]
    },
    {
     "data": {
      "application/vnd.jupyter.widget-view+json": {
       "model_id": "ea263005eb264823bf66181a14746182",
       "version_major": 2,
       "version_minor": 0
      },
      "text/plain": [
       "FloatProgress(value=0.0, description='Loss', max=1.0)"
      ]
     },
     "metadata": {},
     "output_type": "display_data"
    },
    {
     "data": {
      "application/vnd.jupyter.widget-view+json": {
       "model_id": "73a7719ea2e34185b9841bc7afd52a6c",
       "version_major": 2,
       "version_minor": 0
      },
      "text/plain": [
       "HBox(children=(FloatProgress(value=0.0, max=1.0), HTML(value='')))"
      ]
     },
     "metadata": {},
     "output_type": "display_data"
    },
    {
     "name": "stdout",
     "output_type": "stream",
     "text": [
      "\n"
     ]
    },
    {
     "ename": "KeyboardInterrupt",
     "evalue": "",
     "output_type": "error",
     "traceback": [
      "\u001b[0;31m---------------------------------------------------------------------------\u001b[0m",
      "\u001b[0;31mKeyboardInterrupt\u001b[0m                         Traceback (most recent call last)",
      "\u001b[0;32m<ipython-input-10-18749a978840>\u001b[0m in \u001b[0;36m<module>\u001b[0;34m\u001b[0m\n\u001b[1;32m      4\u001b[0m     \u001b[0mspoint\u001b[0m \u001b[0;34m=\u001b[0m \u001b[0mbest_params\u001b[0m\u001b[0;34m\u001b[0m\u001b[0;34m\u001b[0m\u001b[0m\n\u001b[1;32m      5\u001b[0m \u001b[0;34m\u001b[0m\u001b[0m\n\u001b[0;32m----> 6\u001b[0;31m     \u001b[0mmodel\u001b[0m\u001b[0;34m=\u001b[0m \u001b[0mtrain_new\u001b[0m\u001b[0;34m(\u001b[0m\u001b[0mspoint\u001b[0m\u001b[0;34m=\u001b[0m\u001b[0mspoint\u001b[0m\u001b[0;34m,\u001b[0m \u001b[0msat_id\u001b[0m\u001b[0;34m=\u001b[0m\u001b[0msat_id\u001b[0m\u001b[0;34m)\u001b[0m\u001b[0;34m\u001b[0m\u001b[0;34m\u001b[0m\u001b[0m\n\u001b[0m\u001b[1;32m      7\u001b[0m     \u001b[0;32mif\u001b[0m \u001b[0;32mnot\u001b[0m \u001b[0mos\u001b[0m\u001b[0;34m.\u001b[0m\u001b[0mpath\u001b[0m\u001b[0;34m.\u001b[0m\u001b[0mexists\u001b[0m\u001b[0;34m(\u001b[0m\u001b[0;34mf'models//{sat_id}'\u001b[0m\u001b[0;34m)\u001b[0m\u001b[0;34m:\u001b[0m\u001b[0;34m\u001b[0m\u001b[0;34m\u001b[0m\u001b[0m\n\u001b[1;32m      8\u001b[0m         \u001b[0mos\u001b[0m\u001b[0;34m.\u001b[0m\u001b[0mmakedirs\u001b[0m\u001b[0;34m(\u001b[0m\u001b[0;34mf'models//{sat_id}'\u001b[0m\u001b[0;34m)\u001b[0m\u001b[0;34m\u001b[0m\u001b[0;34m\u001b[0m\u001b[0m\n",
      "\u001b[0;32m<ipython-input-9-86f2eb7145c5>\u001b[0m in \u001b[0;36mtrain_new\u001b[0;34m(spoint, sat_id)\u001b[0m\n\u001b[1;32m     29\u001b[0m             \u001b[0mmodel\u001b[0m\u001b[0;34m.\u001b[0m\u001b[0mzero_grad\u001b[0m\u001b[0;34m(\u001b[0m\u001b[0;34m)\u001b[0m  \u001b[0;31m# refresh gradients\u001b[0m\u001b[0;34m\u001b[0m\u001b[0;34m\u001b[0m\u001b[0m\n\u001b[1;32m     30\u001b[0m             \u001b[0mmodel\u001b[0m\u001b[0;34m.\u001b[0m\u001b[0minit_hidden_cell\u001b[0m\u001b[0;34m(\u001b[0m\u001b[0;34m)\u001b[0m\u001b[0;34m\u001b[0m\u001b[0;34m\u001b[0m\u001b[0m\n\u001b[0;32m---> 31\u001b[0;31m             \u001b[0mpredictions\u001b[0m \u001b[0;34m=\u001b[0m \u001b[0mmodel\u001b[0m\u001b[0;34m(\u001b[0m\u001b[0mseq_train_x\u001b[0m\u001b[0;34m)\u001b[0m\u001b[0;34m\u001b[0m\u001b[0;34m\u001b[0m\u001b[0m\n\u001b[0m\u001b[1;32m     32\u001b[0m             \u001b[0mloss\u001b[0m \u001b[0;34m=\u001b[0m \u001b[0mcriterion\u001b[0m\u001b[0;34m(\u001b[0m\u001b[0mpredictions\u001b[0m\u001b[0;34m,\u001b[0m \u001b[0mseq_train_y\u001b[0m\u001b[0;34m)\u001b[0m\u001b[0;34m\u001b[0m\u001b[0;34m\u001b[0m\u001b[0m\n\u001b[1;32m     33\u001b[0m             \u001b[0mloss_widget\u001b[0m\u001b[0;34m.\u001b[0m\u001b[0mvalue\u001b[0m \u001b[0;34m=\u001b[0m \u001b[0mloss\u001b[0m\u001b[0;34m.\u001b[0m\u001b[0mmean\u001b[0m\u001b[0;34m(\u001b[0m\u001b[0;34m)\u001b[0m\u001b[0;34m\u001b[0m\u001b[0;34m\u001b[0m\u001b[0m\n",
      "\u001b[0;32m~/anaconda3/envs/IDAO2020/lib/python3.6/site-packages/torch/nn/modules/module.py\u001b[0m in \u001b[0;36m__call__\u001b[0;34m(self, *input, **kwargs)\u001b[0m\n\u001b[1;32m    530\u001b[0m             \u001b[0mresult\u001b[0m \u001b[0;34m=\u001b[0m \u001b[0mself\u001b[0m\u001b[0;34m.\u001b[0m\u001b[0m_slow_forward\u001b[0m\u001b[0;34m(\u001b[0m\u001b[0;34m*\u001b[0m\u001b[0minput\u001b[0m\u001b[0;34m,\u001b[0m \u001b[0;34m**\u001b[0m\u001b[0mkwargs\u001b[0m\u001b[0;34m)\u001b[0m\u001b[0;34m\u001b[0m\u001b[0;34m\u001b[0m\u001b[0m\n\u001b[1;32m    531\u001b[0m         \u001b[0;32melse\u001b[0m\u001b[0;34m:\u001b[0m\u001b[0;34m\u001b[0m\u001b[0;34m\u001b[0m\u001b[0m\n\u001b[0;32m--> 532\u001b[0;31m             \u001b[0mresult\u001b[0m \u001b[0;34m=\u001b[0m \u001b[0mself\u001b[0m\u001b[0;34m.\u001b[0m\u001b[0mforward\u001b[0m\u001b[0;34m(\u001b[0m\u001b[0;34m*\u001b[0m\u001b[0minput\u001b[0m\u001b[0;34m,\u001b[0m \u001b[0;34m**\u001b[0m\u001b[0mkwargs\u001b[0m\u001b[0;34m)\u001b[0m\u001b[0;34m\u001b[0m\u001b[0;34m\u001b[0m\u001b[0m\n\u001b[0m\u001b[1;32m    533\u001b[0m         \u001b[0;32mfor\u001b[0m \u001b[0mhook\u001b[0m \u001b[0;32min\u001b[0m \u001b[0mself\u001b[0m\u001b[0;34m.\u001b[0m\u001b[0m_forward_hooks\u001b[0m\u001b[0;34m.\u001b[0m\u001b[0mvalues\u001b[0m\u001b[0;34m(\u001b[0m\u001b[0;34m)\u001b[0m\u001b[0;34m:\u001b[0m\u001b[0;34m\u001b[0m\u001b[0;34m\u001b[0m\u001b[0m\n\u001b[1;32m    534\u001b[0m             \u001b[0mhook_result\u001b[0m \u001b[0;34m=\u001b[0m \u001b[0mhook\u001b[0m\u001b[0;34m(\u001b[0m\u001b[0mself\u001b[0m\u001b[0;34m,\u001b[0m \u001b[0minput\u001b[0m\u001b[0;34m,\u001b[0m \u001b[0mresult\u001b[0m\u001b[0;34m)\u001b[0m\u001b[0;34m\u001b[0m\u001b[0;34m\u001b[0m\u001b[0m\n",
      "\u001b[0;32m~/Projects/IDAO2020/models.py\u001b[0m in \u001b[0;36mforward\u001b[0;34m(self, input_seq)\u001b[0m\n\u001b[1;32m     24\u001b[0m         \u001b[0;31m# input_seq = input_seq.permute(0, 2, 1)\u001b[0m\u001b[0;34m\u001b[0m\u001b[0;34m\u001b[0m\u001b[0;34m\u001b[0m\u001b[0m\n\u001b[1;32m     25\u001b[0m         lstm_out, self.hidden_cell = self.lstm(input_seq.view(input_seq.size(1), input_seq.size(0), -1),\n\u001b[0;32m---> 26\u001b[0;31m                                                self.hidden_cell)\n\u001b[0m\u001b[1;32m     27\u001b[0m         \u001b[0mout\u001b[0m \u001b[0;34m=\u001b[0m \u001b[0mlstm_out\u001b[0m\u001b[0;34m.\u001b[0m\u001b[0mpermute\u001b[0m\u001b[0;34m(\u001b[0m\u001b[0;36m1\u001b[0m\u001b[0;34m,\u001b[0m \u001b[0;36m0\u001b[0m\u001b[0;34m,\u001b[0m \u001b[0;36m2\u001b[0m\u001b[0;34m)\u001b[0m\u001b[0;34m\u001b[0m\u001b[0;34m\u001b[0m\u001b[0m\n\u001b[1;32m     28\u001b[0m         \u001b[0mout\u001b[0m \u001b[0;34m=\u001b[0m \u001b[0mself\u001b[0m\u001b[0;34m.\u001b[0m\u001b[0mactivation\u001b[0m\u001b[0;34m(\u001b[0m\u001b[0mout\u001b[0m\u001b[0;34m)\u001b[0m\u001b[0;34m\u001b[0m\u001b[0;34m\u001b[0m\u001b[0m\n",
      "\u001b[0;32m~/anaconda3/envs/IDAO2020/lib/python3.6/site-packages/torch/nn/modules/module.py\u001b[0m in \u001b[0;36m__call__\u001b[0;34m(self, *input, **kwargs)\u001b[0m\n\u001b[1;32m    530\u001b[0m             \u001b[0mresult\u001b[0m \u001b[0;34m=\u001b[0m \u001b[0mself\u001b[0m\u001b[0;34m.\u001b[0m\u001b[0m_slow_forward\u001b[0m\u001b[0;34m(\u001b[0m\u001b[0;34m*\u001b[0m\u001b[0minput\u001b[0m\u001b[0;34m,\u001b[0m \u001b[0;34m**\u001b[0m\u001b[0mkwargs\u001b[0m\u001b[0;34m)\u001b[0m\u001b[0;34m\u001b[0m\u001b[0;34m\u001b[0m\u001b[0m\n\u001b[1;32m    531\u001b[0m         \u001b[0;32melse\u001b[0m\u001b[0;34m:\u001b[0m\u001b[0;34m\u001b[0m\u001b[0;34m\u001b[0m\u001b[0m\n\u001b[0;32m--> 532\u001b[0;31m             \u001b[0mresult\u001b[0m \u001b[0;34m=\u001b[0m \u001b[0mself\u001b[0m\u001b[0;34m.\u001b[0m\u001b[0mforward\u001b[0m\u001b[0;34m(\u001b[0m\u001b[0;34m*\u001b[0m\u001b[0minput\u001b[0m\u001b[0;34m,\u001b[0m \u001b[0;34m**\u001b[0m\u001b[0mkwargs\u001b[0m\u001b[0;34m)\u001b[0m\u001b[0;34m\u001b[0m\u001b[0;34m\u001b[0m\u001b[0m\n\u001b[0m\u001b[1;32m    533\u001b[0m         \u001b[0;32mfor\u001b[0m \u001b[0mhook\u001b[0m \u001b[0;32min\u001b[0m \u001b[0mself\u001b[0m\u001b[0;34m.\u001b[0m\u001b[0m_forward_hooks\u001b[0m\u001b[0;34m.\u001b[0m\u001b[0mvalues\u001b[0m\u001b[0;34m(\u001b[0m\u001b[0;34m)\u001b[0m\u001b[0;34m:\u001b[0m\u001b[0;34m\u001b[0m\u001b[0;34m\u001b[0m\u001b[0m\n\u001b[1;32m    534\u001b[0m             \u001b[0mhook_result\u001b[0m \u001b[0;34m=\u001b[0m \u001b[0mhook\u001b[0m\u001b[0;34m(\u001b[0m\u001b[0mself\u001b[0m\u001b[0;34m,\u001b[0m \u001b[0minput\u001b[0m\u001b[0;34m,\u001b[0m \u001b[0mresult\u001b[0m\u001b[0;34m)\u001b[0m\u001b[0;34m\u001b[0m\u001b[0;34m\u001b[0m\u001b[0m\n",
      "\u001b[0;32m~/anaconda3/envs/IDAO2020/lib/python3.6/site-packages/torch/nn/modules/rnn.py\u001b[0m in \u001b[0;36mforward\u001b[0;34m(self, input, hx)\u001b[0m\n\u001b[1;32m    557\u001b[0m         \u001b[0;32mif\u001b[0m \u001b[0mbatch_sizes\u001b[0m \u001b[0;32mis\u001b[0m \u001b[0;32mNone\u001b[0m\u001b[0;34m:\u001b[0m\u001b[0;34m\u001b[0m\u001b[0;34m\u001b[0m\u001b[0m\n\u001b[1;32m    558\u001b[0m             result = _VF.lstm(input, hx, self._flat_weights, self.bias, self.num_layers,\n\u001b[0;32m--> 559\u001b[0;31m                               self.dropout, self.training, self.bidirectional, self.batch_first)\n\u001b[0m\u001b[1;32m    560\u001b[0m         \u001b[0;32melse\u001b[0m\u001b[0;34m:\u001b[0m\u001b[0;34m\u001b[0m\u001b[0;34m\u001b[0m\u001b[0m\n\u001b[1;32m    561\u001b[0m             result = _VF.lstm(input, batch_sizes, hx, self._flat_weights, self.bias,\n",
      "\u001b[0;31mKeyboardInterrupt\u001b[0m: "
     ]
    }
   ],
   "source": [
    "for sat_id in range(600):\n",
    "    clear_output()\n",
    "    print(f'Satellite id: {sat_id}')\n",
    "    spoint = best_params\n",
    "    \n",
    "    model= train_new(spoint=spoint, sat_id=sat_id)\n",
    "    if not os.path.exists(f'models//{sat_id}'):\n",
    "        os.makedirs(f'models//{sat_id}')\n",
    "    \n",
    "    torch.save(model, f'models//{sat_id}//model.pt')"
   ]
  },
  {
   "cell_type": "code",
   "execution_count": null,
   "metadata": {},
   "outputs": [],
   "source": []
  }
 ],
 "metadata": {
  "kernelspec": {
   "display_name": "Python 3",
   "language": "python",
   "name": "python3"
  },
  "language_info": {
   "codemirror_mode": {
    "name": "ipython",
    "version": 3
   },
   "file_extension": ".py",
   "mimetype": "text/x-python",
   "name": "python",
   "nbconvert_exporter": "python",
   "pygments_lexer": "ipython3",
   "version": "3.6.10"
  }
 },
 "nbformat": 4,
 "nbformat_minor": 4
}
