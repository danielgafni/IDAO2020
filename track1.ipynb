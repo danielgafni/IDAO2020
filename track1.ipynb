{
 "cells": [
  {
   "cell_type": "markdown",
   "metadata": {},
   "source": [
    "# Imports"
   ]
  },
  {
   "cell_type": "code",
   "execution_count": 1,
   "metadata": {
    "ExecuteTime": {
     "end_time": "2020-02-08T21:57:07.146660Z",
     "start_time": "2020-02-08T21:57:04.976225Z"
    }
   },
   "outputs": [],
   "source": [
    "import pandas as pd\n",
    "import numpy as np\n",
    "from matplotlib import pyplot as plt\n",
    "import torch\n",
    "from torch.utils.data import Dataset, DataLoader\n",
    "import plotly.graph_objs as go\n",
    "from sklearn.model_selection import train_test_split\n",
    "from sklearn.preprocessing import LabelEncoder, StandardScaler\n",
    "from utils import TrainTestSequenceDataset, PredictSequenceDataset, smape, process_for_train_test, features, targets, process_for_predict\n",
    "from models import LSTM\n",
    "from tqdm.notebook import tqdm\n",
    "from IPython.display import clear_output, display\n",
    "import ipywidgets as widgets\n",
    "import os\n",
    "from spaceopt import SpaceOpt\n",
    "from time import strptime\n",
    "import warnings\n",
    "warnings.filterwarnings('ignore')"
   ]
  },
  {
   "cell_type": "markdown",
   "metadata": {},
   "source": [
    "# Loading data"
   ]
  },
  {
   "cell_type": "code",
   "execution_count": 2,
   "metadata": {
    "ExecuteTime": {
     "end_time": "2020-02-08T21:57:10.081367Z",
     "start_time": "2020-02-08T21:57:07.148085Z"
    }
   },
   "outputs": [],
   "source": [
    "data = pd.read_csv('train.csv', parse_dates=['epoch'],\n",
    "                   infer_datetime_format=True)\n",
    "# test_sat_id = np.unique(pd.read_csv('train.csv')['sat_id'].values)"
   ]
  },
  {
   "cell_type": "markdown",
   "metadata": {},
   "source": [
    "# Data processing"
   ]
  },
  {
   "cell_type": "code",
   "execution_count": 3,
   "metadata": {
    "ExecuteTime": {
     "end_time": "2020-02-08T21:57:39.856932Z",
     "start_time": "2020-02-08T21:57:10.082948Z"
    }
   },
   "outputs": [],
   "source": [
    "sat_datas_train, sat_datas_test = process_for_train_test(data)"
   ]
  },
  {
   "cell_type": "code",
   "execution_count": 4,
   "metadata": {
    "ExecuteTime": {
     "end_time": "2020-02-08T21:57:53.616707Z",
     "start_time": "2020-02-08T21:57:53.568734Z"
    }
   },
   "outputs": [
    {
     "data": {
      "text/html": [
       "<div>\n",
       "<style scoped>\n",
       "    .dataframe tbody tr th:only-of-type {\n",
       "        vertical-align: middle;\n",
       "    }\n",
       "\n",
       "    .dataframe tbody tr th {\n",
       "        vertical-align: top;\n",
       "    }\n",
       "\n",
       "    .dataframe thead th {\n",
       "        text-align: right;\n",
       "    }\n",
       "</style>\n",
       "<table border=\"1\" class=\"dataframe\">\n",
       "  <thead>\n",
       "    <tr style=\"text-align: right;\">\n",
       "      <th></th>\n",
       "      <th>x</th>\n",
       "      <th>y</th>\n",
       "      <th>z</th>\n",
       "      <th>Vx</th>\n",
       "      <th>Vy</th>\n",
       "      <th>Vz</th>\n",
       "      <th>x_sim</th>\n",
       "      <th>y_sim</th>\n",
       "      <th>z_sim</th>\n",
       "      <th>Vx_sim</th>\n",
       "      <th>Vy_sim</th>\n",
       "      <th>Vz_sim</th>\n",
       "      <th>dt</th>\n",
       "      <th>dx_sim</th>\n",
       "      <th>dy_sim</th>\n",
       "      <th>dz_sim</th>\n",
       "    </tr>\n",
       "  </thead>\n",
       "  <tbody>\n",
       "    <tr>\n",
       "      <th>0</th>\n",
       "      <td>-8855.823863</td>\n",
       "      <td>13117.780146</td>\n",
       "      <td>-20728.353233</td>\n",
       "      <td>-0.908303</td>\n",
       "      <td>-3.808436</td>\n",
       "      <td>-2.022083</td>\n",
       "      <td>-1.403236</td>\n",
       "      <td>0.842595</td>\n",
       "      <td>-1.424594</td>\n",
       "      <td>-0.970349</td>\n",
       "      <td>-1.621059</td>\n",
       "      <td>-0.935724</td>\n",
       "      <td>0.037341</td>\n",
       "      <td>-0.969679</td>\n",
       "      <td>-1.625401</td>\n",
       "      <td>-0.935026</td>\n",
       "    </tr>\n",
       "    <tr>\n",
       "      <th>1</th>\n",
       "      <td>-10567.672384</td>\n",
       "      <td>1619.746066</td>\n",
       "      <td>-24451.813271</td>\n",
       "      <td>-0.302590</td>\n",
       "      <td>-4.272617</td>\n",
       "      <td>-0.612796</td>\n",
       "      <td>-1.577905</td>\n",
       "      <td>0.372368</td>\n",
       "      <td>-1.589195</td>\n",
       "      <td>-0.327658</td>\n",
       "      <td>-1.818828</td>\n",
       "      <td>-0.287952</td>\n",
       "      <td>0.037341</td>\n",
       "      <td>-0.326737</td>\n",
       "      <td>-1.823455</td>\n",
       "      <td>-0.286974</td>\n",
       "    </tr>\n",
       "    <tr>\n",
       "      <th>2</th>\n",
       "      <td>-10578.684043</td>\n",
       "      <td>-10180.467460</td>\n",
       "      <td>-24238.280949</td>\n",
       "      <td>0.277435</td>\n",
       "      <td>-4.047522</td>\n",
       "      <td>0.723155</td>\n",
       "      <td>-1.579573</td>\n",
       "      <td>-0.110396</td>\n",
       "      <td>-1.580288</td>\n",
       "      <td>0.288169</td>\n",
       "      <td>-1.723948</td>\n",
       "      <td>0.326491</td>\n",
       "      <td>0.037351</td>\n",
       "      <td>0.289331</td>\n",
       "      <td>-1.728439</td>\n",
       "      <td>0.327735</td>\n",
       "    </tr>\n",
       "    <tr>\n",
       "      <th>3</th>\n",
       "      <td>-9148.251857</td>\n",
       "      <td>-20651.437460</td>\n",
       "      <td>-20720.381279</td>\n",
       "      <td>0.715600</td>\n",
       "      <td>-3.373762</td>\n",
       "      <td>1.722115</td>\n",
       "      <td>-1.434499</td>\n",
       "      <td>-0.539012</td>\n",
       "      <td>-1.425626</td>\n",
       "      <td>0.753891</td>\n",
       "      <td>-1.438247</td>\n",
       "      <td>0.786453</td>\n",
       "      <td>0.037341</td>\n",
       "      <td>0.755235</td>\n",
       "      <td>-1.442325</td>\n",
       "      <td>0.787896</td>\n",
       "    </tr>\n",
       "    <tr>\n",
       "      <th>4</th>\n",
       "      <td>-6719.092336</td>\n",
       "      <td>-28929.061629</td>\n",
       "      <td>-14938.907967</td>\n",
       "      <td>0.992507</td>\n",
       "      <td>-2.519732</td>\n",
       "      <td>2.344703</td>\n",
       "      <td>-1.187622</td>\n",
       "      <td>-0.878068</td>\n",
       "      <td>-1.170987</td>\n",
       "      <td>1.048664</td>\n",
       "      <td>-1.075547</td>\n",
       "      <td>1.073571</td>\n",
       "      <td>0.037351</td>\n",
       "      <td>1.050123</td>\n",
       "      <td>-1.079101</td>\n",
       "      <td>1.075138</td>\n",
       "    </tr>\n",
       "  </tbody>\n",
       "</table>\n",
       "</div>"
      ],
      "text/plain": [
       "              x             y             z        Vx        Vy        Vz  \\\n",
       "0  -8855.823863  13117.780146 -20728.353233 -0.908303 -3.808436 -2.022083   \n",
       "1 -10567.672384   1619.746066 -24451.813271 -0.302590 -4.272617 -0.612796   \n",
       "2 -10578.684043 -10180.467460 -24238.280949  0.277435 -4.047522  0.723155   \n",
       "3  -9148.251857 -20651.437460 -20720.381279  0.715600 -3.373762  1.722115   \n",
       "4  -6719.092336 -28929.061629 -14938.907967  0.992507 -2.519732  2.344703   \n",
       "\n",
       "      x_sim     y_sim     z_sim    Vx_sim    Vy_sim    Vz_sim        dt  \\\n",
       "0 -1.403236  0.842595 -1.424594 -0.970349 -1.621059 -0.935724  0.037341   \n",
       "1 -1.577905  0.372368 -1.589195 -0.327658 -1.818828 -0.287952  0.037341   \n",
       "2 -1.579573 -0.110396 -1.580288  0.288169 -1.723948  0.326491  0.037351   \n",
       "3 -1.434499 -0.539012 -1.425626  0.753891 -1.438247  0.786453  0.037341   \n",
       "4 -1.187622 -0.878068 -1.170987  1.048664 -1.075547  1.073571  0.037351   \n",
       "\n",
       "     dx_sim    dy_sim    dz_sim  \n",
       "0 -0.969679 -1.625401 -0.935026  \n",
       "1 -0.326737 -1.823455 -0.286974  \n",
       "2  0.289331 -1.728439  0.327735  \n",
       "3  0.755235 -1.442325  0.787896  \n",
       "4  1.050123 -1.079101  1.075138  "
      ]
     },
     "execution_count": 4,
     "metadata": {},
     "output_type": "execute_result"
    }
   ],
   "source": [
    "sat_datas_train[0].head()"
   ]
  },
  {
   "cell_type": "code",
   "execution_count": 5,
   "metadata": {
    "ExecuteTime": {
     "end_time": "2020-02-08T21:57:54.206615Z",
     "start_time": "2020-02-08T21:57:54.168440Z"
    }
   },
   "outputs": [
    {
     "data": {
      "text/html": [
       "<div>\n",
       "<style scoped>\n",
       "    .dataframe tbody tr th:only-of-type {\n",
       "        vertical-align: middle;\n",
       "    }\n",
       "\n",
       "    .dataframe tbody tr th {\n",
       "        vertical-align: top;\n",
       "    }\n",
       "\n",
       "    .dataframe thead th {\n",
       "        text-align: right;\n",
       "    }\n",
       "</style>\n",
       "<table border=\"1\" class=\"dataframe\">\n",
       "  <thead>\n",
       "    <tr style=\"text-align: right;\">\n",
       "      <th></th>\n",
       "      <th>x</th>\n",
       "      <th>y</th>\n",
       "      <th>z</th>\n",
       "      <th>Vx</th>\n",
       "      <th>Vy</th>\n",
       "      <th>Vz</th>\n",
       "      <th>x_sim</th>\n",
       "      <th>y_sim</th>\n",
       "      <th>z_sim</th>\n",
       "      <th>Vx_sim</th>\n",
       "      <th>Vy_sim</th>\n",
       "      <th>Vz_sim</th>\n",
       "      <th>dt</th>\n",
       "      <th>dx_sim</th>\n",
       "      <th>dy_sim</th>\n",
       "      <th>dz_sim</th>\n",
       "    </tr>\n",
       "  </thead>\n",
       "  <tbody>\n",
       "    <tr>\n",
       "      <th>718</th>\n",
       "      <td>3478.786221</td>\n",
       "      <td>29819.020220</td>\n",
       "      <td>7062.855377</td>\n",
       "      <td>-1.525112</td>\n",
       "      <td>0.075176</td>\n",
       "      <td>-3.517007</td>\n",
       "      <td>-0.638027</td>\n",
       "      <td>1.449782</td>\n",
       "      <td>-0.685976</td>\n",
       "      <td>-1.674371</td>\n",
       "      <td>-0.564877</td>\n",
       "      <td>-1.652014</td>\n",
       "      <td>0.037351</td>\n",
       "      <td>-1.673977</td>\n",
       "      <td>-0.567694</td>\n",
       "      <td>-1.651626</td>\n",
       "    </tr>\n",
       "    <tr>\n",
       "      <th>719</th>\n",
       "      <td>-910.353216</td>\n",
       "      <td>28313.233297</td>\n",
       "      <td>-3003.729365</td>\n",
       "      <td>-1.577225</td>\n",
       "      <td>-1.188958</td>\n",
       "      <td>-3.596677</td>\n",
       "      <td>-1.065314</td>\n",
       "      <td>1.218266</td>\n",
       "      <td>-1.104655</td>\n",
       "      <td>-1.469152</td>\n",
       "      <td>-1.152524</td>\n",
       "      <td>-1.426653</td>\n",
       "      <td>0.037341</td>\n",
       "      <td>-1.468677</td>\n",
       "      <td>-1.156189</td>\n",
       "      <td>-1.426167</td>\n",
       "    </tr>\n",
       "    <tr>\n",
       "      <th>720</th>\n",
       "      <td>-5156.221079</td>\n",
       "      <td>23031.794108</td>\n",
       "      <td>-12619.286635</td>\n",
       "      <td>-1.409264</td>\n",
       "      <td>-2.575675</td>\n",
       "      <td>-3.165172</td>\n",
       "      <td>-1.400004</td>\n",
       "      <td>0.840016</td>\n",
       "      <td>-1.425764</td>\n",
       "      <td>-0.990359</td>\n",
       "      <td>-1.622241</td>\n",
       "      <td>-0.932227</td>\n",
       "      <td>0.037351</td>\n",
       "      <td>-0.989697</td>\n",
       "      <td>-1.626585</td>\n",
       "      <td>-0.931528</td>\n",
       "    </tr>\n",
       "    <tr>\n",
       "      <th>721</th>\n",
       "      <td>-8562.860529</td>\n",
       "      <td>14092.099579</td>\n",
       "      <td>-20183.438335</td>\n",
       "      <td>-0.981024</td>\n",
       "      <td>-3.727017</td>\n",
       "      <td>-2.141273</td>\n",
       "      <td>-1.580052</td>\n",
       "      <td>0.369645</td>\n",
       "      <td>-1.589236</td>\n",
       "      <td>-0.347450</td>\n",
       "      <td>-1.818557</td>\n",
       "      <td>-0.283452</td>\n",
       "      <td>0.037341</td>\n",
       "      <td>-0.346537</td>\n",
       "      <td>-1.823184</td>\n",
       "      <td>-0.282472</td>\n",
       "    </tr>\n",
       "    <tr>\n",
       "      <th>722</th>\n",
       "      <td>-10493.335805</td>\n",
       "      <td>2727.541857</td>\n",
       "      <td>-24267.597152</td>\n",
       "      <td>-0.382391</td>\n",
       "      <td>-4.259435</td>\n",
       "      <td>-0.744472</td>\n",
       "      <td>-1.586861</td>\n",
       "      <td>-0.112854</td>\n",
       "      <td>-1.579272</td>\n",
       "      <td>0.269869</td>\n",
       "      <td>-1.722433</td>\n",
       "      <td>0.329579</td>\n",
       "      <td>0.037351</td>\n",
       "      <td>0.271024</td>\n",
       "      <td>-1.726922</td>\n",
       "      <td>0.330825</td>\n",
       "    </tr>\n",
       "  </tbody>\n",
       "</table>\n",
       "</div>"
      ],
      "text/plain": [
       "                x             y             z        Vx        Vy        Vz  \\\n",
       "718   3478.786221  29819.020220   7062.855377 -1.525112  0.075176 -3.517007   \n",
       "719   -910.353216  28313.233297  -3003.729365 -1.577225 -1.188958 -3.596677   \n",
       "720  -5156.221079  23031.794108 -12619.286635 -1.409264 -2.575675 -3.165172   \n",
       "721  -8562.860529  14092.099579 -20183.438335 -0.981024 -3.727017 -2.141273   \n",
       "722 -10493.335805   2727.541857 -24267.597152 -0.382391 -4.259435 -0.744472   \n",
       "\n",
       "        x_sim     y_sim     z_sim    Vx_sim    Vy_sim    Vz_sim        dt  \\\n",
       "718 -0.638027  1.449782 -0.685976 -1.674371 -0.564877 -1.652014  0.037351   \n",
       "719 -1.065314  1.218266 -1.104655 -1.469152 -1.152524 -1.426653  0.037341   \n",
       "720 -1.400004  0.840016 -1.425764 -0.990359 -1.622241 -0.932227  0.037351   \n",
       "721 -1.580052  0.369645 -1.589236 -0.347450 -1.818557 -0.283452  0.037341   \n",
       "722 -1.586861 -0.112854 -1.579272  0.269869 -1.722433  0.329579  0.037351   \n",
       "\n",
       "       dx_sim    dy_sim    dz_sim  \n",
       "718 -1.673977 -0.567694 -1.651626  \n",
       "719 -1.468677 -1.156189 -1.426167  \n",
       "720 -0.989697 -1.626585 -0.931528  \n",
       "721 -0.346537 -1.823184 -0.282472  \n",
       "722  0.271024 -1.726922  0.330825  "
      ]
     },
     "execution_count": 5,
     "metadata": {},
     "output_type": "execute_result"
    }
   ],
   "source": [
    "sat_datas_test[0].head()"
   ]
  },
  {
   "cell_type": "code",
   "execution_count": 6,
   "metadata": {
    "ExecuteTime": {
     "end_time": "2020-02-08T21:57:57.178714Z",
     "start_time": "2020-02-08T21:57:57.171652Z"
    }
   },
   "outputs": [],
   "source": [
    "device = torch.device('cuda')"
   ]
  },
  {
   "cell_type": "markdown",
   "metadata": {},
   "source": [
    "# Model"
   ]
  },
  {
   "cell_type": "code",
   "execution_count": 7,
   "metadata": {
    "ExecuteTime": {
     "end_time": "2020-02-08T21:58:16.498919Z",
     "start_time": "2020-02-08T21:58:10.705907Z"
    }
   },
   "outputs": [
    {
     "data": {
      "text/plain": [
       "LSTM(\n",
       "  (lstm): LSTM(10, 30, num_layers=2, batch_first=True, dropout=0.1)\n",
       "  (dropout): Dropout(p=0.1, inplace=False)\n",
       "  (activation): ReLU()\n",
       "  (linear): Linear(in_features=30, out_features=6, bias=True)\n",
       ")"
      ]
     },
     "execution_count": 7,
     "metadata": {},
     "output_type": "execute_result"
    }
   ],
   "source": [
    "seq_len = 3\n",
    "hidden_dim = 30\n",
    "num_layers = 2\n",
    "model = LSTM(hidden_dim=hidden_dim, seq_len=seq_len, num_layers=num_layers, input_dim=10)\n",
    "model.train()\n",
    "optimizer = torch.optim.Adam(params=model.parameters(), lr=0.001, eps=1e-4)\n",
    "criterion = smape\n",
    "n = 10\n",
    "model.to(device)"
   ]
  },
  {
   "cell_type": "markdown",
   "metadata": {},
   "source": [
    "# Train on n satellite"
   ]
  },
  {
   "cell_type": "code",
   "execution_count": null,
   "metadata": {
    "ExecuteTime": {
     "end_time": "2020-02-08T16:33:58.016204Z",
     "start_time": "2020-02-08T16:33:58.006705Z"
    }
   },
   "outputs": [],
   "source": []
  },
  {
   "cell_type": "code",
   "execution_count": null,
   "metadata": {
    "ExecuteTime": {
     "start_time": "2020-02-08T21:59:16.458Z"
    }
   },
   "outputs": [
    {
     "data": {
      "application/vnd.jupyter.widget-view+json": {
       "model_id": "e301c01934aa44e3a2ae7dcbbe3e46fe",
       "version_major": 2,
       "version_minor": 0
      },
      "text/plain": [
       "FloatProgress(value=0.0, description='Loss', max=1.0)"
      ]
     },
     "metadata": {},
     "output_type": "display_data"
    },
    {
     "data": {
      "application/vnd.jupyter.widget-view+json": {
       "model_id": "0a39fc3decff4da1a0b37c06c6986f23",
       "version_major": 2,
       "version_minor": 0
      },
      "text/plain": [
       "HBox(children=(FloatProgress(value=0.0, max=10.0), HTML(value='')))"
      ]
     },
     "metadata": {},
     "output_type": "display_data"
    }
   ],
   "source": [
    "model.train()\n",
    "loss_widget = widgets.FloatProgress(min=0, max=1, step=0.01, description='Loss', value=0)  # jupyter widget\n",
    "display(loss_widget)\n",
    "train_data = sat_datas_train[n]\n",
    "x_train = train_data[features]\n",
    "y_train = train_data[targets]\n",
    "train_dataset = TrainTestSequenceDataset(x_train, y_train, seq_len=model.seq_len)\n",
    "train_dataloader = DataLoader(train_dataset, batch_size=1, shuffle=True)\n",
    "for epoch in tqdm(range(10)):\n",
    "    for seq_train_x, seq_train_y in train_dataloader:\n",
    "        seq_train_x = seq_train_x\n",
    "        seq_train_y = seq_train_y.cuda()\n",
    "        model.zero_grad()  # refresh gradients\n",
    "        model.init_hidden_cell()\n",
    "        model.hidden_cell = (model.hidden_cell[0], model.hidden_cell[1])\n",
    "        \n",
    "        predictions = model(seq_train_x).squeeze(0)\n",
    "        predictions.to(device)\n",
    "        loss = criterion(predictions, seq_train_y)\n",
    "        loss_widget.value = loss.mean()\n",
    "        loss.mean().backward()  # compute gradients\n",
    "        optimizer.step()  # update network parameters"
   ]
  },
  {
   "cell_type": "code",
   "execution_count": null,
   "metadata": {
    "ExecuteTime": {
     "end_time": "2020-02-08T16:41:04.214378Z",
     "start_time": "2020-02-08T16:41:01.410928Z"
    }
   },
   "outputs": [],
   "source": [
    "model.eval()\n",
    "score_widget = widgets.FloatProgress(min=0, max=1, step=0.01, description='Score', value=0)  # jupyter widget\n",
    "display(score_widget)\n",
    "test_data = sat_datas_test[n]\n",
    "x_test = test_data[features]\n",
    "y_test = test_data[targets]\n",
    "test_dataset = TrainTestSequenceDataset(x_test, y_test, seq_len=model.seq_len)\n",
    "test_dataloader = DataLoader(test_dataset, batch_size=1, shuffle=False)\n",
    "loss_sum = 0\n",
    "i = 0\n",
    "model = model.to(device)\n",
    "for seq_test_x, seq_test_y in tqdm(test_dataloader):\n",
    "    with torch.no_grad():\n",
    "        seq_test_x = seq_test_x.cuda()\n",
    "        seq_test_y = seq_test_y.cuda()\n",
    "        model.init_hidden_cell()\n",
    "        model.hidden_cell = (model.hidden_cell[0].cuda(), model.hidden_cell[1].cuda())\n",
    "        predictions = model(seq_test_x)\n",
    "        predictions = predictions.cuda()\n",
    "        loss = criterion(predictions, seq_test_y).mean()\n",
    "        loss_sum += loss\n",
    "        i += 1\n",
    "        score_widget.value = 1 - loss_sum / i\n",
    "score =  (1 - loss_sum / i).item()\n",
    "print(score)"
   ]
  },
  {
   "cell_type": "code",
   "execution_count": null,
   "metadata": {
    "ExecuteTime": {
     "end_time": "2020-02-08T15:47:42.983494Z",
     "start_time": "2020-02-08T15:47:18.962Z"
    }
   },
   "outputs": [],
   "source": [
    "search_space = {\n",
    "    'lr': [0.001, 0.01, 0.1, 1.],\n",
    "    'eps': [1e-8, 1e-4, 1e-2, 1e0],\n",
    "    'seq_len': [10, 20, 30, 40],\n",
    "    'hidden_dim': [20, 30, 50],\n",
    "    'epoch': [10],\n",
    "    'num_layers': [1, 2, 3, 4]\n",
    "}"
   ]
  },
  {
   "cell_type": "markdown",
   "metadata": {},
   "source": [
    "# Models evaluation"
   ]
  },
  {
   "cell_type": "code",
   "execution_count": null,
   "metadata": {
    "ExecuteTime": {
     "end_time": "2020-02-08T15:47:42.988060Z",
     "start_time": "2020-02-08T15:47:18.964Z"
    }
   },
   "outputs": [],
   "source": [
    "def evaluate_new(spoint, sat_id):\n",
    "    seq_len = spoint['seq_len']\n",
    "    hidden_dim = spoint['hidden_dim']\n",
    "    num_layers = spoint['num_layers']\n",
    "    ep = spoint['epoch']\n",
    "    lr = spoint['lr']\n",
    "    eps = spoint['eps']\n",
    "    \n",
    "    train_data = sat_datas_train[sat_id]\n",
    "    if seq_len > int(len(train_data) / 2 - 1):\n",
    "        seq_len = int(len(train_data) / 2 - 1)\n",
    "    x_train = train_data[features]\n",
    "    x_train = x_train.drop(['ro_sim', 'theta_sim', 'fi_sim', 'dro/dt_sim', 'dtheta/dt_sim', 'dfi/dt_sim',\n",
    "                 'dro_sim', 'dtheta_sim', 'dfi_sim'], axis=1)\n",
    "    y_train = train_data[targets]\n",
    "    \n",
    "    model = LSTM(hidden_dim=hidden_dim, seq_len=seq_len, num_layers=num_layers,\n",
    "                 input_dim=x_train.shape[1])\n",
    "    model.train()\n",
    "    optimizer = torch.optim.Adam(params=model.parameters(), lr=lr, eps=eps)\n",
    "    criterion = smape\n",
    "    model.train()\n",
    "    loss_widget = widgets.FloatProgress(min=0, max=1, step=0.01, description='Loss', value=0)  # jupyter widget\n",
    "    display(loss_widget)\n",
    "    \n",
    "    train_dataset = TrainTestSequenceDataset(x_train, y_train, seq_len=model.seq_len)\n",
    "    train_dataloader = DataLoader(train_dataset, batch_size=1, shuffle=True)\n",
    "    for epoch in tqdm(range(10)):\n",
    "        for seq_train_x, seq_train_y in train_dataloader:\n",
    "            model.zero_grad()  # refresh gradients\n",
    "            model.init_hidden_cell()\n",
    "            predictions = model(seq_train_x)\n",
    "            loss = criterion(predictions, seq_train_y)\n",
    "            loss_widget.value = loss.mean()\n",
    "            loss.mean().backward()  # compute gradients\n",
    "            optimizer.step()  # update network parameters\n",
    "\n",
    "    model.eval()\n",
    "    score_widget = widgets.FloatProgress(min=0, max=1, step=0.01, description='Score', value=0)  # jupyter widget\n",
    "    display(score_widget)\n",
    "    test_data = sat_datas_test[sat_id]\n",
    "    x_test = test_data[features]\n",
    "    y_test = test_data[targets]\n",
    "    test_dataset = TrainTestSequenceDataset(x_test, y_test, seq_len=model.seq_len)\n",
    "    test_dataloader = DataLoader(test_dataset, batch_size=1, shuffle=False)\n",
    "    loss_sum = 0\n",
    "    i = 0\n",
    "\n",
    "    for seq_test_x, seq_test_y in tqdm(test_dataloader):\n",
    "        with torch.no_grad():\n",
    "            model.init_hidden_cell()\n",
    "            predictions = model(seq_test_x)\n",
    "            loss = criterion(predictions, seq_test_y).mean()\n",
    "            loss_sum += loss\n",
    "            i += 1\n",
    "            score_widget.value = 1 - loss_sum / i\n",
    "    score =  (1 - loss_sum / i).item()\n",
    "\n",
    "    return score, model"
   ]
  },
  {
   "cell_type": "code",
   "execution_count": null,
   "metadata": {
    "ExecuteTime": {
     "end_time": "2020-02-08T15:47:42.992971Z",
     "start_time": "2020-02-08T15:47:18.966Z"
    }
   },
   "outputs": [],
   "source": [
    "best_params = {'lr': 0.02, 'eps': 1e-2, 'seq_len': 5, # seq_len 5 hidden_dim 30\n",
    "               'hidden_dim': 20, 'epoch': 10, 'num_layers': 2}"
   ]
  },
  {
   "cell_type": "code",
   "execution_count": null,
   "metadata": {
    "ExecuteTime": {
     "end_time": "2020-02-08T15:47:42.995582Z",
     "start_time": "2020-02-08T15:47:18.968Z"
    }
   },
   "outputs": [],
   "source": [
    "score, model = evaluate_new(spoint=spoint, sat_id=599)"
   ]
  },
  {
   "cell_type": "code",
   "execution_count": null,
   "metadata": {
    "ExecuteTime": {
     "end_time": "2020-02-08T15:47:42.997487Z",
     "start_time": "2020-02-08T15:47:18.970Z"
    }
   },
   "outputs": [],
   "source": [
    "score"
   ]
  },
  {
   "cell_type": "code",
   "execution_count": null,
   "metadata": {
    "ExecuteTime": {
     "end_time": "2020-02-08T15:47:42.998999Z",
     "start_time": "2020-02-08T15:47:18.971Z"
    }
   },
   "outputs": [],
   "source": [
    "torch.save(score, f'models//{sat_id}//score')\n",
    "torch.save(model, f'models//{sat_id}//model.pt')"
   ]
  },
  {
   "cell_type": "code",
   "execution_count": null,
   "metadata": {
    "ExecuteTime": {
     "end_time": "2020-02-08T15:47:43.002695Z",
     "start_time": "2020-02-08T15:47:18.973Z"
    }
   },
   "outputs": [],
   "source": [
    "results = {}\n",
    "for sat_id in test_sat_id:\n",
    "    clear_output()\n",
    "    print(f'Satellite id: {sat_id}')\n",
    "    print(results)\n",
    "    spoint = best_params\n",
    "    \n",
    "    score, model= evaluate_new(spoint=spoint, sat_id=sat_id)\n",
    "    spoint['score'] = score\n",
    "    if not os.path.exists(f'models//{sat_id}'):\n",
    "        os.makedirs(f'models//{sat_id}')\n",
    "    results[str(sat_id)] = score\n",
    "    torch.save(score, f'models//{sat_id}//score')\n",
    "    torch.save(model, f'models//{sat_id}//model.pt')"
   ]
  },
  {
   "cell_type": "markdown",
   "metadata": {},
   "source": [
    "# Models factory"
   ]
  },
  {
   "cell_type": "code",
   "execution_count": null,
   "metadata": {
    "ExecuteTime": {
     "end_time": "2020-02-08T15:47:43.008931Z",
     "start_time": "2020-02-08T15:47:18.975Z"
    }
   },
   "outputs": [],
   "source": [
    "best_params = {'lr': 0.02, 'eps': 1e-2, 'seq_len': 20,\n",
    "               'hidden_dim': 100, 'epoch': 30, 'num_layers': 2}"
   ]
  },
  {
   "cell_type": "code",
   "execution_count": null,
   "metadata": {
    "ExecuteTime": {
     "end_time": "2020-02-08T15:47:43.014485Z",
     "start_time": "2020-02-08T15:47:18.976Z"
    }
   },
   "outputs": [],
   "source": [
    "data = pd.read_csv('train.csv', parse_dates=['epoch'])\n",
    "sat_datas_train = process_for_train(data)"
   ]
  },
  {
   "cell_type": "code",
   "execution_count": null,
   "metadata": {
    "ExecuteTime": {
     "end_time": "2020-02-08T15:47:43.017022Z",
     "start_time": "2020-02-08T15:47:18.978Z"
    }
   },
   "outputs": [],
   "source": [
    "sat_datas_train[0]"
   ]
  },
  {
   "cell_type": "code",
   "execution_count": null,
   "metadata": {
    "ExecuteTime": {
     "end_time": "2020-02-08T15:47:43.021710Z",
     "start_time": "2020-02-08T15:47:18.980Z"
    }
   },
   "outputs": [],
   "source": [
    "def train_new(spoint, sat_id):\n",
    "    seq_len = spoint['seq_len']\n",
    "    hidden_dim = spoint['hidden_dim']\n",
    "    num_layers = spoint['num_layers']\n",
    "    ep = spoint['epoch']\n",
    "    lr = spoint['lr']\n",
    "    eps = spoint['eps']\n",
    "    \n",
    "    train_data = sat_datas_train[sat_id]\n",
    "    if seq_len > int(len(train_data) / 2 - 1):\n",
    "        seq_len = int(len(train_data) / 2 - 1)\n",
    "    x_train = train_data[features]\n",
    "    y_train = train_data[targets]\n",
    "    \n",
    "    model = LSTM(hidden_dim=hidden_dim, seq_len=seq_len, num_layers=num_layers,\n",
    "                 input_dim=x_train.shape[1])\n",
    "    model.train()\n",
    "    optimizer = torch.optim.Adam(params=model.parameters(), lr=lr, eps=eps)\n",
    "    criterion = smape\n",
    "    model.train()\n",
    "    loss_widget = widgets.FloatProgress(min=0, max=1, step=0.01, description='Loss', value=0)  # jupyter widget\n",
    "    display(loss_widget)\n",
    "    train_data = sat_datas_train[sat_id]\n",
    "    x_train = train_data[features]\n",
    "    y_train = train_data[targets]\n",
    "    train_dataset = TrainTestSequenceDataset(x_train, y_train, seq_len=model.seq_len)\n",
    "    train_dataloader = DataLoader(train_dataset, batch_size=1, shuffle=True)\n",
    "    for epoch in tqdm(range(ep)):\n",
    "        for seq_train_x, seq_train_y in train_dataloader:\n",
    "            model.zero_grad()  # refresh gradients\n",
    "            model.init_hidden_cell()\n",
    "            predictions = model(seq_train_x)\n",
    "            loss = criterion(predictions, seq_train_y)\n",
    "            loss_widget.value = loss.mean()\n",
    "            loss.mean().backward()  # compute gradients\n",
    "            optimizer.step()  # update network parameters\n",
    "\n",
    "    model.eval()\n",
    "\n",
    "    return model"
   ]
  },
  {
   "cell_type": "code",
   "execution_count": null,
   "metadata": {
    "ExecuteTime": {
     "end_time": "2020-02-08T15:47:43.026762Z",
     "start_time": "2020-02-08T15:47:18.982Z"
    }
   },
   "outputs": [],
   "source": [
    "for sat_id in range(600):\n",
    "    clear_output()\n",
    "    print(f'Satellite id: {sat_id}')\n",
    "    spoint = best_params\n",
    "    \n",
    "    model= train_new(spoint=spoint, sat_id=sat_id)\n",
    "    if not os.path.exists(f'models//{sat_id}'):\n",
    "        os.makedirs(f'models//{sat_id}')\n",
    "    \n",
    "    torch.save(model, f'models//{sat_id}//model.pt')"
   ]
  },
  {
   "cell_type": "code",
   "execution_count": null,
   "metadata": {
    "ExecuteTime": {
     "end_time": "2020-02-08T15:47:43.032145Z",
     "start_time": "2020-02-08T15:47:18.984Z"
    }
   },
   "outputs": [],
   "source": [
    "sat_id = 599\n",
    "model= train_new(spoint=best_params, sat_id=sat_id)\n",
    "if not os.path.exists(f'models//{sat_id}'):\n",
    "    os.makedirs(f'models//{sat_id}')\n",
    "\n",
    "torch.save(model, f'models//{sat_id}//model.pt')"
   ]
  },
  {
   "cell_type": "code",
   "execution_count": null,
   "metadata": {},
   "outputs": [],
   "source": []
  }
 ],
 "metadata": {
  "kernelspec": {
   "display_name": "Python 3",
   "language": "python",
   "name": "python3"
  },
  "language_info": {
   "codemirror_mode": {
    "name": "ipython",
    "version": 3
   },
   "file_extension": ".py",
   "mimetype": "text/x-python",
   "name": "python",
   "nbconvert_exporter": "python",
   "pygments_lexer": "ipython3",
   "version": "3.6.10"
  }
 },
 "nbformat": 4,
 "nbformat_minor": 4
}
